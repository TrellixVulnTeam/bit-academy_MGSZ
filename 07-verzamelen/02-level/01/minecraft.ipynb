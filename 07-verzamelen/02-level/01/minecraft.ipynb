{
 "cells": [
  {
   "cell_type": "markdown",
   "id": "6befe789",
   "metadata": {},
   "source": [
    "## Het Oog van Mauron"
   ]
  },
  {
   "cell_type": "code",
   "execution_count": 18,
   "id": "a6fcdc92",
   "metadata": {},
   "outputs": [],
   "source": [
    "import python_nbt.nbt as nbt\n",
    "import os\n",
    "import json"
   ]
  },
  {
   "cell_type": "code",
   "execution_count": 17,
   "id": "191a3a9f",
   "metadata": {},
   "outputs": [],
   "source": [
    "path = \"C:/Users/akron/CloudStation/Website/Unonew/Learn/Bit-academy/07-verzamelen/02-01_het_oog_van_mauron/Maurons\"\n",
    "for file in os.listdir(path):\n",
    "    if file.endswith(\".nbt\"):\n",
    "        filename = nbt.read_from_nbt_file(file)"
   ]
  },
  {
   "cell_type": "code",
   "execution_count": 19,
   "id": "d8e98698",
   "metadata": {},
   "outputs": [
    {
     "ename": "NameError",
     "evalue": "name 'filename' is not defined",
     "output_type": "error",
     "traceback": [
      "\u001b[1;31m---------------------------------------------------------------------------\u001b[0m",
      "\u001b[1;31mNameError\u001b[0m                                 Traceback (most recent call last)",
      "\u001b[1;32m<ipython-input-19-f381b312ad96>\u001b[0m in \u001b[0;36m<module>\u001b[1;34m\u001b[0m\n\u001b[1;32m----> 1\u001b[1;33m \u001b[0mdata\u001b[0m \u001b[1;33m=\u001b[0m \u001b[0mfilename\u001b[0m\u001b[1;33m.\u001b[0m\u001b[0mjson_obj\u001b[0m\u001b[1;33m(\u001b[0m\u001b[0mfull_json\u001b[0m\u001b[1;33m=\u001b[0m\u001b[1;32mFalse\u001b[0m\u001b[1;33m)\u001b[0m\u001b[1;33m\u001b[0m\u001b[1;33m\u001b[0m\u001b[0m\n\u001b[0m",
      "\u001b[1;31mNameError\u001b[0m: name 'filename' is not defined"
     ]
    }
   ],
   "source": [
    "data = filename.json_obj(full_json=False)"
   ]
  }
 ],
 "metadata": {
  "kernelspec": {
   "display_name": "Python 3",
   "language": "python",
   "name": "python3"
  },
  "language_info": {
   "codemirror_mode": {
    "name": "ipython",
    "version": 3
   },
   "file_extension": ".py",
   "mimetype": "text/x-python",
   "name": "python",
   "nbconvert_exporter": "python",
   "pygments_lexer": "ipython3",
   "version": "3.9.5"
  }
 },
 "nbformat": 4,
 "nbformat_minor": 5
}
