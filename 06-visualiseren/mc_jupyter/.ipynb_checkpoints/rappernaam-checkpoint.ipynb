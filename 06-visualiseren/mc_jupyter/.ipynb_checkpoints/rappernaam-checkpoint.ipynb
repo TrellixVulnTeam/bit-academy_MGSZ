{
 "cells": [
  {
   "cell_type": "markdown",
   "id": "8f7c38f0",
   "metadata": {},
   "source": [
    "# Maak je eigen rappernaam"
   ]
  },
  {
   "cell_type": "markdown",
   "id": "e29f901f",
   "metadata": {},
   "source": [
    "Dit is een document waar we een rappernaam maken"
   ]
  },
  {
   "cell_type": "code",
   "execution_count": 1,
   "id": "08e00ad9",
   "metadata": {},
   "outputs": [],
   "source": [
    "import random"
   ]
  },
  {
   "cell_type": "markdown",
   "id": "71d958d0",
   "metadata": {},
   "source": [
    "In de bovenstaande code hebben we de random module geimporteerd. Hierdoor maken we wat variabelen aan."
   ]
  },
  {
   "cell_type": "code",
   "execution_count": null,
   "id": "85da7d24",
   "metadata": {},
   "outputs": [],
   "source": [
    "naam = input(\"Wat is jouw naam? \")\n",
    "meubelstuk = input(\"Wat is jouw favorite meubelstuk? \")\n",
    "keukengerei = input(\"Wat voor voorwerp uit de keuken heb je voor het laatst gebruikt? \")\n",
    "voedsel = input(\"Wat is je lievelingseten? \")\n",
    "kleur = input(\"Wat is je leivelingskleur? \")"
   ]
  },
  {
   "cell_type": "markdown",
   "id": "0d7a8122",
   "metadata": {},
   "source": [
    "In het volgende stukje code wordt er een functie gedefinieerd die een rappernaam kan maken. Deze functie gaan we later gebruiken om voor de gebruiker een rappernaam te bouwen"
   ]
  },
  {
   "cell_type": "code",
   "execution_count": null,
   "id": "250fd7e1",
   "metadata": {},
   "outputs": [],
   "source": [
    "def genereer_rapper_naam(naam, kleur, gek_woord):\n",
    "    voorstukje = random.choice([\"Lil\", \"Big\", kleur, \"Mac\", \"MC\"])\n",
    "    \n",
    "    if random.random() < 0.25:\n",
    "        return voorstukje + ' ' + naam + ' ' + gek_woord\n",
    "    else:\n",
    "        return voorstukje + ' ' + gek_woord"
   ]
  },
  {
   "cell_type": "markdown",
   "id": "7d66e5fa",
   "metadata": {},
   "source": [
    "Als het volgende stukje code runt, dan genereer je je eigen rappernaam! Als je een nieuwe naam wil, kun je het stukje nog een keer runnen. Als je andere variabelen wil gebruiken, dan kun je een nieuwe naam, leeftijd en lievelingskleur bovenaan opnieuw invullen."
   ]
  },
  {
   "cell_type": "code",
   "execution_count": null,
   "id": "2a432ebd",
   "metadata": {},
   "outputs": [],
   "source": [
    "gek_woord = random.choice([meubelstuk, keukengerei, voedsel])\n",
    "rappernaam = genereer_rapper_naam(naam, kleur, gek_woord)\n",
    "print(\"Jouw rappernaam is \" + rappernaam)"
   ]
  },
  {
   "cell_type": "code",
   "execution_count": null,
   "id": "4ef1a761",
   "metadata": {},
   "outputs": [],
   "source": []
  },
  {
   "cell_type": "code",
   "execution_count": null,
   "id": "ee286d39",
   "metadata": {},
   "outputs": [],
   "source": []
  }
 ],
 "metadata": {
  "kernelspec": {
   "display_name": "Python 3",
   "language": "python",
   "name": "python3"
  },
  "language_info": {
   "codemirror_mode": {
    "name": "ipython",
    "version": 3
   },
   "file_extension": ".py",
   "mimetype": "text/x-python",
   "name": "python",
   "nbconvert_exporter": "python",
   "pygments_lexer": "ipython3",
   "version": "3.9.5"
  }
 },
 "nbformat": 4,
 "nbformat_minor": 5
}
