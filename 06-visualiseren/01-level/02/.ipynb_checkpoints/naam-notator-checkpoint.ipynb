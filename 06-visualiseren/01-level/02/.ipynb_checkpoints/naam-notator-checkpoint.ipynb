{
 "cells": [
  {
   "cell_type": "markdown",
   "id": "6c5ab5c4",
   "metadata": {},
   "source": [
    "Dit is mijn eerste Notebook! Ik schrijf hier een programma."
   ]
  },
  {
   "cell_type": "code",
   "execution_count": 2,
   "id": "fc431c5a",
   "metadata": {
    "scrolled": true
   },
   "outputs": [
    {
     "name": "stdout",
     "output_type": "stream",
     "text": [
      "Wat is jouw naam? Caner\n",
      "Hallo Caner!\n"
     ]
    }
   ],
   "source": [
    "naam = input(\"Wat is jouw naam? \")\n",
    "print(\"Hallo \" + naam + \"!\")"
   ]
  },
  {
   "cell_type": "code",
   "execution_count": 3,
   "id": "f2de5ecd",
   "metadata": {},
   "outputs": [
    {
     "name": "stdout",
     "output_type": "stream",
     "text": [
      "Caner\n"
     ]
    }
   ],
   "source": [
    "print(\"Caner\")"
   ]
  },
  {
   "cell_type": "code",
   "execution_count": 4,
   "id": "981a74e0",
   "metadata": {},
   "outputs": [
    {
     "data": {
      "text/plain": [
       "'Caner'"
      ]
     },
     "execution_count": 4,
     "metadata": {},
     "output_type": "execute_result"
    }
   ],
   "source": [
    "naam"
   ]
  },
  {
   "cell_type": "code",
   "execution_count": null,
   "id": "557dda94",
   "metadata": {},
   "outputs": [],
   "source": []
  }
 ],
 "metadata": {
  "kernelspec": {
   "display_name": "Python 3",
   "language": "python",
   "name": "python3"
  },
  "language_info": {
   "codemirror_mode": {
    "name": "ipython",
    "version": 3
   },
   "file_extension": ".py",
   "mimetype": "text/x-python",
   "name": "python",
   "nbconvert_exporter": "python",
   "pygments_lexer": "ipython3",
   "version": "3.9.5"
  }
 },
 "nbformat": 4,
 "nbformat_minor": 5
}
