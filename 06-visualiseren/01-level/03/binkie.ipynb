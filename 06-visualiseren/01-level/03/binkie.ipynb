{
 "cells": [
  {
   "cell_type": "markdown",
   "id": "bed2d71c",
   "metadata": {},
   "source": [
    "# Coolste document ter wereld\n",
    "\n",
    "Hallo, mijn naam is **Binkie de Beer** en ik houd van eten! Mijn favotiete gerechten zijn:\n",
    "\n",
    "- Gebakken vis;\n",
    "- Gebraden vis;\n",
    "- Gepofte vis met *veel* pindasaus;\n",
    "\n",
    "## Wat ik hier doe\n",
    "\n",
    "Ik ben een programmeur! Dit doe ik voornamelijk omdat ik intelligent ben. Kijk maar!\n",
    "\n",
    "1. Ik kan Python programmeren;\n",
    "2. Ik kan HTML schrijven;\n",
    "3. Ik kan Markdown schrijven;\n",
    "4. Ik kan vier dingen opsommen!\n",
    "\n",
    "Ik ben de intelligenste beer die je ooit zult tegenkomen! Geloof je me niet? [Google het maar](https://google.com/), dan zul je het zelf zien!"
   ]
  },
  {
   "cell_type": "code",
   "execution_count": null,
   "id": "0343f222",
   "metadata": {},
   "outputs": [],
   "source": [
    "print(\"Wauw!\")"
   ]
  }
 ],
 "metadata": {
  "kernelspec": {
   "display_name": "Python 3",
   "language": "python",
   "name": "python3"
  },
  "language_info": {
   "codemirror_mode": {
    "name": "ipython",
    "version": 3
   },
   "file_extension": ".py",
   "mimetype": "text/x-python",
   "name": "python",
   "nbconvert_exporter": "python",
   "pygments_lexer": "ipython3",
   "version": "3.9.5"
  }
 },
 "nbformat": 4,
 "nbformat_minor": 5
}
