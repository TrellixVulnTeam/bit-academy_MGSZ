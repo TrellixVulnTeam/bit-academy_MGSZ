{
 "cells": [
  {
   "cell_type": "markdown",
   "id": "db78ad02",
   "metadata": {},
   "source": [
    "# Pokemon"
   ]
  },
  {
   "cell_type": "markdown",
   "id": "b44a8ba5",
   "metadata": {},
   "source": [
    "We installeren pandas."
   ]
  },
  {
   "cell_type": "code",
   "execution_count": 7,
   "id": "bbec1190",
   "metadata": {},
   "outputs": [],
   "source": [
    "import pandas as pd"
   ]
  },
  {
   "cell_type": "markdown",
   "id": "85917e23",
   "metadata": {},
   "source": [
    "We installeren seaborn."
   ]
  },
  {
   "cell_type": "code",
   "execution_count": 8,
   "id": "d656d94a",
   "metadata": {},
   "outputs": [],
   "source": [
    "import seaborn as sns"
   ]
  },
  {
   "cell_type": "markdown",
   "id": "ba773825",
   "metadata": {},
   "source": [
    "We installeren matplotlib."
   ]
  },
  {
   "cell_type": "code",
   "execution_count": 9,
   "id": "ca8f445f",
   "metadata": {},
   "outputs": [],
   "source": [
    "import matplotlib.pyplot as plt"
   ]
  },
  {
   "cell_type": "markdown",
   "id": "ce4f1db7",
   "metadata": {},
   "source": [
    "We importeren CSV file."
   ]
  },
  {
   "cell_type": "code",
   "execution_count": 10,
   "id": "d24e21a7",
   "metadata": {},
   "outputs": [],
   "source": [
    "ds = pd.read_csv(\"pokemon_small.csv\", index_col=0)"
   ]
  },
  {
   "cell_type": "markdown",
   "id": "89c13292",
   "metadata": {},
   "source": [
    "We printen dataset."
   ]
  },
  {
   "cell_type": "code",
   "execution_count": 11,
   "id": "d5ec10d9",
   "metadata": {},
   "outputs": [
    {
     "data": {
      "text/html": [
       "<div>\n",
       "<style scoped>\n",
       "    .dataframe tbody tr th:only-of-type {\n",
       "        vertical-align: middle;\n",
       "    }\n",
       "\n",
       "    .dataframe tbody tr th {\n",
       "        vertical-align: top;\n",
       "    }\n",
       "\n",
       "    .dataframe thead th {\n",
       "        text-align: right;\n",
       "    }\n",
       "</style>\n",
       "<table border=\"1\" class=\"dataframe\">\n",
       "  <thead>\n",
       "    <tr style=\"text-align: right;\">\n",
       "      <th></th>\n",
       "      <th>Name</th>\n",
       "      <th>Type 1</th>\n",
       "      <th>Type 2</th>\n",
       "      <th>Total</th>\n",
       "      <th>HP</th>\n",
       "      <th>Attack</th>\n",
       "      <th>Defense</th>\n",
       "      <th>Sp. Atk</th>\n",
       "      <th>Sp. Def</th>\n",
       "      <th>Speed</th>\n",
       "      <th>Stage</th>\n",
       "      <th>Legendary</th>\n",
       "    </tr>\n",
       "  </thead>\n",
       "  <tbody>\n",
       "    <tr>\n",
       "      <th>1</th>\n",
       "      <td>Bulbasaur</td>\n",
       "      <td>Grass</td>\n",
       "      <td>Poison</td>\n",
       "      <td>318</td>\n",
       "      <td>45</td>\n",
       "      <td>49</td>\n",
       "      <td>49</td>\n",
       "      <td>65</td>\n",
       "      <td>65</td>\n",
       "      <td>45</td>\n",
       "      <td>1</td>\n",
       "      <td>False</td>\n",
       "    </tr>\n",
       "    <tr>\n",
       "      <th>2</th>\n",
       "      <td>Ivysaur</td>\n",
       "      <td>Grass</td>\n",
       "      <td>Poison</td>\n",
       "      <td>405</td>\n",
       "      <td>60</td>\n",
       "      <td>62</td>\n",
       "      <td>63</td>\n",
       "      <td>80</td>\n",
       "      <td>80</td>\n",
       "      <td>60</td>\n",
       "      <td>2</td>\n",
       "      <td>False</td>\n",
       "    </tr>\n",
       "    <tr>\n",
       "      <th>3</th>\n",
       "      <td>Venusaur</td>\n",
       "      <td>Grass</td>\n",
       "      <td>Poison</td>\n",
       "      <td>525</td>\n",
       "      <td>80</td>\n",
       "      <td>82</td>\n",
       "      <td>83</td>\n",
       "      <td>100</td>\n",
       "      <td>100</td>\n",
       "      <td>80</td>\n",
       "      <td>3</td>\n",
       "      <td>False</td>\n",
       "    </tr>\n",
       "    <tr>\n",
       "      <th>4</th>\n",
       "      <td>Charmander</td>\n",
       "      <td>Fire</td>\n",
       "      <td>NaN</td>\n",
       "      <td>309</td>\n",
       "      <td>39</td>\n",
       "      <td>52</td>\n",
       "      <td>43</td>\n",
       "      <td>60</td>\n",
       "      <td>50</td>\n",
       "      <td>65</td>\n",
       "      <td>1</td>\n",
       "      <td>False</td>\n",
       "    </tr>\n",
       "    <tr>\n",
       "      <th>5</th>\n",
       "      <td>Charmeleon</td>\n",
       "      <td>Fire</td>\n",
       "      <td>NaN</td>\n",
       "      <td>405</td>\n",
       "      <td>58</td>\n",
       "      <td>64</td>\n",
       "      <td>58</td>\n",
       "      <td>80</td>\n",
       "      <td>65</td>\n",
       "      <td>80</td>\n",
       "      <td>2</td>\n",
       "      <td>False</td>\n",
       "    </tr>\n",
       "    <tr>\n",
       "      <th>...</th>\n",
       "      <td>...</td>\n",
       "      <td>...</td>\n",
       "      <td>...</td>\n",
       "      <td>...</td>\n",
       "      <td>...</td>\n",
       "      <td>...</td>\n",
       "      <td>...</td>\n",
       "      <td>...</td>\n",
       "      <td>...</td>\n",
       "      <td>...</td>\n",
       "      <td>...</td>\n",
       "      <td>...</td>\n",
       "    </tr>\n",
       "    <tr>\n",
       "      <th>147</th>\n",
       "      <td>Dratini</td>\n",
       "      <td>Dragon</td>\n",
       "      <td>NaN</td>\n",
       "      <td>300</td>\n",
       "      <td>41</td>\n",
       "      <td>64</td>\n",
       "      <td>45</td>\n",
       "      <td>50</td>\n",
       "      <td>50</td>\n",
       "      <td>50</td>\n",
       "      <td>1</td>\n",
       "      <td>False</td>\n",
       "    </tr>\n",
       "    <tr>\n",
       "      <th>148</th>\n",
       "      <td>Dragonair</td>\n",
       "      <td>Dragon</td>\n",
       "      <td>NaN</td>\n",
       "      <td>420</td>\n",
       "      <td>61</td>\n",
       "      <td>84</td>\n",
       "      <td>65</td>\n",
       "      <td>70</td>\n",
       "      <td>70</td>\n",
       "      <td>70</td>\n",
       "      <td>2</td>\n",
       "      <td>False</td>\n",
       "    </tr>\n",
       "    <tr>\n",
       "      <th>149</th>\n",
       "      <td>Dragonite</td>\n",
       "      <td>Dragon</td>\n",
       "      <td>Flying</td>\n",
       "      <td>600</td>\n",
       "      <td>91</td>\n",
       "      <td>134</td>\n",
       "      <td>95</td>\n",
       "      <td>100</td>\n",
       "      <td>100</td>\n",
       "      <td>80</td>\n",
       "      <td>3</td>\n",
       "      <td>False</td>\n",
       "    </tr>\n",
       "    <tr>\n",
       "      <th>150</th>\n",
       "      <td>Mewtwo</td>\n",
       "      <td>Psychic</td>\n",
       "      <td>NaN</td>\n",
       "      <td>680</td>\n",
       "      <td>106</td>\n",
       "      <td>110</td>\n",
       "      <td>90</td>\n",
       "      <td>154</td>\n",
       "      <td>90</td>\n",
       "      <td>130</td>\n",
       "      <td>1</td>\n",
       "      <td>True</td>\n",
       "    </tr>\n",
       "    <tr>\n",
       "      <th>151</th>\n",
       "      <td>Mew</td>\n",
       "      <td>Psychic</td>\n",
       "      <td>NaN</td>\n",
       "      <td>600</td>\n",
       "      <td>100</td>\n",
       "      <td>100</td>\n",
       "      <td>100</td>\n",
       "      <td>100</td>\n",
       "      <td>100</td>\n",
       "      <td>100</td>\n",
       "      <td>1</td>\n",
       "      <td>False</td>\n",
       "    </tr>\n",
       "  </tbody>\n",
       "</table>\n",
       "<p>151 rows × 12 columns</p>\n",
       "</div>"
      ],
      "text/plain": [
       "           Name   Type 1  Type 2  Total   HP  Attack  Defense  Sp. Atk  \\\n",
       "1     Bulbasaur    Grass  Poison    318   45      49       49       65   \n",
       "2       Ivysaur    Grass  Poison    405   60      62       63       80   \n",
       "3      Venusaur    Grass  Poison    525   80      82       83      100   \n",
       "4    Charmander     Fire     NaN    309   39      52       43       60   \n",
       "5    Charmeleon     Fire     NaN    405   58      64       58       80   \n",
       "..          ...      ...     ...    ...  ...     ...      ...      ...   \n",
       "147     Dratini   Dragon     NaN    300   41      64       45       50   \n",
       "148   Dragonair   Dragon     NaN    420   61      84       65       70   \n",
       "149   Dragonite   Dragon  Flying    600   91     134       95      100   \n",
       "150      Mewtwo  Psychic     NaN    680  106     110       90      154   \n",
       "151         Mew  Psychic     NaN    600  100     100      100      100   \n",
       "\n",
       "     Sp. Def  Speed  Stage  Legendary  \n",
       "1         65     45      1      False  \n",
       "2         80     60      2      False  \n",
       "3        100     80      3      False  \n",
       "4         50     65      1      False  \n",
       "5         65     80      2      False  \n",
       "..       ...    ...    ...        ...  \n",
       "147       50     50      1      False  \n",
       "148       70     70      2      False  \n",
       "149      100     80      3      False  \n",
       "150       90    130      1       True  \n",
       "151      100    100      1      False  \n",
       "\n",
       "[151 rows x 12 columns]"
      ]
     },
     "execution_count": 11,
     "metadata": {},
     "output_type": "execute_result"
    }
   ],
   "source": [
    "ds"
   ]
  },
  {
   "cell_type": "markdown",
   "id": "77bb7b8e",
   "metadata": {},
   "source": [
    "Er is een histogramplot van de verdeling van HP, zonder specificatie van het aantal bins."
   ]
  },
  {
   "cell_type": "code",
   "execution_count": 12,
   "id": "bf68b482",
   "metadata": {
    "scrolled": false
   },
   "outputs": [
    {
     "data": {
      "image/png": "[encoded data removed]",
      "text/plain": [
       "<Figure size 720x720 with 1 Axes>"
      ]
     },
     "metadata": {
      "needs_background": "light"
     },
     "output_type": "display_data"
    }
   ],
   "source": [
    "plt.figure(figsize=(10, 10))\n",
    "sns.histplot(ds.HP);"
   ]
  },
  {
   "cell_type": "markdown",
   "id": "07591404",
   "metadata": {},
   "source": [
    "Er is een histogramplot van de verdeling van HP, nu met 35 bins."
   ]
  },
  {
   "cell_type": "code",
   "execution_count": 13,
   "id": "19d85e04",
   "metadata": {
    "scrolled": false
   },
   "outputs": [
    {
     "data": {
      "image/png": "[encoded data removed]",
      "text/plain": [
       "<Figure size 720x720 with 1 Axes>"
      ]
     },
     "metadata": {
      "needs_background": "light"
     },
     "output_type": "display_data"
    }
   ],
   "source": [
    "plt.figure(figsize=(10, 10))\n",
    "sns.histplot(ds.HP, bins=35);"
   ]
  },
  {
   "cell_type": "markdown",
   "id": "d63d05f5",
   "metadata": {},
   "source": [
    "Voordeel hoog:\n",
    "- de kolommen zijn op de \"HP\" as beter verdeeld. Data is beter zichtbaar en niet vertekend.\n",
    "\n",
    "Nadeel laag/default:\n",
    "- de kolommen zijn dicht verdeeld over de \"HP\" as. Data is vertekend. Zie bijvoorbeeld HP 150.\n"
   ]
  },
  {
   "cell_type": "markdown",
   "id": "e02070ee",
   "metadata": {},
   "source": [
    "## Scatterplot"
   ]
  },
  {
   "cell_type": "markdown",
   "id": "f712dfce",
   "metadata": {},
   "source": [
    "Maak een scatterplot met de kolom Attack op de x-as en HP op de y-as."
   ]
  },
  {
   "cell_type": "code",
   "execution_count": 14,
   "id": "6336cd90",
   "metadata": {
    "scrolled": false
   },
   "outputs": [
    {
     "data": {
      "text/plain": [
       "<seaborn.axisgrid.FacetGrid at 0x24bffa763d0>"
      ]
     },
     "execution_count": 14,
     "metadata": {},
     "output_type": "execute_result"
    },
    {
     "data": {
      "text/plain": [
       "<Figure size 1440x1440 with 0 Axes>"
      ]
     },
     "metadata": {},
     "output_type": "display_data"
    },
    {
     "data": {
      "image/png": "[encoded data removed]",
      "text/plain": [
       "<Figure size 360x360 with 1 Axes>"
      ]
     },
     "metadata": {
      "needs_background": "light"
     },
     "output_type": "display_data"
    }
   ],
   "source": [
    "plt.figure(figsize=(20, 20))\n",
    "sns.lmplot(x=\"Attack\", y=\"HP\", data=ds)"
   ]
  },
  {
   "cell_type": "markdown",
   "id": "49a36d00",
   "metadata": {},
   "source": [
    "Leg aan de hand van de scatterplot uit of stelling 1 klopt of niet.\n",
    "De stelling is; hoe hoger een POKéMONs attack, des te hoger hun HP is.\n",
    "De stelling is juist. Er is een matige positieve correlatie te zien tussen Attack en HP."
   ]
  },
  {
   "cell_type": "markdown",
   "id": "838c6569",
   "metadata": {},
   "source": [
    "Maak een scatterplot met de kolom Attack op de x-as en Speed op de y-as."
   ]
  },
  {
   "cell_type": "code",
   "execution_count": 15,
   "id": "2a463751",
   "metadata": {
    "scrolled": false
   },
   "outputs": [
    {
     "data": {
      "text/plain": [
       "<seaborn.axisgrid.FacetGrid at 0x24bffa85250>"
      ]
     },
     "execution_count": 15,
     "metadata": {},
     "output_type": "execute_result"
    },
    {
     "data": {
      "text/plain": [
       "<Figure size 1440x1440 with 0 Axes>"
      ]
     },
     "metadata": {},
     "output_type": "display_data"
    },
    {
     "data": {
      "image/png": "[encoded data removed]",
      "text/plain": [
       "<Figure size 360x360 with 1 Axes>"
      ]
     },
     "metadata": {
      "needs_background": "light"
     },
     "output_type": "display_data"
    }
   ],
   "source": [
    "plt.figure(figsize=(20, 20))\n",
    "sns.lmplot(x=\"Attack\", y=\"Speed\", data=ds)"
   ]
  },
  {
   "cell_type": "markdown",
   "id": "3d606934",
   "metadata": {},
   "source": [
    "Leg aan de hand van de scatterplot uit of stelling 2 klopt of niet,\n",
    "De stelling is; hoe hoger een POKéMONs attack, des te hoger hun snelheid is.\n",
    "De stelling klopt niet. Er is een slechte positieve correlatie te tussen Attack en Speed. "
   ]
  },
  {
   "cell_type": "markdown",
   "id": "4d309ba7",
   "metadata": {},
   "source": [
    "Maak de scatterplot van stap 1 nog een keer, maar geef POKéMONs van verschillende Stage waardes een verschillende kleur."
   ]
  },
  {
   "cell_type": "code",
   "execution_count": 16,
   "id": "748db0ad",
   "metadata": {
    "scrolled": false
   },
   "outputs": [
    {
     "data": {
      "text/plain": [
       "<seaborn.axisgrid.FacetGrid at 0x24bfff39d30>"
      ]
     },
     "execution_count": 16,
     "metadata": {},
     "output_type": "execute_result"
    },
    {
     "data": {
      "text/plain": [
       "<Figure size 1440x1440 with 0 Axes>"
      ]
     },
     "metadata": {},
     "output_type": "display_data"
    },
    {
     "data": {
      "image/png": "[encoded data removed]",
      "text/plain": [
       "<Figure size 402.375x360 with 1 Axes>"
      ]
     },
     "metadata": {
      "needs_background": "light"
     },
     "output_type": "display_data"
    }
   ],
   "source": [
    "plt.figure(figsize=(20, 20))\n",
    "sns.lmplot(x=\"Attack\", y=\"HP\", data=ds, hue='Stage')"
   ]
  },
  {
   "cell_type": "markdown",
   "id": "ba63ee53",
   "metadata": {},
   "source": [
    "Beschrijf de verbanden die je ziet in deze scatterplot.\n",
    "\n"
   ]
  },
  {
   "cell_type": "markdown",
   "id": "5de52b99",
   "metadata": {},
   "source": [
    "Maak de scatterplot van stap 2 nog een keer, maar geef POKéMONs van verschillende Stage waardes een verschillende kleur."
   ]
  },
  {
   "cell_type": "code",
   "execution_count": 17,
   "id": "a79559bd",
   "metadata": {
    "scrolled": false
   },
   "outputs": [
    {
     "data": {
      "text/plain": [
       "<seaborn.axisgrid.FacetGrid at 0x24b881509d0>"
      ]
     },
     "execution_count": 17,
     "metadata": {},
     "output_type": "execute_result"
    },
    {
     "data": {
      "text/plain": [
       "<Figure size 1440x1440 with 0 Axes>"
      ]
     },
     "metadata": {},
     "output_type": "display_data"
    },
    {
     "data": {
      "image/png": "[encoded data removed]",
      "text/plain": [
       "<Figure size 402.375x360 with 1 Axes>"
      ]
     },
     "metadata": {
      "needs_background": "light"
     },
     "output_type": "display_data"
    }
   ],
   "source": [
    "plt.figure(figsize=(20, 20))\n",
    "sns.lmplot(x=\"Attack\", y=\"Speed\", data=ds, hue='Stage')"
   ]
  },
  {
   "cell_type": "markdown",
   "id": "c167adda",
   "metadata": {},
   "source": [
    "Beschrijf de verbanden die je ziet in deze scatterplot.\n"
   ]
  },
  {
   "cell_type": "markdown",
   "id": "5a228970",
   "metadata": {},
   "source": [
    "Concludeer en leg uit aan de hand van stap 5 t/m 8 of stelling 3 klopt of niet.\n",
    "De stelling is; het evolutie niveau (aangeduid met Stage) heeft een verband met de HP, snelheid en attack van de POKéMON.\n",
    "- Er is sprake van een matige positieve correlatie tussen Attack en HP in de verschillende evolutie niveau's.\n",
    "- We zien bij de verschillende stages tussen Attack en Speed dat er een slechte positieve en slechte negatieve correlatie is tussen Attack en Speed."
   ]
  },
  {
   "cell_type": "markdown",
   "id": "81c1eccb",
   "metadata": {},
   "source": [
    "## Boxplots"
   ]
  },
  {
   "cell_type": "markdown",
   "id": "d41509fe",
   "metadata": {},
   "source": [
    "Maak een boxplot met Stage op de x-as en Total op de y-as."
   ]
  },
  {
   "cell_type": "code",
   "execution_count": 18,
   "id": "476a1ae2",
   "metadata": {},
   "outputs": [
    {
     "data": {
      "text/plain": [
       "<AxesSubplot:xlabel='Stage', ylabel='Total'>"
      ]
     },
     "execution_count": 18,
     "metadata": {},
     "output_type": "execute_result"
    },
    {
     "data": {
      "image/png": "[encoded data removed]",
      "text/plain": [
       "<Figure size 720x720 with 1 Axes>"
      ]
     },
     "metadata": {
      "needs_background": "light"
     },
     "output_type": "display_data"
    }
   ],
   "source": [
    "plt.figure(figsize=(10, 10))\n",
    "sns.boxplot(x='Stage', y='Total', data=ds)"
   ]
  },
  {
   "cell_type": "markdown",
   "id": "8da25778",
   "metadata": {},
   "source": [
    "Stelling 1: Alle POKéMONs van evolutieniveau 3 hebben een hogere totale stat dan de onderste 75% Pokemon van evolutieniveau 1.\n",
    "\n",
    "Stelling 1 is onwaar: er zijn namelijk 2 POKéMONs voor wie stelling 1 NIET geldt. Leg uit hoe je dit uit de grafiek kunt aflezen. \n",
    "\n",
    "Toelichting: Je ziet bij Stage 3 twee outliers buiten de boxplot. Deze zijn aangegeven met een diamond point."
   ]
  },
  {
   "cell_type": "markdown",
   "id": "f43a3f25",
   "metadata": {},
   "source": [
    "Challenge: (optioneel) probeer uit te zoeken welke twee POKéMONs dit zijn."
   ]
  },
  {
   "cell_type": "code",
   "execution_count": 19,
   "id": "53ffd6e5",
   "metadata": {},
   "outputs": [],
   "source": [
    "# nw_ds = ds[['Stage', 'Total', 'Name']]\n",
    "# stage3 = nw_ds.loc(['Stage'] == \"3\")\n",
    "# stage3"
   ]
  },
  {
   "cell_type": "markdown",
   "id": "abfbea39",
   "metadata": {},
   "source": [
    "Maak een boxplot zoals in stap 1, maar onderscheid nu tussen POKéMONs die wel of niet legendarisch zijn."
   ]
  },
  {
   "cell_type": "markdown",
   "id": "571e188e",
   "metadata": {},
   "source": [
    "Stelling 2: De mediaan van total stats voor evolutie level 3 hoger ligt dan het 75ste percentiel van Pokemon van evolutieniveau 2.\n",
    "\n",
    "Leg uit of stelling 2 klopt of niet. Gebruik de boxplot die je in stap 1 hebt gemaakt voor je uitleg.\n",
    "\n",
    "Stelling 2 is waar."
   ]
  },
  {
   "cell_type": "code",
   "execution_count": 20,
   "id": "595c8b0d",
   "metadata": {},
   "outputs": [
    {
     "data": {
      "text/plain": [
       "<AxesSubplot:xlabel='Stage', ylabel='Total'>"
      ]
     },
     "execution_count": 20,
     "metadata": {},
     "output_type": "execute_result"
    },
    {
     "data": {
      "image/png": "[encoded data removed]",
      "text/plain": [
       "<Figure size 720x720 with 1 Axes>"
      ]
     },
     "metadata": {
      "needs_background": "light"
     },
     "output_type": "display_data"
    }
   ],
   "source": [
    "plt.figure(figsize=(10, 10))\n",
    "sns.boxplot(x='Stage', y='Total', data=ds, hue='Legendary')"
   ]
  },
  {
   "cell_type": "markdown",
   "id": "13d1a371",
   "metadata": {},
   "source": [
    "Vergelijk de twee boxplots (uit stap 1 en 4) met elkaar, en leg uit of de legendarische POKéMONs de boxplot voor stage 1 sterk beïnvloeden.\n",
    "\n",
    "De legendarische Pokemons beinvloeden de boxplot van stage 1 niet. "
   ]
  },
  {
   "cell_type": "markdown",
   "id": "042f0681",
   "metadata": {},
   "source": [
    "## Violinplot"
   ]
  },
  {
   "cell_type": "markdown",
   "id": "c7213c6f",
   "metadata": {},
   "source": [
    "Maak een nieuw DataFrame-object waarin alleen POKéMONs voorkomen die als Type 1 de waarde Water, Grass, Fire of Bug hebben - en zorg ervoor dat je alle POKéMONs van stage 3 weghaalt."
   ]
  },
  {
   "cell_type": "code",
   "execution_count": 21,
   "id": "ffa1b57f",
   "metadata": {},
   "outputs": [
    {
     "data": {
      "text/html": [
       "<div>\n",
       "<style scoped>\n",
       "    .dataframe tbody tr th:only-of-type {\n",
       "        vertical-align: middle;\n",
       "    }\n",
       "\n",
       "    .dataframe tbody tr th {\n",
       "        vertical-align: top;\n",
       "    }\n",
       "\n",
       "    .dataframe thead th {\n",
       "        text-align: right;\n",
       "    }\n",
       "</style>\n",
       "<table border=\"1\" class=\"dataframe\">\n",
       "  <thead>\n",
       "    <tr style=\"text-align: right;\">\n",
       "      <th></th>\n",
       "      <th>Name</th>\n",
       "      <th>Type 1</th>\n",
       "      <th>Type 2</th>\n",
       "      <th>Total</th>\n",
       "      <th>HP</th>\n",
       "      <th>Attack</th>\n",
       "      <th>Defense</th>\n",
       "      <th>Sp. Atk</th>\n",
       "      <th>Sp. Def</th>\n",
       "      <th>Speed</th>\n",
       "      <th>Stage</th>\n",
       "      <th>Legendary</th>\n",
       "    </tr>\n",
       "  </thead>\n",
       "  <tbody>\n",
       "    <tr>\n",
       "      <th>1</th>\n",
       "      <td>Bulbasaur</td>\n",
       "      <td>Grass</td>\n",
       "      <td>Poison</td>\n",
       "      <td>318</td>\n",
       "      <td>45</td>\n",
       "      <td>49</td>\n",
       "      <td>49</td>\n",
       "      <td>65</td>\n",
       "      <td>65</td>\n",
       "      <td>45</td>\n",
       "      <td>1</td>\n",
       "      <td>False</td>\n",
       "    </tr>\n",
       "    <tr>\n",
       "      <th>2</th>\n",
       "      <td>Ivysaur</td>\n",
       "      <td>Grass</td>\n",
       "      <td>Poison</td>\n",
       "      <td>405</td>\n",
       "      <td>60</td>\n",
       "      <td>62</td>\n",
       "      <td>63</td>\n",
       "      <td>80</td>\n",
       "      <td>80</td>\n",
       "      <td>60</td>\n",
       "      <td>2</td>\n",
       "      <td>False</td>\n",
       "    </tr>\n",
       "    <tr>\n",
       "      <th>4</th>\n",
       "      <td>Charmander</td>\n",
       "      <td>Fire</td>\n",
       "      <td>NaN</td>\n",
       "      <td>309</td>\n",
       "      <td>39</td>\n",
       "      <td>52</td>\n",
       "      <td>43</td>\n",
       "      <td>60</td>\n",
       "      <td>50</td>\n",
       "      <td>65</td>\n",
       "      <td>1</td>\n",
       "      <td>False</td>\n",
       "    </tr>\n",
       "    <tr>\n",
       "      <th>5</th>\n",
       "      <td>Charmeleon</td>\n",
       "      <td>Fire</td>\n",
       "      <td>NaN</td>\n",
       "      <td>405</td>\n",
       "      <td>58</td>\n",
       "      <td>64</td>\n",
       "      <td>58</td>\n",
       "      <td>80</td>\n",
       "      <td>65</td>\n",
       "      <td>80</td>\n",
       "      <td>2</td>\n",
       "      <td>False</td>\n",
       "    </tr>\n",
       "    <tr>\n",
       "      <th>7</th>\n",
       "      <td>Squirtle</td>\n",
       "      <td>Water</td>\n",
       "      <td>NaN</td>\n",
       "      <td>314</td>\n",
       "      <td>44</td>\n",
       "      <td>48</td>\n",
       "      <td>65</td>\n",
       "      <td>50</td>\n",
       "      <td>64</td>\n",
       "      <td>43</td>\n",
       "      <td>1</td>\n",
       "      <td>False</td>\n",
       "    </tr>\n",
       "    <tr>\n",
       "      <th>8</th>\n",
       "      <td>Wartortle</td>\n",
       "      <td>Water</td>\n",
       "      <td>NaN</td>\n",
       "      <td>405</td>\n",
       "      <td>59</td>\n",
       "      <td>63</td>\n",
       "      <td>80</td>\n",
       "      <td>65</td>\n",
       "      <td>80</td>\n",
       "      <td>58</td>\n",
       "      <td>2</td>\n",
       "      <td>False</td>\n",
       "    </tr>\n",
       "    <tr>\n",
       "      <th>10</th>\n",
       "      <td>Caterpie</td>\n",
       "      <td>Bug</td>\n",
       "      <td>NaN</td>\n",
       "      <td>195</td>\n",
       "      <td>45</td>\n",
       "      <td>30</td>\n",
       "      <td>35</td>\n",
       "      <td>20</td>\n",
       "      <td>20</td>\n",
       "      <td>45</td>\n",
       "      <td>1</td>\n",
       "      <td>False</td>\n",
       "    </tr>\n",
       "    <tr>\n",
       "      <th>11</th>\n",
       "      <td>Metapod</td>\n",
       "      <td>Bug</td>\n",
       "      <td>NaN</td>\n",
       "      <td>205</td>\n",
       "      <td>50</td>\n",
       "      <td>20</td>\n",
       "      <td>55</td>\n",
       "      <td>25</td>\n",
       "      <td>25</td>\n",
       "      <td>30</td>\n",
       "      <td>2</td>\n",
       "      <td>False</td>\n",
       "    </tr>\n",
       "    <tr>\n",
       "      <th>13</th>\n",
       "      <td>Weedle</td>\n",
       "      <td>Bug</td>\n",
       "      <td>Poison</td>\n",
       "      <td>195</td>\n",
       "      <td>40</td>\n",
       "      <td>35</td>\n",
       "      <td>30</td>\n",
       "      <td>20</td>\n",
       "      <td>20</td>\n",
       "      <td>50</td>\n",
       "      <td>1</td>\n",
       "      <td>False</td>\n",
       "    </tr>\n",
       "    <tr>\n",
       "      <th>14</th>\n",
       "      <td>Kakuna</td>\n",
       "      <td>Bug</td>\n",
       "      <td>Poison</td>\n",
       "      <td>205</td>\n",
       "      <td>45</td>\n",
       "      <td>25</td>\n",
       "      <td>50</td>\n",
       "      <td>25</td>\n",
       "      <td>25</td>\n",
       "      <td>35</td>\n",
       "      <td>2</td>\n",
       "      <td>False</td>\n",
       "    </tr>\n",
       "    <tr>\n",
       "      <th>37</th>\n",
       "      <td>Vulpix</td>\n",
       "      <td>Fire</td>\n",
       "      <td>NaN</td>\n",
       "      <td>299</td>\n",
       "      <td>38</td>\n",
       "      <td>41</td>\n",
       "      <td>40</td>\n",
       "      <td>50</td>\n",
       "      <td>65</td>\n",
       "      <td>65</td>\n",
       "      <td>1</td>\n",
       "      <td>False</td>\n",
       "    </tr>\n",
       "    <tr>\n",
       "      <th>38</th>\n",
       "      <td>Ninetales</td>\n",
       "      <td>Fire</td>\n",
       "      <td>NaN</td>\n",
       "      <td>505</td>\n",
       "      <td>73</td>\n",
       "      <td>76</td>\n",
       "      <td>75</td>\n",
       "      <td>81</td>\n",
       "      <td>100</td>\n",
       "      <td>100</td>\n",
       "      <td>2</td>\n",
       "      <td>False</td>\n",
       "    </tr>\n",
       "    <tr>\n",
       "      <th>43</th>\n",
       "      <td>Oddish</td>\n",
       "      <td>Grass</td>\n",
       "      <td>Poison</td>\n",
       "      <td>320</td>\n",
       "      <td>45</td>\n",
       "      <td>50</td>\n",
       "      <td>55</td>\n",
       "      <td>75</td>\n",
       "      <td>65</td>\n",
       "      <td>30</td>\n",
       "      <td>1</td>\n",
       "      <td>False</td>\n",
       "    </tr>\n",
       "    <tr>\n",
       "      <th>44</th>\n",
       "      <td>Gloom</td>\n",
       "      <td>Grass</td>\n",
       "      <td>Poison</td>\n",
       "      <td>395</td>\n",
       "      <td>60</td>\n",
       "      <td>65</td>\n",
       "      <td>70</td>\n",
       "      <td>85</td>\n",
       "      <td>75</td>\n",
       "      <td>40</td>\n",
       "      <td>2</td>\n",
       "      <td>False</td>\n",
       "    </tr>\n",
       "    <tr>\n",
       "      <th>46</th>\n",
       "      <td>Paras</td>\n",
       "      <td>Bug</td>\n",
       "      <td>Grass</td>\n",
       "      <td>285</td>\n",
       "      <td>35</td>\n",
       "      <td>70</td>\n",
       "      <td>55</td>\n",
       "      <td>45</td>\n",
       "      <td>55</td>\n",
       "      <td>25</td>\n",
       "      <td>1</td>\n",
       "      <td>False</td>\n",
       "    </tr>\n",
       "    <tr>\n",
       "      <th>47</th>\n",
       "      <td>Parasect</td>\n",
       "      <td>Bug</td>\n",
       "      <td>Grass</td>\n",
       "      <td>405</td>\n",
       "      <td>60</td>\n",
       "      <td>95</td>\n",
       "      <td>80</td>\n",
       "      <td>60</td>\n",
       "      <td>80</td>\n",
       "      <td>30</td>\n",
       "      <td>2</td>\n",
       "      <td>False</td>\n",
       "    </tr>\n",
       "    <tr>\n",
       "      <th>48</th>\n",
       "      <td>Venonat</td>\n",
       "      <td>Bug</td>\n",
       "      <td>Poison</td>\n",
       "      <td>305</td>\n",
       "      <td>60</td>\n",
       "      <td>55</td>\n",
       "      <td>50</td>\n",
       "      <td>40</td>\n",
       "      <td>55</td>\n",
       "      <td>45</td>\n",
       "      <td>1</td>\n",
       "      <td>False</td>\n",
       "    </tr>\n",
       "    <tr>\n",
       "      <th>49</th>\n",
       "      <td>Venomoth</td>\n",
       "      <td>Bug</td>\n",
       "      <td>Poison</td>\n",
       "      <td>450</td>\n",
       "      <td>70</td>\n",
       "      <td>65</td>\n",
       "      <td>60</td>\n",
       "      <td>90</td>\n",
       "      <td>75</td>\n",
       "      <td>90</td>\n",
       "      <td>2</td>\n",
       "      <td>False</td>\n",
       "    </tr>\n",
       "    <tr>\n",
       "      <th>54</th>\n",
       "      <td>Psyduck</td>\n",
       "      <td>Water</td>\n",
       "      <td>NaN</td>\n",
       "      <td>320</td>\n",
       "      <td>50</td>\n",
       "      <td>52</td>\n",
       "      <td>48</td>\n",
       "      <td>65</td>\n",
       "      <td>50</td>\n",
       "      <td>55</td>\n",
       "      <td>1</td>\n",
       "      <td>False</td>\n",
       "    </tr>\n",
       "    <tr>\n",
       "      <th>55</th>\n",
       "      <td>Golduck</td>\n",
       "      <td>Water</td>\n",
       "      <td>NaN</td>\n",
       "      <td>500</td>\n",
       "      <td>80</td>\n",
       "      <td>82</td>\n",
       "      <td>78</td>\n",
       "      <td>95</td>\n",
       "      <td>80</td>\n",
       "      <td>85</td>\n",
       "      <td>2</td>\n",
       "      <td>False</td>\n",
       "    </tr>\n",
       "    <tr>\n",
       "      <th>58</th>\n",
       "      <td>Growlithe</td>\n",
       "      <td>Fire</td>\n",
       "      <td>NaN</td>\n",
       "      <td>350</td>\n",
       "      <td>55</td>\n",
       "      <td>70</td>\n",
       "      <td>45</td>\n",
       "      <td>70</td>\n",
       "      <td>50</td>\n",
       "      <td>60</td>\n",
       "      <td>1</td>\n",
       "      <td>False</td>\n",
       "    </tr>\n",
       "    <tr>\n",
       "      <th>59</th>\n",
       "      <td>Arcanine</td>\n",
       "      <td>Fire</td>\n",
       "      <td>NaN</td>\n",
       "      <td>555</td>\n",
       "      <td>90</td>\n",
       "      <td>110</td>\n",
       "      <td>80</td>\n",
       "      <td>100</td>\n",
       "      <td>80</td>\n",
       "      <td>95</td>\n",
       "      <td>2</td>\n",
       "      <td>False</td>\n",
       "    </tr>\n",
       "    <tr>\n",
       "      <th>60</th>\n",
       "      <td>Poliwag</td>\n",
       "      <td>Water</td>\n",
       "      <td>NaN</td>\n",
       "      <td>300</td>\n",
       "      <td>40</td>\n",
       "      <td>50</td>\n",
       "      <td>40</td>\n",
       "      <td>40</td>\n",
       "      <td>40</td>\n",
       "      <td>90</td>\n",
       "      <td>1</td>\n",
       "      <td>False</td>\n",
       "    </tr>\n",
       "    <tr>\n",
       "      <th>61</th>\n",
       "      <td>Poliwhirl</td>\n",
       "      <td>Water</td>\n",
       "      <td>NaN</td>\n",
       "      <td>385</td>\n",
       "      <td>65</td>\n",
       "      <td>65</td>\n",
       "      <td>65</td>\n",
       "      <td>50</td>\n",
       "      <td>50</td>\n",
       "      <td>90</td>\n",
       "      <td>2</td>\n",
       "      <td>False</td>\n",
       "    </tr>\n",
       "    <tr>\n",
       "      <th>69</th>\n",
       "      <td>Bellsprout</td>\n",
       "      <td>Grass</td>\n",
       "      <td>Poison</td>\n",
       "      <td>300</td>\n",
       "      <td>50</td>\n",
       "      <td>75</td>\n",
       "      <td>35</td>\n",
       "      <td>70</td>\n",
       "      <td>30</td>\n",
       "      <td>40</td>\n",
       "      <td>1</td>\n",
       "      <td>False</td>\n",
       "    </tr>\n",
       "    <tr>\n",
       "      <th>70</th>\n",
       "      <td>Weepinbell</td>\n",
       "      <td>Grass</td>\n",
       "      <td>Poison</td>\n",
       "      <td>390</td>\n",
       "      <td>65</td>\n",
       "      <td>90</td>\n",
       "      <td>50</td>\n",
       "      <td>85</td>\n",
       "      <td>45</td>\n",
       "      <td>55</td>\n",
       "      <td>2</td>\n",
       "      <td>False</td>\n",
       "    </tr>\n",
       "    <tr>\n",
       "      <th>72</th>\n",
       "      <td>Tentacool</td>\n",
       "      <td>Water</td>\n",
       "      <td>Poison</td>\n",
       "      <td>335</td>\n",
       "      <td>40</td>\n",
       "      <td>40</td>\n",
       "      <td>35</td>\n",
       "      <td>50</td>\n",
       "      <td>100</td>\n",
       "      <td>70</td>\n",
       "      <td>1</td>\n",
       "      <td>False</td>\n",
       "    </tr>\n",
       "    <tr>\n",
       "      <th>73</th>\n",
       "      <td>Tentacruel</td>\n",
       "      <td>Water</td>\n",
       "      <td>Poison</td>\n",
       "      <td>515</td>\n",
       "      <td>80</td>\n",
       "      <td>70</td>\n",
       "      <td>65</td>\n",
       "      <td>80</td>\n",
       "      <td>120</td>\n",
       "      <td>100</td>\n",
       "      <td>2</td>\n",
       "      <td>False</td>\n",
       "    </tr>\n",
       "    <tr>\n",
       "      <th>77</th>\n",
       "      <td>Ponyta</td>\n",
       "      <td>Fire</td>\n",
       "      <td>NaN</td>\n",
       "      <td>410</td>\n",
       "      <td>50</td>\n",
       "      <td>85</td>\n",
       "      <td>55</td>\n",
       "      <td>65</td>\n",
       "      <td>65</td>\n",
       "      <td>90</td>\n",
       "      <td>1</td>\n",
       "      <td>False</td>\n",
       "    </tr>\n",
       "    <tr>\n",
       "      <th>78</th>\n",
       "      <td>Rapidash</td>\n",
       "      <td>Fire</td>\n",
       "      <td>NaN</td>\n",
       "      <td>500</td>\n",
       "      <td>65</td>\n",
       "      <td>100</td>\n",
       "      <td>70</td>\n",
       "      <td>80</td>\n",
       "      <td>80</td>\n",
       "      <td>105</td>\n",
       "      <td>2</td>\n",
       "      <td>False</td>\n",
       "    </tr>\n",
       "    <tr>\n",
       "      <th>79</th>\n",
       "      <td>Slowpoke</td>\n",
       "      <td>Water</td>\n",
       "      <td>Psychic</td>\n",
       "      <td>315</td>\n",
       "      <td>90</td>\n",
       "      <td>65</td>\n",
       "      <td>65</td>\n",
       "      <td>40</td>\n",
       "      <td>40</td>\n",
       "      <td>15</td>\n",
       "      <td>1</td>\n",
       "      <td>False</td>\n",
       "    </tr>\n",
       "    <tr>\n",
       "      <th>80</th>\n",
       "      <td>Slowbro</td>\n",
       "      <td>Water</td>\n",
       "      <td>Psychic</td>\n",
       "      <td>490</td>\n",
       "      <td>95</td>\n",
       "      <td>75</td>\n",
       "      <td>110</td>\n",
       "      <td>100</td>\n",
       "      <td>80</td>\n",
       "      <td>30</td>\n",
       "      <td>2</td>\n",
       "      <td>False</td>\n",
       "    </tr>\n",
       "    <tr>\n",
       "      <th>86</th>\n",
       "      <td>Seel</td>\n",
       "      <td>Water</td>\n",
       "      <td>NaN</td>\n",
       "      <td>325</td>\n",
       "      <td>65</td>\n",
       "      <td>45</td>\n",
       "      <td>55</td>\n",
       "      <td>45</td>\n",
       "      <td>70</td>\n",
       "      <td>45</td>\n",
       "      <td>1</td>\n",
       "      <td>False</td>\n",
       "    </tr>\n",
       "    <tr>\n",
       "      <th>87</th>\n",
       "      <td>Dewgong</td>\n",
       "      <td>Water</td>\n",
       "      <td>Ice</td>\n",
       "      <td>475</td>\n",
       "      <td>90</td>\n",
       "      <td>70</td>\n",
       "      <td>80</td>\n",
       "      <td>70</td>\n",
       "      <td>95</td>\n",
       "      <td>70</td>\n",
       "      <td>2</td>\n",
       "      <td>False</td>\n",
       "    </tr>\n",
       "    <tr>\n",
       "      <th>90</th>\n",
       "      <td>Shellder</td>\n",
       "      <td>Water</td>\n",
       "      <td>NaN</td>\n",
       "      <td>305</td>\n",
       "      <td>30</td>\n",
       "      <td>65</td>\n",
       "      <td>100</td>\n",
       "      <td>45</td>\n",
       "      <td>25</td>\n",
       "      <td>40</td>\n",
       "      <td>1</td>\n",
       "      <td>False</td>\n",
       "    </tr>\n",
       "    <tr>\n",
       "      <th>91</th>\n",
       "      <td>Cloyster</td>\n",
       "      <td>Water</td>\n",
       "      <td>Ice</td>\n",
       "      <td>525</td>\n",
       "      <td>50</td>\n",
       "      <td>95</td>\n",
       "      <td>180</td>\n",
       "      <td>85</td>\n",
       "      <td>45</td>\n",
       "      <td>70</td>\n",
       "      <td>2</td>\n",
       "      <td>False</td>\n",
       "    </tr>\n",
       "    <tr>\n",
       "      <th>98</th>\n",
       "      <td>Krabby</td>\n",
       "      <td>Water</td>\n",
       "      <td>NaN</td>\n",
       "      <td>325</td>\n",
       "      <td>30</td>\n",
       "      <td>105</td>\n",
       "      <td>90</td>\n",
       "      <td>25</td>\n",
       "      <td>25</td>\n",
       "      <td>50</td>\n",
       "      <td>1</td>\n",
       "      <td>False</td>\n",
       "    </tr>\n",
       "    <tr>\n",
       "      <th>99</th>\n",
       "      <td>Kingler</td>\n",
       "      <td>Water</td>\n",
       "      <td>NaN</td>\n",
       "      <td>475</td>\n",
       "      <td>55</td>\n",
       "      <td>130</td>\n",
       "      <td>115</td>\n",
       "      <td>50</td>\n",
       "      <td>50</td>\n",
       "      <td>75</td>\n",
       "      <td>2</td>\n",
       "      <td>False</td>\n",
       "    </tr>\n",
       "    <tr>\n",
       "      <th>102</th>\n",
       "      <td>Exeggcute</td>\n",
       "      <td>Grass</td>\n",
       "      <td>Psychic</td>\n",
       "      <td>325</td>\n",
       "      <td>60</td>\n",
       "      <td>40</td>\n",
       "      <td>80</td>\n",
       "      <td>60</td>\n",
       "      <td>45</td>\n",
       "      <td>40</td>\n",
       "      <td>1</td>\n",
       "      <td>False</td>\n",
       "    </tr>\n",
       "    <tr>\n",
       "      <th>103</th>\n",
       "      <td>Exeggutor</td>\n",
       "      <td>Grass</td>\n",
       "      <td>Psychic</td>\n",
       "      <td>520</td>\n",
       "      <td>95</td>\n",
       "      <td>95</td>\n",
       "      <td>85</td>\n",
       "      <td>125</td>\n",
       "      <td>65</td>\n",
       "      <td>55</td>\n",
       "      <td>2</td>\n",
       "      <td>False</td>\n",
       "    </tr>\n",
       "    <tr>\n",
       "      <th>114</th>\n",
       "      <td>Tangela</td>\n",
       "      <td>Grass</td>\n",
       "      <td>NaN</td>\n",
       "      <td>435</td>\n",
       "      <td>65</td>\n",
       "      <td>55</td>\n",
       "      <td>115</td>\n",
       "      <td>100</td>\n",
       "      <td>40</td>\n",
       "      <td>60</td>\n",
       "      <td>1</td>\n",
       "      <td>False</td>\n",
       "    </tr>\n",
       "    <tr>\n",
       "      <th>116</th>\n",
       "      <td>Horsea</td>\n",
       "      <td>Water</td>\n",
       "      <td>NaN</td>\n",
       "      <td>295</td>\n",
       "      <td>30</td>\n",
       "      <td>40</td>\n",
       "      <td>70</td>\n",
       "      <td>70</td>\n",
       "      <td>25</td>\n",
       "      <td>60</td>\n",
       "      <td>1</td>\n",
       "      <td>False</td>\n",
       "    </tr>\n",
       "    <tr>\n",
       "      <th>117</th>\n",
       "      <td>Seadra</td>\n",
       "      <td>Water</td>\n",
       "      <td>NaN</td>\n",
       "      <td>440</td>\n",
       "      <td>55</td>\n",
       "      <td>65</td>\n",
       "      <td>95</td>\n",
       "      <td>95</td>\n",
       "      <td>45</td>\n",
       "      <td>85</td>\n",
       "      <td>2</td>\n",
       "      <td>False</td>\n",
       "    </tr>\n",
       "    <tr>\n",
       "      <th>118</th>\n",
       "      <td>Goldeen</td>\n",
       "      <td>Water</td>\n",
       "      <td>NaN</td>\n",
       "      <td>320</td>\n",
       "      <td>45</td>\n",
       "      <td>67</td>\n",
       "      <td>60</td>\n",
       "      <td>35</td>\n",
       "      <td>50</td>\n",
       "      <td>63</td>\n",
       "      <td>1</td>\n",
       "      <td>False</td>\n",
       "    </tr>\n",
       "    <tr>\n",
       "      <th>119</th>\n",
       "      <td>Seaking</td>\n",
       "      <td>Water</td>\n",
       "      <td>NaN</td>\n",
       "      <td>450</td>\n",
       "      <td>80</td>\n",
       "      <td>92</td>\n",
       "      <td>65</td>\n",
       "      <td>65</td>\n",
       "      <td>80</td>\n",
       "      <td>68</td>\n",
       "      <td>2</td>\n",
       "      <td>False</td>\n",
       "    </tr>\n",
       "    <tr>\n",
       "      <th>120</th>\n",
       "      <td>Staryu</td>\n",
       "      <td>Water</td>\n",
       "      <td>NaN</td>\n",
       "      <td>340</td>\n",
       "      <td>30</td>\n",
       "      <td>45</td>\n",
       "      <td>55</td>\n",
       "      <td>70</td>\n",
       "      <td>55</td>\n",
       "      <td>85</td>\n",
       "      <td>1</td>\n",
       "      <td>False</td>\n",
       "    </tr>\n",
       "    <tr>\n",
       "      <th>121</th>\n",
       "      <td>Starmie</td>\n",
       "      <td>Water</td>\n",
       "      <td>Psychic</td>\n",
       "      <td>520</td>\n",
       "      <td>60</td>\n",
       "      <td>75</td>\n",
       "      <td>85</td>\n",
       "      <td>100</td>\n",
       "      <td>85</td>\n",
       "      <td>115</td>\n",
       "      <td>2</td>\n",
       "      <td>False</td>\n",
       "    </tr>\n",
       "    <tr>\n",
       "      <th>123</th>\n",
       "      <td>Scyther</td>\n",
       "      <td>Bug</td>\n",
       "      <td>Flying</td>\n",
       "      <td>500</td>\n",
       "      <td>70</td>\n",
       "      <td>110</td>\n",
       "      <td>80</td>\n",
       "      <td>55</td>\n",
       "      <td>80</td>\n",
       "      <td>105</td>\n",
       "      <td>1</td>\n",
       "      <td>False</td>\n",
       "    </tr>\n",
       "    <tr>\n",
       "      <th>126</th>\n",
       "      <td>Magmar</td>\n",
       "      <td>Fire</td>\n",
       "      <td>NaN</td>\n",
       "      <td>495</td>\n",
       "      <td>65</td>\n",
       "      <td>95</td>\n",
       "      <td>57</td>\n",
       "      <td>100</td>\n",
       "      <td>85</td>\n",
       "      <td>93</td>\n",
       "      <td>1</td>\n",
       "      <td>False</td>\n",
       "    </tr>\n",
       "    <tr>\n",
       "      <th>127</th>\n",
       "      <td>Pinsir</td>\n",
       "      <td>Bug</td>\n",
       "      <td>NaN</td>\n",
       "      <td>500</td>\n",
       "      <td>65</td>\n",
       "      <td>125</td>\n",
       "      <td>100</td>\n",
       "      <td>55</td>\n",
       "      <td>70</td>\n",
       "      <td>85</td>\n",
       "      <td>1</td>\n",
       "      <td>False</td>\n",
       "    </tr>\n",
       "    <tr>\n",
       "      <th>129</th>\n",
       "      <td>Magikarp</td>\n",
       "      <td>Water</td>\n",
       "      <td>NaN</td>\n",
       "      <td>200</td>\n",
       "      <td>20</td>\n",
       "      <td>10</td>\n",
       "      <td>55</td>\n",
       "      <td>15</td>\n",
       "      <td>20</td>\n",
       "      <td>80</td>\n",
       "      <td>1</td>\n",
       "      <td>False</td>\n",
       "    </tr>\n",
       "    <tr>\n",
       "      <th>130</th>\n",
       "      <td>Gyarados</td>\n",
       "      <td>Water</td>\n",
       "      <td>Flying</td>\n",
       "      <td>540</td>\n",
       "      <td>95</td>\n",
       "      <td>125</td>\n",
       "      <td>79</td>\n",
       "      <td>60</td>\n",
       "      <td>100</td>\n",
       "      <td>81</td>\n",
       "      <td>2</td>\n",
       "      <td>False</td>\n",
       "    </tr>\n",
       "    <tr>\n",
       "      <th>131</th>\n",
       "      <td>Lapras</td>\n",
       "      <td>Water</td>\n",
       "      <td>Ice</td>\n",
       "      <td>535</td>\n",
       "      <td>130</td>\n",
       "      <td>85</td>\n",
       "      <td>80</td>\n",
       "      <td>85</td>\n",
       "      <td>95</td>\n",
       "      <td>60</td>\n",
       "      <td>1</td>\n",
       "      <td>False</td>\n",
       "    </tr>\n",
       "    <tr>\n",
       "      <th>134</th>\n",
       "      <td>Vaporeon</td>\n",
       "      <td>Water</td>\n",
       "      <td>NaN</td>\n",
       "      <td>525</td>\n",
       "      <td>130</td>\n",
       "      <td>65</td>\n",
       "      <td>60</td>\n",
       "      <td>110</td>\n",
       "      <td>95</td>\n",
       "      <td>65</td>\n",
       "      <td>2</td>\n",
       "      <td>False</td>\n",
       "    </tr>\n",
       "    <tr>\n",
       "      <th>136</th>\n",
       "      <td>Flareon</td>\n",
       "      <td>Fire</td>\n",
       "      <td>NaN</td>\n",
       "      <td>525</td>\n",
       "      <td>65</td>\n",
       "      <td>130</td>\n",
       "      <td>60</td>\n",
       "      <td>95</td>\n",
       "      <td>110</td>\n",
       "      <td>65</td>\n",
       "      <td>2</td>\n",
       "      <td>False</td>\n",
       "    </tr>\n",
       "    <tr>\n",
       "      <th>146</th>\n",
       "      <td>Moltres</td>\n",
       "      <td>Fire</td>\n",
       "      <td>Flying</td>\n",
       "      <td>580</td>\n",
       "      <td>90</td>\n",
       "      <td>100</td>\n",
       "      <td>90</td>\n",
       "      <td>125</td>\n",
       "      <td>85</td>\n",
       "      <td>90</td>\n",
       "      <td>1</td>\n",
       "      <td>True</td>\n",
       "    </tr>\n",
       "  </tbody>\n",
       "</table>\n",
       "</div>"
      ],
      "text/plain": [
       "           Name Type 1   Type 2  Total   HP  Attack  Defense  Sp. Atk  \\\n",
       "1     Bulbasaur  Grass   Poison    318   45      49       49       65   \n",
       "2       Ivysaur  Grass   Poison    405   60      62       63       80   \n",
       "4    Charmander   Fire      NaN    309   39      52       43       60   \n",
       "5    Charmeleon   Fire      NaN    405   58      64       58       80   \n",
       "7      Squirtle  Water      NaN    314   44      48       65       50   \n",
       "8     Wartortle  Water      NaN    405   59      63       80       65   \n",
       "10     Caterpie    Bug      NaN    195   45      30       35       20   \n",
       "11      Metapod    Bug      NaN    205   50      20       55       25   \n",
       "13       Weedle    Bug   Poison    195   40      35       30       20   \n",
       "14       Kakuna    Bug   Poison    205   45      25       50       25   \n",
       "37       Vulpix   Fire      NaN    299   38      41       40       50   \n",
       "38    Ninetales   Fire      NaN    505   73      76       75       81   \n",
       "43       Oddish  Grass   Poison    320   45      50       55       75   \n",
       "44        Gloom  Grass   Poison    395   60      65       70       85   \n",
       "46        Paras    Bug    Grass    285   35      70       55       45   \n",
       "47     Parasect    Bug    Grass    405   60      95       80       60   \n",
       "48      Venonat    Bug   Poison    305   60      55       50       40   \n",
       "49     Venomoth    Bug   Poison    450   70      65       60       90   \n",
       "54      Psyduck  Water      NaN    320   50      52       48       65   \n",
       "55      Golduck  Water      NaN    500   80      82       78       95   \n",
       "58    Growlithe   Fire      NaN    350   55      70       45       70   \n",
       "59     Arcanine   Fire      NaN    555   90     110       80      100   \n",
       "60      Poliwag  Water      NaN    300   40      50       40       40   \n",
       "61    Poliwhirl  Water      NaN    385   65      65       65       50   \n",
       "69   Bellsprout  Grass   Poison    300   50      75       35       70   \n",
       "70   Weepinbell  Grass   Poison    390   65      90       50       85   \n",
       "72    Tentacool  Water   Poison    335   40      40       35       50   \n",
       "73   Tentacruel  Water   Poison    515   80      70       65       80   \n",
       "77       Ponyta   Fire      NaN    410   50      85       55       65   \n",
       "78     Rapidash   Fire      NaN    500   65     100       70       80   \n",
       "79     Slowpoke  Water  Psychic    315   90      65       65       40   \n",
       "80      Slowbro  Water  Psychic    490   95      75      110      100   \n",
       "86         Seel  Water      NaN    325   65      45       55       45   \n",
       "87      Dewgong  Water      Ice    475   90      70       80       70   \n",
       "90     Shellder  Water      NaN    305   30      65      100       45   \n",
       "91     Cloyster  Water      Ice    525   50      95      180       85   \n",
       "98       Krabby  Water      NaN    325   30     105       90       25   \n",
       "99      Kingler  Water      NaN    475   55     130      115       50   \n",
       "102   Exeggcute  Grass  Psychic    325   60      40       80       60   \n",
       "103   Exeggutor  Grass  Psychic    520   95      95       85      125   \n",
       "114     Tangela  Grass      NaN    435   65      55      115      100   \n",
       "116      Horsea  Water      NaN    295   30      40       70       70   \n",
       "117      Seadra  Water      NaN    440   55      65       95       95   \n",
       "118     Goldeen  Water      NaN    320   45      67       60       35   \n",
       "119     Seaking  Water      NaN    450   80      92       65       65   \n",
       "120      Staryu  Water      NaN    340   30      45       55       70   \n",
       "121     Starmie  Water  Psychic    520   60      75       85      100   \n",
       "123     Scyther    Bug   Flying    500   70     110       80       55   \n",
       "126      Magmar   Fire      NaN    495   65      95       57      100   \n",
       "127      Pinsir    Bug      NaN    500   65     125      100       55   \n",
       "129    Magikarp  Water      NaN    200   20      10       55       15   \n",
       "130    Gyarados  Water   Flying    540   95     125       79       60   \n",
       "131      Lapras  Water      Ice    535  130      85       80       85   \n",
       "134    Vaporeon  Water      NaN    525  130      65       60      110   \n",
       "136     Flareon   Fire      NaN    525   65     130       60       95   \n",
       "146     Moltres   Fire   Flying    580   90     100       90      125   \n",
       "\n",
       "     Sp. Def  Speed  Stage  Legendary  \n",
       "1         65     45      1      False  \n",
       "2         80     60      2      False  \n",
       "4         50     65      1      False  \n",
       "5         65     80      2      False  \n",
       "7         64     43      1      False  \n",
       "8         80     58      2      False  \n",
       "10        20     45      1      False  \n",
       "11        25     30      2      False  \n",
       "13        20     50      1      False  \n",
       "14        25     35      2      False  \n",
       "37        65     65      1      False  \n",
       "38       100    100      2      False  \n",
       "43        65     30      1      False  \n",
       "44        75     40      2      False  \n",
       "46        55     25      1      False  \n",
       "47        80     30      2      False  \n",
       "48        55     45      1      False  \n",
       "49        75     90      2      False  \n",
       "54        50     55      1      False  \n",
       "55        80     85      2      False  \n",
       "58        50     60      1      False  \n",
       "59        80     95      2      False  \n",
       "60        40     90      1      False  \n",
       "61        50     90      2      False  \n",
       "69        30     40      1      False  \n",
       "70        45     55      2      False  \n",
       "72       100     70      1      False  \n",
       "73       120    100      2      False  \n",
       "77        65     90      1      False  \n",
       "78        80    105      2      False  \n",
       "79        40     15      1      False  \n",
       "80        80     30      2      False  \n",
       "86        70     45      1      False  \n",
       "87        95     70      2      False  \n",
       "90        25     40      1      False  \n",
       "91        45     70      2      False  \n",
       "98        25     50      1      False  \n",
       "99        50     75      2      False  \n",
       "102       45     40      1      False  \n",
       "103       65     55      2      False  \n",
       "114       40     60      1      False  \n",
       "116       25     60      1      False  \n",
       "117       45     85      2      False  \n",
       "118       50     63      1      False  \n",
       "119       80     68      2      False  \n",
       "120       55     85      1      False  \n",
       "121       85    115      2      False  \n",
       "123       80    105      1      False  \n",
       "126       85     93      1      False  \n",
       "127       70     85      1      False  \n",
       "129       20     80      1      False  \n",
       "130      100     81      2      False  \n",
       "131       95     60      1      False  \n",
       "134       95     65      2      False  \n",
       "136      110     65      2      False  \n",
       "146       85     90      1       True  "
      ]
     },
     "execution_count": 21,
     "metadata": {},
     "output_type": "execute_result"
    }
   ],
   "source": [
    "array = ['Water', 'Grass', 'Fire', 'Bug']\n",
    "ds_new = ds.loc[(ds['Stage'] != 3) & ds['Type 1'].isin(array)]\n",
    "ds_new\n",
    "\n",
    "# voorbeeld\n",
    "# df.loc[(df['age'] == 21) & df['favorite_color'].isin(array)]"
   ]
  },
  {
   "cell_type": "markdown",
   "id": "b57c01ea",
   "metadata": {},
   "source": [
    "Maak van het nieuwe DataFrame-object een violinplot, met Total op de y-as en Type 1 op de x-as."
   ]
  },
  {
   "cell_type": "code",
   "execution_count": 22,
   "id": "8b77f859",
   "metadata": {},
   "outputs": [
    {
     "data": {
      "text/plain": [
       "<AxesSubplot:xlabel='Type 1', ylabel='Total'>"
      ]
     },
     "execution_count": 22,
     "metadata": {},
     "output_type": "execute_result"
    },
    {
     "data": {
      "image/png": "[encoded data removed]",
      "text/plain": [
       "<Figure size 720x720 with 1 Axes>"
      ]
     },
     "metadata": {
      "needs_background": "light"
     },
     "output_type": "display_data"
    }
   ],
   "source": [
    "plt.figure(figsize=(10, 10))\n",
    "sns.violinplot(x='Type 1', y='Total', data=ds_new)"
   ]
  },
  {
   "cell_type": "markdown",
   "id": "13209898",
   "metadata": {},
   "source": [
    "Maak een nieuwe violinplot, maar dan één waar per POKéMON-type de verschillende stages naast elkaar geplaatst worden. Zorg ervoor dat de twee stages tegen elkaar geplakt zijn. (Zie de tweede afbeelding uit de verwachte uitkomst.)"
   ]
  },
  {
   "cell_type": "code",
   "execution_count": 23,
   "id": "3ea425d2",
   "metadata": {},
   "outputs": [
    {
     "data": {
      "text/plain": [
       "<AxesSubplot:xlabel='Type 1', ylabel='Total'>"
      ]
     },
     "execution_count": 23,
     "metadata": {},
     "output_type": "execute_result"
    },
    {
     "data": {
      "image/png": "[encoded data removed]",
      "text/plain": [
       "<Figure size 720x720 with 1 Axes>"
      ]
     },
     "metadata": {
      "needs_background": "light"
     },
     "output_type": "display_data"
    }
   ],
   "source": [
    "plt.figure(figsize=(10, 10))\n",
    "sns.violinplot(x='Type 1', y='Total', hue='Stage', data=ds_new)"
   ]
  },
  {
   "cell_type": "markdown",
   "id": "02983627",
   "metadata": {},
   "source": [
    "Maak dezelfde plot van stap 3, maar schaal nu de oppervlaktes op basis van het aantal meetpunten."
   ]
  },
  {
   "cell_type": "code",
   "execution_count": 24,
   "id": "340e5bfd",
   "metadata": {},
   "outputs": [
    {
     "data": {
      "text/plain": [
       "<AxesSubplot:xlabel='Type 1', ylabel='Total'>"
      ]
     },
     "execution_count": 24,
     "metadata": {},
     "output_type": "execute_result"
    },
    {
     "data": {
      "image/png": "[encoded data removed]",
      "text/plain": [
       "<Figure size 720x720 with 1 Axes>"
      ]
     },
     "metadata": {
      "needs_background": "light"
     },
     "output_type": "display_data"
    }
   ],
   "source": [
    "plt.figure(figsize=(10, 10))\n",
    "sns.violinplot(x='Type 1', y='Total', hue='Stage', data=ds_new, split=True, scale='count')"
   ]
  },
  {
   "cell_type": "markdown",
   "id": "209c699e",
   "metadata": {},
   "source": [
    "Leg uit of Pauls stelling klopt.\n",
    "\n",
    "Stelling: Voor POKéMONs met als type 1 water, vuur of gras geldt dat POKéMONs van hogere stage over het algemeen een hogere totaalscore hebben, maar voor het type bug is er nauwelijks verschil tussen de stages.\n",
    "\n",
    "Antwoord: Stelling klopt niet. Bij Grass hebben de Stage 2 Pokemons een hogere totaalscore."
   ]
  },
  {
   "cell_type": "markdown",
   "id": "58241d84",
   "metadata": {},
   "source": [
    "Voeg cut=0 toe aan je laatste violinplot, en voeg de onderstaande code toe aan hetzelfde codeblok. De violinplot stopt nu bij je laatste punt i.p.v. mooi af te sluiten, en de datapunten van je POKéMONs staan nu bij de violinplot aangetekend"
   ]
  },
  {
   "cell_type": "code",
   "execution_count": 25,
   "id": "5aac9c5e",
   "metadata": {
    "scrolled": false
   },
   "outputs": [
    {
     "data": {
      "text/plain": [
       "<AxesSubplot:xlabel='Type 1', ylabel='Total'>"
      ]
     },
     "execution_count": 25,
     "metadata": {},
     "output_type": "execute_result"
    },
    {
     "data": {
      "image/png": "[encoded data removed]",
      "text/plain": [
       "<Figure size 720x720 with 1 Axes>"
      ]
     },
     "metadata": {
      "needs_background": "light"
     },
     "output_type": "display_data"
    }
   ],
   "source": [
    "plt.figure(figsize=(10, 10))\n",
    "sns.violinplot(x='Type 1', y='Total', hue='Stage', data=ds_new, split=True, scale='count', cut=0)\n",
    "sns.swarmplot(data=ds_new, x='Type 1', y='Total', hue='Stage', dodge=True, palette=['black'])"
   ]
  },
  {
   "cell_type": "markdown",
   "id": "abaac867",
   "metadata": {},
   "source": [
    "Voor deze data is de violinplot niet zo geschikt. Leg aan de hand van de grafiek die je bij stap 6 hebt gemaakt uit waarom je voor deze database beter geen violinplot had kunnen gebruiken.\n",
    "\n",
    "Antwoord: Er is te weinig data voor een complete violinplot. Bij gebruik van cut is het goed te zien. Zonder het gebruik van cut wordt er een vertekende violinplot weergegeven."
   ]
  },
  {
   "cell_type": "markdown",
   "id": "52220dba",
   "metadata": {},
   "source": [
    "## Lijnplot"
   ]
  },
  {
   "cell_type": "markdown",
   "id": "1d06b150",
   "metadata": {},
   "source": [
    "In de vorige dataset zaten alleen Pokémons uit de eerste generatie. In deze zitten alle Pokémons tot en met generatie 7. Je vriend de Pokémon fan heeft het niet zo op de latere generaties. Hij vind dat de Pokémons niet meer origineel zijn, en dat ze vooral te groot en lomp zijn. Laten we ook deze uitspraak toetsen aan de waarheid. In deze dataset zit het gewicht en de hoogte (weight en height) van alle Pokémons. Plot twee lijngrafieken waarop het gemiddelde gewicht en gemiddelde hoogte van de Pokémons per generatie te zien is."
   ]
  },
  {
   "cell_type": "code",
   "execution_count": 56,
   "id": "e7e454a6",
   "metadata": {
    "scrolled": true
   },
   "outputs": [
    {
     "data": {
      "text/html": [
       "<div>\n",
       "<style scoped>\n",
       "    .dataframe tbody tr th:only-of-type {\n",
       "        vertical-align: middle;\n",
       "    }\n",
       "\n",
       "    .dataframe tbody tr th {\n",
       "        vertical-align: top;\n",
       "    }\n",
       "\n",
       "    .dataframe thead th {\n",
       "        text-align: right;\n",
       "    }\n",
       "</style>\n",
       "<table border=\"1\" class=\"dataframe\">\n",
       "  <thead>\n",
       "    <tr style=\"text-align: right;\">\n",
       "      <th></th>\n",
       "      <th>abilities</th>\n",
       "      <th>against_bug</th>\n",
       "      <th>against_dark</th>\n",
       "      <th>against_dragon</th>\n",
       "      <th>against_electric</th>\n",
       "      <th>against_fairy</th>\n",
       "      <th>against_fight</th>\n",
       "      <th>against_fire</th>\n",
       "      <th>against_flying</th>\n",
       "      <th>against_ghost</th>\n",
       "      <th>against_grass</th>\n",
       "      <th>against_ground</th>\n",
       "      <th>against_ice</th>\n",
       "      <th>against_normal</th>\n",
       "      <th>against_poison</th>\n",
       "      <th>against_psychic</th>\n",
       "      <th>against_rock</th>\n",
       "      <th>against_steel</th>\n",
       "      <th>against_water</th>\n",
       "      <th>attack</th>\n",
       "      <th>base_egg_steps</th>\n",
       "      <th>base_happiness</th>\n",
       "      <th>base_total</th>\n",
       "      <th>capture_rate</th>\n",
       "      <th>classfication</th>\n",
       "      <th>defense</th>\n",
       "      <th>experience_growth</th>\n",
       "      <th>height_m</th>\n",
       "      <th>hp</th>\n",
       "      <th>japanese_name</th>\n",
       "      <th>percentage_male</th>\n",
       "      <th>pokedex_number</th>\n",
       "      <th>sp_attack</th>\n",
       "      <th>sp_defense</th>\n",
       "      <th>speed</th>\n",
       "      <th>type1</th>\n",
       "      <th>type2</th>\n",
       "      <th>weight_kg</th>\n",
       "      <th>generation</th>\n",
       "      <th>is_legendary</th>\n",
       "    </tr>\n",
       "    <tr>\n",
       "      <th>name</th>\n",
       "      <th></th>\n",
       "      <th></th>\n",
       "      <th></th>\n",
       "      <th></th>\n",
       "      <th></th>\n",
       "      <th></th>\n",
       "      <th></th>\n",
       "      <th></th>\n",
       "      <th></th>\n",
       "      <th></th>\n",
       "      <th></th>\n",
       "      <th></th>\n",
       "      <th></th>\n",
       "      <th></th>\n",
       "      <th></th>\n",
       "      <th></th>\n",
       "      <th></th>\n",
       "      <th></th>\n",
       "      <th></th>\n",
       "      <th></th>\n",
       "      <th></th>\n",
       "      <th></th>\n",
       "      <th></th>\n",
       "      <th></th>\n",
       "      <th></th>\n",
       "      <th></th>\n",
       "      <th></th>\n",
       "      <th></th>\n",
       "      <th></th>\n",
       "      <th></th>\n",
       "      <th></th>\n",
       "      <th></th>\n",
       "      <th></th>\n",
       "      <th></th>\n",
       "      <th></th>\n",
       "      <th></th>\n",
       "      <th></th>\n",
       "      <th></th>\n",
       "      <th></th>\n",
       "      <th></th>\n",
       "    </tr>\n",
       "  </thead>\n",
       "  <tbody>\n",
       "    <tr>\n",
       "      <th>Bulbasaur</th>\n",
       "      <td>['Overgrow', 'Chlorophyll']</td>\n",
       "      <td>1.0</td>\n",
       "      <td>1.0</td>\n",
       "      <td>1.0</td>\n",
       "      <td>0.5</td>\n",
       "      <td>0.5</td>\n",
       "      <td>0.5</td>\n",
       "      <td>2.0</td>\n",
       "      <td>2.0</td>\n",
       "      <td>1.0</td>\n",
       "      <td>0.25</td>\n",
       "      <td>1.0</td>\n",
       "      <td>2.0</td>\n",
       "      <td>1.0</td>\n",
       "      <td>1.0</td>\n",
       "      <td>2.0</td>\n",
       "      <td>1.0</td>\n",
       "      <td>1.0</td>\n",
       "      <td>0.5</td>\n",
       "      <td>49</td>\n",
       "      <td>5120</td>\n",
       "      <td>70</td>\n",
       "      <td>318</td>\n",
       "      <td>45</td>\n",
       "      <td>Seed Pokémon</td>\n",
       "      <td>49</td>\n",
       "      <td>1059860</td>\n",
       "      <td>0.7</td>\n",
       "      <td>45</td>\n",
       "      <td>Fushigidaneフシギダネ</td>\n",
       "      <td>88.1</td>\n",
       "      <td>1</td>\n",
       "      <td>65</td>\n",
       "      <td>65</td>\n",
       "      <td>45</td>\n",
       "      <td>grass</td>\n",
       "      <td>poison</td>\n",
       "      <td>6.9</td>\n",
       "      <td>1</td>\n",
       "      <td>0</td>\n",
       "    </tr>\n",
       "    <tr>\n",
       "      <th>Ivysaur</th>\n",
       "      <td>['Overgrow', 'Chlorophyll']</td>\n",
       "      <td>1.0</td>\n",
       "      <td>1.0</td>\n",
       "      <td>1.0</td>\n",
       "      <td>0.5</td>\n",
       "      <td>0.5</td>\n",
       "      <td>0.5</td>\n",
       "      <td>2.0</td>\n",
       "      <td>2.0</td>\n",
       "      <td>1.0</td>\n",
       "      <td>0.25</td>\n",
       "      <td>1.0</td>\n",
       "      <td>2.0</td>\n",
       "      <td>1.0</td>\n",
       "      <td>1.0</td>\n",
       "      <td>2.0</td>\n",
       "      <td>1.0</td>\n",
       "      <td>1.0</td>\n",
       "      <td>0.5</td>\n",
       "      <td>62</td>\n",
       "      <td>5120</td>\n",
       "      <td>70</td>\n",
       "      <td>405</td>\n",
       "      <td>45</td>\n",
       "      <td>Seed Pokémon</td>\n",
       "      <td>63</td>\n",
       "      <td>1059860</td>\n",
       "      <td>1.0</td>\n",
       "      <td>60</td>\n",
       "      <td>Fushigisouフシギソウ</td>\n",
       "      <td>88.1</td>\n",
       "      <td>2</td>\n",
       "      <td>80</td>\n",
       "      <td>80</td>\n",
       "      <td>60</td>\n",
       "      <td>grass</td>\n",
       "      <td>poison</td>\n",
       "      <td>13.0</td>\n",
       "      <td>1</td>\n",
       "      <td>0</td>\n",
       "    </tr>\n",
       "    <tr>\n",
       "      <th>Venusaur</th>\n",
       "      <td>['Overgrow', 'Chlorophyll']</td>\n",
       "      <td>1.0</td>\n",
       "      <td>1.0</td>\n",
       "      <td>1.0</td>\n",
       "      <td>0.5</td>\n",
       "      <td>0.5</td>\n",
       "      <td>0.5</td>\n",
       "      <td>2.0</td>\n",
       "      <td>2.0</td>\n",
       "      <td>1.0</td>\n",
       "      <td>0.25</td>\n",
       "      <td>1.0</td>\n",
       "      <td>2.0</td>\n",
       "      <td>1.0</td>\n",
       "      <td>1.0</td>\n",
       "      <td>2.0</td>\n",
       "      <td>1.0</td>\n",
       "      <td>1.0</td>\n",
       "      <td>0.5</td>\n",
       "      <td>100</td>\n",
       "      <td>5120</td>\n",
       "      <td>70</td>\n",
       "      <td>625</td>\n",
       "      <td>45</td>\n",
       "      <td>Seed Pokémon</td>\n",
       "      <td>123</td>\n",
       "      <td>1059860</td>\n",
       "      <td>2.0</td>\n",
       "      <td>80</td>\n",
       "      <td>Fushigibanaフシギバナ</td>\n",
       "      <td>88.1</td>\n",
       "      <td>3</td>\n",
       "      <td>122</td>\n",
       "      <td>120</td>\n",
       "      <td>80</td>\n",
       "      <td>grass</td>\n",
       "      <td>poison</td>\n",
       "      <td>100.0</td>\n",
       "      <td>1</td>\n",
       "      <td>0</td>\n",
       "    </tr>\n",
       "    <tr>\n",
       "      <th>Charmander</th>\n",
       "      <td>['Blaze', 'Solar Power']</td>\n",
       "      <td>0.5</td>\n",
       "      <td>1.0</td>\n",
       "      <td>1.0</td>\n",
       "      <td>1.0</td>\n",
       "      <td>0.5</td>\n",
       "      <td>1.0</td>\n",
       "      <td>0.5</td>\n",
       "      <td>1.0</td>\n",
       "      <td>1.0</td>\n",
       "      <td>0.50</td>\n",
       "      <td>2.0</td>\n",
       "      <td>0.5</td>\n",
       "      <td>1.0</td>\n",
       "      <td>1.0</td>\n",
       "      <td>1.0</td>\n",
       "      <td>2.0</td>\n",
       "      <td>0.5</td>\n",
       "      <td>2.0</td>\n",
       "      <td>52</td>\n",
       "      <td>5120</td>\n",
       "      <td>70</td>\n",
       "      <td>309</td>\n",
       "      <td>45</td>\n",
       "      <td>Lizard Pokémon</td>\n",
       "      <td>43</td>\n",
       "      <td>1059860</td>\n",
       "      <td>0.6</td>\n",
       "      <td>39</td>\n",
       "      <td>Hitokageヒトカゲ</td>\n",
       "      <td>88.1</td>\n",
       "      <td>4</td>\n",
       "      <td>60</td>\n",
       "      <td>50</td>\n",
       "      <td>65</td>\n",
       "      <td>fire</td>\n",
       "      <td>NaN</td>\n",
       "      <td>8.5</td>\n",
       "      <td>1</td>\n",
       "      <td>0</td>\n",
       "    </tr>\n",
       "    <tr>\n",
       "      <th>Charmeleon</th>\n",
       "      <td>['Blaze', 'Solar Power']</td>\n",
       "      <td>0.5</td>\n",
       "      <td>1.0</td>\n",
       "      <td>1.0</td>\n",
       "      <td>1.0</td>\n",
       "      <td>0.5</td>\n",
       "      <td>1.0</td>\n",
       "      <td>0.5</td>\n",
       "      <td>1.0</td>\n",
       "      <td>1.0</td>\n",
       "      <td>0.50</td>\n",
       "      <td>2.0</td>\n",
       "      <td>0.5</td>\n",
       "      <td>1.0</td>\n",
       "      <td>1.0</td>\n",
       "      <td>1.0</td>\n",
       "      <td>2.0</td>\n",
       "      <td>0.5</td>\n",
       "      <td>2.0</td>\n",
       "      <td>64</td>\n",
       "      <td>5120</td>\n",
       "      <td>70</td>\n",
       "      <td>405</td>\n",
       "      <td>45</td>\n",
       "      <td>Flame Pokémon</td>\n",
       "      <td>58</td>\n",
       "      <td>1059860</td>\n",
       "      <td>1.1</td>\n",
       "      <td>58</td>\n",
       "      <td>Lizardoリザード</td>\n",
       "      <td>88.1</td>\n",
       "      <td>5</td>\n",
       "      <td>80</td>\n",
       "      <td>65</td>\n",
       "      <td>80</td>\n",
       "      <td>fire</td>\n",
       "      <td>NaN</td>\n",
       "      <td>19.0</td>\n",
       "      <td>1</td>\n",
       "      <td>0</td>\n",
       "    </tr>\n",
       "  </tbody>\n",
       "</table>\n",
       "</div>"
      ],
      "text/plain": [
       "                              abilities  against_bug  against_dark  \\\n",
       "name                                                                 \n",
       "Bulbasaur   ['Overgrow', 'Chlorophyll']          1.0           1.0   \n",
       "Ivysaur     ['Overgrow', 'Chlorophyll']          1.0           1.0   \n",
       "Venusaur    ['Overgrow', 'Chlorophyll']          1.0           1.0   \n",
       "Charmander     ['Blaze', 'Solar Power']          0.5           1.0   \n",
       "Charmeleon     ['Blaze', 'Solar Power']          0.5           1.0   \n",
       "\n",
       "            against_dragon  against_electric  against_fairy  against_fight  \\\n",
       "name                                                                         \n",
       "Bulbasaur              1.0               0.5            0.5            0.5   \n",
       "Ivysaur                1.0               0.5            0.5            0.5   \n",
       "Venusaur               1.0               0.5            0.5            0.5   \n",
       "Charmander             1.0               1.0            0.5            1.0   \n",
       "Charmeleon             1.0               1.0            0.5            1.0   \n",
       "\n",
       "            against_fire  against_flying  against_ghost  against_grass  \\\n",
       "name                                                                     \n",
       "Bulbasaur            2.0             2.0            1.0           0.25   \n",
       "Ivysaur              2.0             2.0            1.0           0.25   \n",
       "Venusaur             2.0             2.0            1.0           0.25   \n",
       "Charmander           0.5             1.0            1.0           0.50   \n",
       "Charmeleon           0.5             1.0            1.0           0.50   \n",
       "\n",
       "            against_ground  against_ice  against_normal  against_poison  \\\n",
       "name                                                                      \n",
       "Bulbasaur              1.0          2.0             1.0             1.0   \n",
       "Ivysaur                1.0          2.0             1.0             1.0   \n",
       "Venusaur               1.0          2.0             1.0             1.0   \n",
       "Charmander             2.0          0.5             1.0             1.0   \n",
       "Charmeleon             2.0          0.5             1.0             1.0   \n",
       "\n",
       "            against_psychic  against_rock  against_steel  against_water  \\\n",
       "name                                                                      \n",
       "Bulbasaur               2.0           1.0            1.0            0.5   \n",
       "Ivysaur                 2.0           1.0            1.0            0.5   \n",
       "Venusaur                2.0           1.0            1.0            0.5   \n",
       "Charmander              1.0           2.0            0.5            2.0   \n",
       "Charmeleon              1.0           2.0            0.5            2.0   \n",
       "\n",
       "            attack  base_egg_steps  base_happiness  base_total capture_rate  \\\n",
       "name                                                                          \n",
       "Bulbasaur       49            5120              70         318           45   \n",
       "Ivysaur         62            5120              70         405           45   \n",
       "Venusaur       100            5120              70         625           45   \n",
       "Charmander      52            5120              70         309           45   \n",
       "Charmeleon      64            5120              70         405           45   \n",
       "\n",
       "             classfication  defense  experience_growth  height_m  hp  \\\n",
       "name                                                                   \n",
       "Bulbasaur     Seed Pokémon       49            1059860       0.7  45   \n",
       "Ivysaur       Seed Pokémon       63            1059860       1.0  60   \n",
       "Venusaur      Seed Pokémon      123            1059860       2.0  80   \n",
       "Charmander  Lizard Pokémon       43            1059860       0.6  39   \n",
       "Charmeleon   Flame Pokémon       58            1059860       1.1  58   \n",
       "\n",
       "               japanese_name  percentage_male  pokedex_number  sp_attack  \\\n",
       "name                                                                       \n",
       "Bulbasaur   Fushigidaneフシギダネ             88.1               1         65   \n",
       "Ivysaur      Fushigisouフシギソウ             88.1               2         80   \n",
       "Venusaur    Fushigibanaフシギバナ             88.1               3        122   \n",
       "Charmander      Hitokageヒトカゲ             88.1               4         60   \n",
       "Charmeleon       Lizardoリザード             88.1               5         80   \n",
       "\n",
       "            sp_defense  speed  type1   type2  weight_kg  generation  \\\n",
       "name                                                                  \n",
       "Bulbasaur           65     45  grass  poison        6.9           1   \n",
       "Ivysaur             80     60  grass  poison       13.0           1   \n",
       "Venusaur           120     80  grass  poison      100.0           1   \n",
       "Charmander          50     65   fire     NaN        8.5           1   \n",
       "Charmeleon          65     80   fire     NaN       19.0           1   \n",
       "\n",
       "            is_legendary  \n",
       "name                      \n",
       "Bulbasaur              0  \n",
       "Ivysaur                0  \n",
       "Venusaur               0  \n",
       "Charmander             0  \n",
       "Charmeleon             0  "
      ]
     },
     "execution_count": 56,
     "metadata": {},
     "output_type": "execute_result"
    }
   ],
   "source": [
    "ds_extended = pd.read_csv(\"pokemon_extended.csv\", index_col='name')\n",
    "pd.set_option(\"display.max_columns\", None)\n",
    "ds_extended.head()"
   ]
  },
  {
   "cell_type": "markdown",
   "id": "66828994",
   "metadata": {},
   "source": [
    "We plotten een lijngrafiek waarop het gemiddelde gewicht per generatie valt af te lezen."
   ]
  },
  {
   "cell_type": "code",
   "execution_count": 27,
   "id": "6e6ed7d4",
   "metadata": {},
   "outputs": [
    {
     "data": {
      "text/plain": [
       "<AxesSubplot:xlabel='generation', ylabel='weight_kg'>"
      ]
     },
     "execution_count": 27,
     "metadata": {},
     "output_type": "execute_result"
    },
    {
     "data": {
      "image/png": "[encoded data removed]",
      "text/plain": [
       "<Figure size 720x720 with 1 Axes>"
      ]
     },
     "metadata": {
      "needs_background": "light"
     },
     "output_type": "display_data"
    }
   ],
   "source": [
    "plt.figure(figsize=(10, 10))\n",
    "sns.lineplot(x=ds_extended.generation, y=ds_extended.weight_kg, estimator='mean', ci=None)"
   ]
  },
  {
   "cell_type": "markdown",
   "id": "88e4095a",
   "metadata": {},
   "source": [
    "We plotten een lijngrafiek waarop de gemiddelde hoogte per generatie valt af te lezen."
   ]
  },
  {
   "cell_type": "code",
   "execution_count": 28,
   "id": "2874232c",
   "metadata": {
    "scrolled": false
   },
   "outputs": [
    {
     "data": {
      "text/plain": [
       "<AxesSubplot:xlabel='generation', ylabel='height_m'>"
      ]
     },
     "execution_count": 28,
     "metadata": {},
     "output_type": "execute_result"
    },
    {
     "data": {
      "image/png": "[encoded data removed]",
      "text/plain": [
       "<Figure size 720x720 with 1 Axes>"
      ]
     },
     "metadata": {
      "needs_background": "light"
     },
     "output_type": "display_data"
    }
   ],
   "source": [
    "plt.figure(figsize=(10, 10))\n",
    "sns.lineplot(x=ds_extended.generation, y=ds_extended.height_m, estimator='mean', ci=None)"
   ]
  },
  {
   "cell_type": "markdown",
   "id": "da8221e2",
   "metadata": {},
   "source": [
    "## Piechart"
   ]
  },
  {
   "cell_type": "markdown",
   "id": "ed94134a",
   "metadata": {},
   "source": [
    "Als laatste willen we laten zien hoe de verhouding tussen het aantal typen Pokemon is. We gaan dit doen middels een pie chart. Helaas heeft seaborn (nog) geen pie chart functie, daarom gaan we matplotlib gebruiken. Importeer matplotlib met import matplotlib.pyplot as plt. Het grote verschil tussen matplotlib en seaborn is dat seaborn gebouwd is om met pandas dataframes samen te werken. Matplotlib werkt ook met andere datastructuren als input, zoals een list."
   ]
  },
  {
   "cell_type": "markdown",
   "id": "026db536",
   "metadata": {},
   "source": [
    "We maken een pie chart waarin je de verdeling van Pokemons per type laat zien. Je hoeft dit alleen te doen voor type 1. Hiervoor moet je dus eerst uitvinden hoeveel Pokemons elk type bevat."
   ]
  },
  {
   "cell_type": "markdown",
   "id": "0a2359db",
   "metadata": {},
   "source": [
    "We zoeken uit hoeveel Pokemons elk type bevat."
   ]
  },
  {
   "cell_type": "code",
   "execution_count": 29,
   "id": "e4e451b2",
   "metadata": {
    "scrolled": true
   },
   "outputs": [
    {
     "data": {
      "text/plain": [
       "water       114\n",
       "normal      105\n",
       "grass        78\n",
       "bug          72\n",
       "psychic      53\n",
       "fire         52\n",
       "rock         45\n",
       "electric     39\n",
       "ground       32\n",
       "poison       32\n",
       "dark         29\n",
       "fighting     28\n",
       "dragon       27\n",
       "ghost        27\n",
       "steel        24\n",
       "ice          23\n",
       "fairy        18\n",
       "flying        3\n",
       "Name: type1, dtype: int64"
      ]
     },
     "execution_count": 29,
     "metadata": {},
     "output_type": "execute_result"
    }
   ],
   "source": [
    "values = ds_extended.type1.value_counts()\n",
    "values"
   ]
  },
  {
   "cell_type": "markdown",
   "id": "d2cf1291",
   "metadata": {},
   "source": [
    "We maken nieuwe dataframe met kolommen count en type1."
   ]
  },
  {
   "cell_type": "code",
   "execution_count": 30,
   "id": "602ae7c3",
   "metadata": {
    "scrolled": false
   },
   "outputs": [
    {
     "data": {
      "text/html": [
       "<div>\n",
       "<style scoped>\n",
       "    .dataframe tbody tr th:only-of-type {\n",
       "        vertical-align: middle;\n",
       "    }\n",
       "\n",
       "    .dataframe tbody tr th {\n",
       "        vertical-align: top;\n",
       "    }\n",
       "\n",
       "    .dataframe thead th {\n",
       "        text-align: right;\n",
       "    }\n",
       "</style>\n",
       "<table border=\"1\" class=\"dataframe\">\n",
       "  <thead>\n",
       "    <tr style=\"text-align: right;\">\n",
       "      <th></th>\n",
       "      <th>type1</th>\n",
       "      <th>counts</th>\n",
       "    </tr>\n",
       "  </thead>\n",
       "  <tbody>\n",
       "    <tr>\n",
       "      <th>0</th>\n",
       "      <td>bug</td>\n",
       "      <td>72</td>\n",
       "    </tr>\n",
       "    <tr>\n",
       "      <th>1</th>\n",
       "      <td>dark</td>\n",
       "      <td>29</td>\n",
       "    </tr>\n",
       "    <tr>\n",
       "      <th>2</th>\n",
       "      <td>dragon</td>\n",
       "      <td>27</td>\n",
       "    </tr>\n",
       "    <tr>\n",
       "      <th>3</th>\n",
       "      <td>electric</td>\n",
       "      <td>39</td>\n",
       "    </tr>\n",
       "    <tr>\n",
       "      <th>4</th>\n",
       "      <td>fairy</td>\n",
       "      <td>18</td>\n",
       "    </tr>\n",
       "    <tr>\n",
       "      <th>5</th>\n",
       "      <td>fighting</td>\n",
       "      <td>28</td>\n",
       "    </tr>\n",
       "    <tr>\n",
       "      <th>6</th>\n",
       "      <td>fire</td>\n",
       "      <td>52</td>\n",
       "    </tr>\n",
       "    <tr>\n",
       "      <th>7</th>\n",
       "      <td>flying</td>\n",
       "      <td>3</td>\n",
       "    </tr>\n",
       "    <tr>\n",
       "      <th>8</th>\n",
       "      <td>ghost</td>\n",
       "      <td>27</td>\n",
       "    </tr>\n",
       "    <tr>\n",
       "      <th>9</th>\n",
       "      <td>grass</td>\n",
       "      <td>78</td>\n",
       "    </tr>\n",
       "    <tr>\n",
       "      <th>10</th>\n",
       "      <td>ground</td>\n",
       "      <td>32</td>\n",
       "    </tr>\n",
       "    <tr>\n",
       "      <th>11</th>\n",
       "      <td>ice</td>\n",
       "      <td>23</td>\n",
       "    </tr>\n",
       "    <tr>\n",
       "      <th>12</th>\n",
       "      <td>normal</td>\n",
       "      <td>105</td>\n",
       "    </tr>\n",
       "    <tr>\n",
       "      <th>13</th>\n",
       "      <td>poison</td>\n",
       "      <td>32</td>\n",
       "    </tr>\n",
       "    <tr>\n",
       "      <th>14</th>\n",
       "      <td>psychic</td>\n",
       "      <td>53</td>\n",
       "    </tr>\n",
       "    <tr>\n",
       "      <th>15</th>\n",
       "      <td>rock</td>\n",
       "      <td>45</td>\n",
       "    </tr>\n",
       "    <tr>\n",
       "      <th>16</th>\n",
       "      <td>steel</td>\n",
       "      <td>24</td>\n",
       "    </tr>\n",
       "    <tr>\n",
       "      <th>17</th>\n",
       "      <td>water</td>\n",
       "      <td>114</td>\n",
       "    </tr>\n",
       "  </tbody>\n",
       "</table>\n",
       "</div>"
      ],
      "text/plain": [
       "       type1  counts\n",
       "0        bug      72\n",
       "1       dark      29\n",
       "2     dragon      27\n",
       "3   electric      39\n",
       "4      fairy      18\n",
       "5   fighting      28\n",
       "6       fire      52\n",
       "7     flying       3\n",
       "8      ghost      27\n",
       "9      grass      78\n",
       "10    ground      32\n",
       "11       ice      23\n",
       "12    normal     105\n",
       "13    poison      32\n",
       "14   psychic      53\n",
       "15      rock      45\n",
       "16     steel      24\n",
       "17     water     114"
      ]
     },
     "execution_count": 30,
     "metadata": {},
     "output_type": "execute_result"
    }
   ],
   "source": [
    "filtered_pokemons = ds_extended.groupby('type1').size().reset_index(name='counts')\n",
    "filtered_pokemons"
   ]
  },
  {
   "cell_type": "markdown",
   "id": "ee1ef418",
   "metadata": {},
   "source": [
    "We plotten de pie chart. "
   ]
  },
  {
   "cell_type": "code",
   "execution_count": 31,
   "id": "10314d15",
   "metadata": {
    "scrolled": false
   },
   "outputs": [
    {
     "data": {
      "image/png": "[encoded data removed]",
      "text/plain": [
       "<Figure size 720x720 with 1 Axes>"
      ]
     },
     "metadata": {},
     "output_type": "display_data"
    }
   ],
   "source": [
    "plt.figure(figsize=(10, 10))\n",
    "plt.pie(filtered_pokemons['counts'].tolist(), labels=filtered_pokemons['type1'].tolist())\n",
    "plt.show()"
   ]
  },
  {
   "cell_type": "markdown",
   "id": "2882a079",
   "metadata": {},
   "source": [
    "## Styling met matplotlib\n"
   ]
  },
  {
   "cell_type": "markdown",
   "id": "eb6e3075",
   "metadata": {},
   "source": [
    "In deze exercise leer je hoe je je grafieken kan customizen met matplotlib."
   ]
  },
  {
   "cell_type": "markdown",
   "id": "5b55a56e",
   "metadata": {},
   "source": [
    "Maak met seaborn twee barcharts in een figuur, de een boven de andere. Plot in de bovenste het aantal Pokemon per type 1, en in de onderste het aantal Pokemon per type 2."
   ]
  },
  {
   "cell_type": "markdown",
   "id": "41c8e26b",
   "metadata": {},
   "source": [
    "We maken een nieuwe dataset en sorteren deze van hoog naar laag."
   ]
  },
  {
   "cell_type": "code",
   "execution_count": 39,
   "id": "a2c5338c",
   "metadata": {
    "scrolled": true
   },
   "outputs": [
    {
     "data": {
      "text/html": [
       "<div>\n",
       "<style scoped>\n",
       "    .dataframe tbody tr th:only-of-type {\n",
       "        vertical-align: middle;\n",
       "    }\n",
       "\n",
       "    .dataframe tbody tr th {\n",
       "        vertical-align: top;\n",
       "    }\n",
       "\n",
       "    .dataframe thead th {\n",
       "        text-align: right;\n",
       "    }\n",
       "</style>\n",
       "<table border=\"1\" class=\"dataframe\">\n",
       "  <thead>\n",
       "    <tr style=\"text-align: right;\">\n",
       "      <th></th>\n",
       "      <th>type1</th>\n",
       "      <th>counts</th>\n",
       "    </tr>\n",
       "  </thead>\n",
       "  <tbody>\n",
       "    <tr>\n",
       "      <th>17</th>\n",
       "      <td>water</td>\n",
       "      <td>114</td>\n",
       "    </tr>\n",
       "    <tr>\n",
       "      <th>12</th>\n",
       "      <td>normal</td>\n",
       "      <td>105</td>\n",
       "    </tr>\n",
       "    <tr>\n",
       "      <th>9</th>\n",
       "      <td>grass</td>\n",
       "      <td>78</td>\n",
       "    </tr>\n",
       "    <tr>\n",
       "      <th>0</th>\n",
       "      <td>bug</td>\n",
       "      <td>72</td>\n",
       "    </tr>\n",
       "    <tr>\n",
       "      <th>14</th>\n",
       "      <td>psychic</td>\n",
       "      <td>53</td>\n",
       "    </tr>\n",
       "    <tr>\n",
       "      <th>6</th>\n",
       "      <td>fire</td>\n",
       "      <td>52</td>\n",
       "    </tr>\n",
       "    <tr>\n",
       "      <th>15</th>\n",
       "      <td>rock</td>\n",
       "      <td>45</td>\n",
       "    </tr>\n",
       "    <tr>\n",
       "      <th>3</th>\n",
       "      <td>electric</td>\n",
       "      <td>39</td>\n",
       "    </tr>\n",
       "    <tr>\n",
       "      <th>10</th>\n",
       "      <td>ground</td>\n",
       "      <td>32</td>\n",
       "    </tr>\n",
       "    <tr>\n",
       "      <th>13</th>\n",
       "      <td>poison</td>\n",
       "      <td>32</td>\n",
       "    </tr>\n",
       "    <tr>\n",
       "      <th>1</th>\n",
       "      <td>dark</td>\n",
       "      <td>29</td>\n",
       "    </tr>\n",
       "    <tr>\n",
       "      <th>5</th>\n",
       "      <td>fighting</td>\n",
       "      <td>28</td>\n",
       "    </tr>\n",
       "    <tr>\n",
       "      <th>8</th>\n",
       "      <td>ghost</td>\n",
       "      <td>27</td>\n",
       "    </tr>\n",
       "    <tr>\n",
       "      <th>2</th>\n",
       "      <td>dragon</td>\n",
       "      <td>27</td>\n",
       "    </tr>\n",
       "    <tr>\n",
       "      <th>16</th>\n",
       "      <td>steel</td>\n",
       "      <td>24</td>\n",
       "    </tr>\n",
       "    <tr>\n",
       "      <th>11</th>\n",
       "      <td>ice</td>\n",
       "      <td>23</td>\n",
       "    </tr>\n",
       "    <tr>\n",
       "      <th>4</th>\n",
       "      <td>fairy</td>\n",
       "      <td>18</td>\n",
       "    </tr>\n",
       "    <tr>\n",
       "      <th>7</th>\n",
       "      <td>flying</td>\n",
       "      <td>3</td>\n",
       "    </tr>\n",
       "  </tbody>\n",
       "</table>\n",
       "</div>"
      ],
      "text/plain": [
       "       type1  counts\n",
       "17     water     114\n",
       "12    normal     105\n",
       "9      grass      78\n",
       "0        bug      72\n",
       "14   psychic      53\n",
       "6       fire      52\n",
       "15      rock      45\n",
       "3   electric      39\n",
       "10    ground      32\n",
       "13    poison      32\n",
       "1       dark      29\n",
       "5   fighting      28\n",
       "8      ghost      27\n",
       "2     dragon      27\n",
       "16     steel      24\n",
       "11       ice      23\n",
       "4      fairy      18\n",
       "7     flying       3"
      ]
     },
     "execution_count": 39,
     "metadata": {},
     "output_type": "execute_result"
    }
   ],
   "source": [
    "filtered_pokemons1 = ds_extended.groupby('type1').size().reset_index(name='counts').sort_values(by=['counts'], ascending=False)\n",
    "filtered_pokemons1"
   ]
  },
  {
   "cell_type": "markdown",
   "id": "ef2b63be",
   "metadata": {},
   "source": [
    "We maken een nieuwe dataset en sorteren deze van hoog naar laag."
   ]
  },
  {
   "cell_type": "code",
   "execution_count": 40,
   "id": "21ba72a3",
   "metadata": {
    "scrolled": true
   },
   "outputs": [
    {
     "data": {
      "text/html": [
       "<div>\n",
       "<style scoped>\n",
       "    .dataframe tbody tr th:only-of-type {\n",
       "        vertical-align: middle;\n",
       "    }\n",
       "\n",
       "    .dataframe tbody tr th {\n",
       "        vertical-align: top;\n",
       "    }\n",
       "\n",
       "    .dataframe thead th {\n",
       "        text-align: right;\n",
       "    }\n",
       "</style>\n",
       "<table border=\"1\" class=\"dataframe\">\n",
       "  <thead>\n",
       "    <tr style=\"text-align: right;\">\n",
       "      <th></th>\n",
       "      <th>type2</th>\n",
       "      <th>counts</th>\n",
       "    </tr>\n",
       "  </thead>\n",
       "  <tbody>\n",
       "    <tr>\n",
       "      <th>7</th>\n",
       "      <td>flying</td>\n",
       "      <td>95</td>\n",
       "    </tr>\n",
       "    <tr>\n",
       "      <th>13</th>\n",
       "      <td>poison</td>\n",
       "      <td>34</td>\n",
       "    </tr>\n",
       "    <tr>\n",
       "      <th>10</th>\n",
       "      <td>ground</td>\n",
       "      <td>34</td>\n",
       "    </tr>\n",
       "    <tr>\n",
       "      <th>14</th>\n",
       "      <td>psychic</td>\n",
       "      <td>29</td>\n",
       "    </tr>\n",
       "    <tr>\n",
       "      <th>4</th>\n",
       "      <td>fairy</td>\n",
       "      <td>29</td>\n",
       "    </tr>\n",
       "    <tr>\n",
       "      <th>5</th>\n",
       "      <td>fighting</td>\n",
       "      <td>25</td>\n",
       "    </tr>\n",
       "    <tr>\n",
       "      <th>16</th>\n",
       "      <td>steel</td>\n",
       "      <td>22</td>\n",
       "    </tr>\n",
       "    <tr>\n",
       "      <th>1</th>\n",
       "      <td>dark</td>\n",
       "      <td>21</td>\n",
       "    </tr>\n",
       "    <tr>\n",
       "      <th>9</th>\n",
       "      <td>grass</td>\n",
       "      <td>20</td>\n",
       "    </tr>\n",
       "    <tr>\n",
       "      <th>17</th>\n",
       "      <td>water</td>\n",
       "      <td>17</td>\n",
       "    </tr>\n",
       "    <tr>\n",
       "      <th>2</th>\n",
       "      <td>dragon</td>\n",
       "      <td>17</td>\n",
       "    </tr>\n",
       "    <tr>\n",
       "      <th>11</th>\n",
       "      <td>ice</td>\n",
       "      <td>15</td>\n",
       "    </tr>\n",
       "    <tr>\n",
       "      <th>8</th>\n",
       "      <td>ghost</td>\n",
       "      <td>14</td>\n",
       "    </tr>\n",
       "    <tr>\n",
       "      <th>15</th>\n",
       "      <td>rock</td>\n",
       "      <td>14</td>\n",
       "    </tr>\n",
       "    <tr>\n",
       "      <th>6</th>\n",
       "      <td>fire</td>\n",
       "      <td>13</td>\n",
       "    </tr>\n",
       "    <tr>\n",
       "      <th>3</th>\n",
       "      <td>electric</td>\n",
       "      <td>9</td>\n",
       "    </tr>\n",
       "    <tr>\n",
       "      <th>0</th>\n",
       "      <td>bug</td>\n",
       "      <td>5</td>\n",
       "    </tr>\n",
       "    <tr>\n",
       "      <th>12</th>\n",
       "      <td>normal</td>\n",
       "      <td>4</td>\n",
       "    </tr>\n",
       "  </tbody>\n",
       "</table>\n",
       "</div>"
      ],
      "text/plain": [
       "       type2  counts\n",
       "7     flying      95\n",
       "13    poison      34\n",
       "10    ground      34\n",
       "14   psychic      29\n",
       "4      fairy      29\n",
       "5   fighting      25\n",
       "16     steel      22\n",
       "1       dark      21\n",
       "9      grass      20\n",
       "17     water      17\n",
       "2     dragon      17\n",
       "11       ice      15\n",
       "8      ghost      14\n",
       "15      rock      14\n",
       "6       fire      13\n",
       "3   electric       9\n",
       "0        bug       5\n",
       "12    normal       4"
      ]
     },
     "execution_count": 40,
     "metadata": {},
     "output_type": "execute_result"
    }
   ],
   "source": [
    "filtered_pokemons2 = ds_extended.groupby('type2').size().reset_index(name='counts').sort_values(by=['counts'], ascending=False)\n",
    "filtered_pokemons2"
   ]
  },
  {
   "cell_type": "markdown",
   "id": "a7a59e6e",
   "metadata": {},
   "source": [
    "We plotten barchart."
   ]
  },
  {
   "cell_type": "code",
   "execution_count": 89,
   "id": "9edecd81",
   "metadata": {
    "scrolled": false
   },
   "outputs": [
    {
     "data": {
      "image/png": "[encoded data removed]",
      "text/plain": [
       "<Figure size 1440x1440 with 2 Axes>"
      ]
     },
     "metadata": {
      "needs_background": "light"
     },
     "output_type": "display_data"
    }
   ],
   "source": [
    "fig, axes = plt.subplots(2, 1, figsize=(20,20), sharey=False)\n",
    "\n",
    "plot1 = sns.barplot(ax=axes[0], x=filtered_pokemons1.type1, y=filtered_pokemons1.counts)\n",
    "plt.setp(plot1.get_xticklabels(), rotation=45)\n",
    "plot2 = sns.barplot(ax=axes[1], x=filtered_pokemons2.type2, y=filtered_pokemons2.counts)\n",
    "plt.setp(plot2.get_xticklabels(), rotation=45)\n",
    "plt.show()"
   ]
  },
  {
   "cell_type": "markdown",
   "id": "848f597c",
   "metadata": {},
   "source": [
    "## Fake It 'til You Make It!\n"
   ]
  },
  {
   "cell_type": "markdown",
   "id": "dc9b495b",
   "metadata": {},
   "source": [
    "In deze exercise leer je hoe je de assenlimieten van je grafiek verandert, en hoe je hiermee mensen zou kunnen misleiden."
   ]
  },
  {
   "cell_type": "markdown",
   "id": "b1ffc7d3",
   "metadata": {},
   "source": [
    "We selecteren nieuwe dataset."
   ]
  },
  {
   "cell_type": "code",
   "execution_count": 77,
   "id": "8180c84b",
   "metadata": {},
   "outputs": [
    {
     "data": {
      "text/html": [
       "<div>\n",
       "<style scoped>\n",
       "    .dataframe tbody tr th:only-of-type {\n",
       "        vertical-align: middle;\n",
       "    }\n",
       "\n",
       "    .dataframe tbody tr th {\n",
       "        vertical-align: top;\n",
       "    }\n",
       "\n",
       "    .dataframe thead th {\n",
       "        text-align: right;\n",
       "    }\n",
       "</style>\n",
       "<table border=\"1\" class=\"dataframe\">\n",
       "  <thead>\n",
       "    <tr style=\"text-align: right;\">\n",
       "      <th></th>\n",
       "      <th>generation</th>\n",
       "      <th>attack</th>\n",
       "    </tr>\n",
       "  </thead>\n",
       "  <tbody>\n",
       "    <tr>\n",
       "      <th>0</th>\n",
       "      <td>1</td>\n",
       "      <td>74.529801</td>\n",
       "    </tr>\n",
       "    <tr>\n",
       "      <th>1</th>\n",
       "      <td>2</td>\n",
       "      <td>69.960000</td>\n",
       "    </tr>\n",
       "    <tr>\n",
       "      <th>2</th>\n",
       "      <td>3</td>\n",
       "      <td>77.185185</td>\n",
       "    </tr>\n",
       "    <tr>\n",
       "      <th>3</th>\n",
       "      <td>4</td>\n",
       "      <td>82.672897</td>\n",
       "    </tr>\n",
       "    <tr>\n",
       "      <th>4</th>\n",
       "      <td>5</td>\n",
       "      <td>80.557692</td>\n",
       "    </tr>\n",
       "    <tr>\n",
       "      <th>5</th>\n",
       "      <td>6</td>\n",
       "      <td>76.527778</td>\n",
       "    </tr>\n",
       "    <tr>\n",
       "      <th>6</th>\n",
       "      <td>7</td>\n",
       "      <td>84.637500</td>\n",
       "    </tr>\n",
       "  </tbody>\n",
       "</table>\n",
       "</div>"
      ],
      "text/plain": [
       "   generation     attack\n",
       "0           1  74.529801\n",
       "1           2  69.960000\n",
       "2           3  77.185185\n",
       "3           4  82.672897\n",
       "4           5  80.557692\n",
       "5           6  76.527778\n",
       "6           7  84.637500"
      ]
     },
     "execution_count": 77,
     "metadata": {},
     "output_type": "execute_result"
    }
   ],
   "source": [
    "fake1 = ds_extended.groupby('generation')['attack'].mean().reset_index(name='attack')\n",
    "fake1"
   ]
  },
  {
   "cell_type": "markdown",
   "id": "5158593f",
   "metadata": {},
   "source": [
    "We plotten twee barplots."
   ]
  },
  {
   "cell_type": "code",
   "execution_count": 88,
   "id": "f435d146",
   "metadata": {},
   "outputs": [
    {
     "data": {
      "image/png": "[encoded data removed]",
      "text/plain": [
       "<Figure size 1440x1440 with 2 Axes>"
      ]
     },
     "metadata": {
      "needs_background": "light"
     },
     "output_type": "display_data"
    }
   ],
   "source": [
    "fig, axes = plt.subplots(1, 2, figsize=(20,20), sharey=False)\n",
    "\n",
    "plot1 = sns.barplot(ax=axes[0], x=fake1.generation, y=fake1.attack)\n",
    "plot2 = sns.barplot(ax=axes[1], x=fake1.generation, y=fake1.attack)\n",
    "plot2.set(ylim=(68, 85))\n",
    "plt.show()"
   ]
  }
 ],
 "metadata": {
  "kernelspec": {
   "display_name": "Python 3",
   "language": "python",
   "name": "python3"
  },
  "language_info": {
   "codemirror_mode": {
    "name": "ipython",
    "version": 3
   },
   "file_extension": ".py",
   "mimetype": "text/x-python",
   "name": "python",
   "nbconvert_exporter": "python",
   "pygments_lexer": "ipython3",
   "version": "3.9.5"
  }
 },
 "nbformat": 4,
 "nbformat_minor": 5
}
