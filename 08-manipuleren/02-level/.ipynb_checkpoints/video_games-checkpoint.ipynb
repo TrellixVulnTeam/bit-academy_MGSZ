{
 "cells": [
  {
   "cell_type": "markdown",
   "id": "1f0552ba",
   "metadata": {},
   "source": [
    "# Level 2/6: How to: omgaan met missing values"
   ]
  },
  {
   "cell_type": "markdown",
   "id": "25f18f61",
   "metadata": {},
   "source": [
    "In deze level behandelen we de volgende onderwerpen:\n",
    "- 02-01 Percentages;\n",
    "- 02-02 Weg met die rijen;\n",
    "- 02-03 Weg met die kolommen;\n",
    "- 02-04 Means of means;\n",
    "- 02-05 Medianen to the rescue;\n",
    "- 02-06 Sales calculator."
   ]
  },
  {
   "cell_type": "markdown",
   "id": "e996586a",
   "metadata": {},
   "source": [
    "We installeren de libraries."
   ]
  },
  {
   "cell_type": "code",
   "execution_count": 161,
   "id": "ec8dbd67",
   "metadata": {},
   "outputs": [],
   "source": [
    "import pandas as pd"
   ]
  },
  {
   "cell_type": "markdown",
   "id": "bb933ef4",
   "metadata": {},
   "source": [
    "## 02-01 Percentages\n",
    "Hieronder een beschrijving en de uitwerking van de opdracht.\n",
    "\n",
    "### Omschrijving\n",
    "In dit level ga je aan de slag met een dataset over de verkoop van video-games. Helaas komen in een dataset vaak NaN values voor. Dit kan je analyse of je plot verstoren. Daarom is het in kaart brengen van ontbrekende waardes altijd één van de eerste stappen van de data-cleaning. Het percentage ontbrekende waardes zegt namelijk iets over de datakwaliteit.\n",
    "\n",
    "Je gaat per kolom in je dataframe het percentage onbrekende waardes berekenen. Dit kun je als volgt berekenen:\n",
    "\n",
    "- percentage = (number of missing values / total number of datapoints ) * 100\n",
    "\n",
    "Loop over de kolomnamen van je dataframe. Print de kolomnaam en het bijbehorende aantal NaN values.\n",
    "\n",
    "\n",
    "- Bereken de som van het aantal waardes wat NaN is per kolom;\n",
    "- Deel deze som door het totale aantal gegevens om het percentage ontbrekende gegevens te berekenen.\n",
    "\n",
    "### Leerdoelen\n",
    "Een overzicht maken van de hoeveelheid ontbrekende waardes in je dataset.\n",
    "\n",
    "### Verwachte uitkomst\n",
    "Percentages NaN-values per kolom:\n",
    "\n",
    "Rank: 0.0 %\n",
    "Name: 0.0 %\n",
    "Platform: 0.0 %\n",
    "Year: 1.6327268345583803 %\n",
    "Genre: 0.0 %\n",
    "Publisher: 0.3494396915290999 %\n",
    "NA_Sales: 0.0 %\n",
    "EU_Sales: 16.53211230268707 %\n",
    "JP_Sales: 0.0 %\n",
    "Other_Sales: 0.0 %\n",
    "Global_Sales: 0.0 %\n",
    "\n",
    "De het procentteken is niet verplicht om erbij weer te geven in je Jupyter Notebook.\n",
    "\n",
    "### Nakijkcriteria\n",
    "1. Als je alle libraries uit \"requirements.txt\" hebt geïnstalleerd, dan kun je de Jupyter Notebook runnen.\n",
    "2. Per kolom wordt het percentage NaN-values geprint. De kolommen 'Year', 'Publisher', en 'EU_Sales' bevatten NaN-values. EU_Sales heeft het hoogste percentage: 16.53211230268707 %\n"
   ]
  },
  {
   "cell_type": "markdown",
   "id": "f0b642de",
   "metadata": {},
   "source": [
    "### Uitwerking\n",
    "We lezen csv bestand in."
   ]
  },
  {
   "cell_type": "code",
   "execution_count": 32,
   "id": "8a24d455",
   "metadata": {
    "scrolled": true
   },
   "outputs": [
    {
     "data": {
      "text/html": [
       "<div>\n",
       "<style scoped>\n",
       "    .dataframe tbody tr th:only-of-type {\n",
       "        vertical-align: middle;\n",
       "    }\n",
       "\n",
       "    .dataframe tbody tr th {\n",
       "        vertical-align: top;\n",
       "    }\n",
       "\n",
       "    .dataframe thead th {\n",
       "        text-align: right;\n",
       "    }\n",
       "</style>\n",
       "<table border=\"1\" class=\"dataframe\">\n",
       "  <thead>\n",
       "    <tr style=\"text-align: right;\">\n",
       "      <th></th>\n",
       "      <th>Rank</th>\n",
       "      <th>Name</th>\n",
       "      <th>Platform</th>\n",
       "      <th>Year</th>\n",
       "      <th>Genre</th>\n",
       "      <th>Publisher</th>\n",
       "      <th>NA_Sales</th>\n",
       "      <th>EU_Sales</th>\n",
       "      <th>JP_Sales</th>\n",
       "      <th>Other_Sales</th>\n",
       "      <th>Global_Sales</th>\n",
       "    </tr>\n",
       "  </thead>\n",
       "  <tbody>\n",
       "    <tr>\n",
       "      <th>0</th>\n",
       "      <td>1</td>\n",
       "      <td>Wii Sports</td>\n",
       "      <td>Wii</td>\n",
       "      <td>2006.0</td>\n",
       "      <td>Sports</td>\n",
       "      <td>Nintendo</td>\n",
       "      <td>41.49</td>\n",
       "      <td>29.02</td>\n",
       "      <td>3.77</td>\n",
       "      <td>8.46</td>\n",
       "      <td>82.74</td>\n",
       "    </tr>\n",
       "    <tr>\n",
       "      <th>1</th>\n",
       "      <td>2</td>\n",
       "      <td>Super Mario Bros.</td>\n",
       "      <td>NES</td>\n",
       "      <td>1985.0</td>\n",
       "      <td>Platform</td>\n",
       "      <td>Nintendo</td>\n",
       "      <td>29.08</td>\n",
       "      <td>3.58</td>\n",
       "      <td>6.81</td>\n",
       "      <td>0.77</td>\n",
       "      <td>40.24</td>\n",
       "    </tr>\n",
       "    <tr>\n",
       "      <th>2</th>\n",
       "      <td>3</td>\n",
       "      <td>Mario Kart Wii</td>\n",
       "      <td>Wii</td>\n",
       "      <td>2008.0</td>\n",
       "      <td>Racing</td>\n",
       "      <td>Nintendo</td>\n",
       "      <td>15.85</td>\n",
       "      <td>12.88</td>\n",
       "      <td>3.79</td>\n",
       "      <td>3.31</td>\n",
       "      <td>35.82</td>\n",
       "    </tr>\n",
       "    <tr>\n",
       "      <th>3</th>\n",
       "      <td>4</td>\n",
       "      <td>Wii Sports Resort</td>\n",
       "      <td>Wii</td>\n",
       "      <td>2009.0</td>\n",
       "      <td>Sports</td>\n",
       "      <td>Nintendo</td>\n",
       "      <td>15.75</td>\n",
       "      <td>11.01</td>\n",
       "      <td>3.28</td>\n",
       "      <td>2.96</td>\n",
       "      <td>33.00</td>\n",
       "    </tr>\n",
       "    <tr>\n",
       "      <th>4</th>\n",
       "      <td>5</td>\n",
       "      <td>Pokemon Red/Pokemon Blue</td>\n",
       "      <td>GB</td>\n",
       "      <td>1996.0</td>\n",
       "      <td>Role-Playing</td>\n",
       "      <td>Nintendo</td>\n",
       "      <td>11.27</td>\n",
       "      <td>NaN</td>\n",
       "      <td>10.22</td>\n",
       "      <td>1.00</td>\n",
       "      <td>31.37</td>\n",
       "    </tr>\n",
       "    <tr>\n",
       "      <th>...</th>\n",
       "      <td>...</td>\n",
       "      <td>...</td>\n",
       "      <td>...</td>\n",
       "      <td>...</td>\n",
       "      <td>...</td>\n",
       "      <td>...</td>\n",
       "      <td>...</td>\n",
       "      <td>...</td>\n",
       "      <td>...</td>\n",
       "      <td>...</td>\n",
       "      <td>...</td>\n",
       "    </tr>\n",
       "    <tr>\n",
       "      <th>16593</th>\n",
       "      <td>16596</td>\n",
       "      <td>Woody Woodpecker in Crazy Castle 5</td>\n",
       "      <td>GBA</td>\n",
       "      <td>2002.0</td>\n",
       "      <td>Platform</td>\n",
       "      <td>Kemco</td>\n",
       "      <td>0.01</td>\n",
       "      <td>0.00</td>\n",
       "      <td>0.00</td>\n",
       "      <td>0.00</td>\n",
       "      <td>0.01</td>\n",
       "    </tr>\n",
       "    <tr>\n",
       "      <th>16594</th>\n",
       "      <td>16597</td>\n",
       "      <td>Men in Black II: Alien Escape</td>\n",
       "      <td>GC</td>\n",
       "      <td>2003.0</td>\n",
       "      <td>Shooter</td>\n",
       "      <td>Infogrames</td>\n",
       "      <td>0.01</td>\n",
       "      <td>0.00</td>\n",
       "      <td>0.00</td>\n",
       "      <td>0.00</td>\n",
       "      <td>0.01</td>\n",
       "    </tr>\n",
       "    <tr>\n",
       "      <th>16595</th>\n",
       "      <td>16598</td>\n",
       "      <td>SCORE International Baja 1000: The Official Game</td>\n",
       "      <td>PS2</td>\n",
       "      <td>2008.0</td>\n",
       "      <td>Racing</td>\n",
       "      <td>Activision</td>\n",
       "      <td>0.00</td>\n",
       "      <td>0.00</td>\n",
       "      <td>0.00</td>\n",
       "      <td>0.00</td>\n",
       "      <td>0.01</td>\n",
       "    </tr>\n",
       "    <tr>\n",
       "      <th>16596</th>\n",
       "      <td>16599</td>\n",
       "      <td>Know How 2</td>\n",
       "      <td>DS</td>\n",
       "      <td>2010.0</td>\n",
       "      <td>Puzzle</td>\n",
       "      <td>7G//AMES</td>\n",
       "      <td>0.00</td>\n",
       "      <td>NaN</td>\n",
       "      <td>0.00</td>\n",
       "      <td>0.00</td>\n",
       "      <td>0.01</td>\n",
       "    </tr>\n",
       "    <tr>\n",
       "      <th>16597</th>\n",
       "      <td>16600</td>\n",
       "      <td>Spirits &amp; Spells</td>\n",
       "      <td>GBA</td>\n",
       "      <td>2003.0</td>\n",
       "      <td>Platform</td>\n",
       "      <td>Wanadoo</td>\n",
       "      <td>0.01</td>\n",
       "      <td>0.00</td>\n",
       "      <td>0.00</td>\n",
       "      <td>0.00</td>\n",
       "      <td>0.01</td>\n",
       "    </tr>\n",
       "  </tbody>\n",
       "</table>\n",
       "<p>16598 rows × 11 columns</p>\n",
       "</div>"
      ],
      "text/plain": [
       "        Rank                                              Name Platform  \\\n",
       "0          1                                        Wii Sports      Wii   \n",
       "1          2                                 Super Mario Bros.      NES   \n",
       "2          3                                    Mario Kart Wii      Wii   \n",
       "3          4                                 Wii Sports Resort      Wii   \n",
       "4          5                          Pokemon Red/Pokemon Blue       GB   \n",
       "...      ...                                               ...      ...   \n",
       "16593  16596                Woody Woodpecker in Crazy Castle 5      GBA   \n",
       "16594  16597                     Men in Black II: Alien Escape       GC   \n",
       "16595  16598  SCORE International Baja 1000: The Official Game      PS2   \n",
       "16596  16599                                        Know How 2       DS   \n",
       "16597  16600                                  Spirits & Spells      GBA   \n",
       "\n",
       "         Year         Genre   Publisher  NA_Sales  EU_Sales  JP_Sales  \\\n",
       "0      2006.0        Sports    Nintendo     41.49     29.02      3.77   \n",
       "1      1985.0      Platform    Nintendo     29.08      3.58      6.81   \n",
       "2      2008.0        Racing    Nintendo     15.85     12.88      3.79   \n",
       "3      2009.0        Sports    Nintendo     15.75     11.01      3.28   \n",
       "4      1996.0  Role-Playing    Nintendo     11.27       NaN     10.22   \n",
       "...       ...           ...         ...       ...       ...       ...   \n",
       "16593  2002.0      Platform       Kemco      0.01      0.00      0.00   \n",
       "16594  2003.0       Shooter  Infogrames      0.01      0.00      0.00   \n",
       "16595  2008.0        Racing  Activision      0.00      0.00      0.00   \n",
       "16596  2010.0        Puzzle    7G//AMES      0.00       NaN      0.00   \n",
       "16597  2003.0      Platform     Wanadoo      0.01      0.00      0.00   \n",
       "\n",
       "       Other_Sales  Global_Sales  \n",
       "0             8.46         82.74  \n",
       "1             0.77         40.24  \n",
       "2             3.31         35.82  \n",
       "3             2.96         33.00  \n",
       "4             1.00         31.37  \n",
       "...            ...           ...  \n",
       "16593         0.00          0.01  \n",
       "16594         0.00          0.01  \n",
       "16595         0.00          0.01  \n",
       "16596         0.00          0.01  \n",
       "16597         0.00          0.01  \n",
       "\n",
       "[16598 rows x 11 columns]"
      ]
     },
     "execution_count": 32,
     "metadata": {},
     "output_type": "execute_result"
    }
   ],
   "source": [
    "df = pd.read_csv('video_games_sales.csv')\n",
    "df"
   ]
  },
  {
   "cell_type": "markdown",
   "id": "04bb129d",
   "metadata": {},
   "source": [
    "We halen aantal NaN values op en berekenen percantage."
   ]
  },
  {
   "cell_type": "code",
   "execution_count": 39,
   "id": "965a3b18",
   "metadata": {
    "scrolled": true
   },
   "outputs": [
    {
     "data": {
      "text/plain": [
       "Rank             0.000000\n",
       "Name             0.000000\n",
       "Platform         0.000000\n",
       "Year             1.632727\n",
       "Genre            0.000000\n",
       "Publisher        0.349440\n",
       "NA_Sales         0.000000\n",
       "EU_Sales        16.532112\n",
       "JP_Sales         0.000000\n",
       "Other_Sales      0.000000\n",
       "Global_Sales     0.000000\n",
       "dtype: float64"
      ]
     },
     "execution_count": 39,
     "metadata": {},
     "output_type": "execute_result"
    }
   ],
   "source": [
    "df.isnull().sum() / df.shape[0] * 100.00"
   ]
  },
  {
   "cell_type": "markdown",
   "id": "0e5318f4",
   "metadata": {},
   "source": [
    "## 02-02 Weg met die rijen!\n",
    "Hieronder een beschrijving en de uitwerking van de opdracht.\n",
    "\n",
    "### Omschrijving\n",
    "\n",
    "Een manier om van je NaN values af te komen, is door simpelweg alle datapunten te verwijderen die ergens onvolledig zijn. We gaan hier deze strategie uitproberen.\n",
    "\n",
    "- Print het aantal datapunten.\n",
    "- Verwijder de rijen waar 'EU_Sales', 'Year', of 'Publisher' NaN is.\n",
    "- Hoeveel datapunten heb je nu over?\n",
    "\n",
    "### Leerdoelen\n",
    "\n",
    "Oplossing toepassen om met missing values om te gaan.\n",
    "\n",
    "### Verwachte uitkomst\n",
    "\n",
    "Oorspronkelijke aantal datapunten: 16598\n",
    "\n",
    "Na het verwijderen van rijen: 13592\n",
    "\n",
    "### Nakijkcriteria\n",
    "\n",
    "- Als je alle libraries uit \"requirements.txt\" hebt geïnstalleerd, dan kun je de Jupyter Notebook runnen.\n",
    "- Het aantal overgebleven datapunten wordt geprint en is 13592."
   ]
  },
  {
   "cell_type": "markdown",
   "id": "e8a2e0aa",
   "metadata": {},
   "source": [
    "### Uitwerking\n",
    "\n",
    "We maken maken een nieuwe dataframe zonder NaN."
   ]
  },
  {
   "cell_type": "code",
   "execution_count": 47,
   "id": "30fc201c",
   "metadata": {},
   "outputs": [
    {
     "data": {
      "text/html": [
       "<div>\n",
       "<style scoped>\n",
       "    .dataframe tbody tr th:only-of-type {\n",
       "        vertical-align: middle;\n",
       "    }\n",
       "\n",
       "    .dataframe tbody tr th {\n",
       "        vertical-align: top;\n",
       "    }\n",
       "\n",
       "    .dataframe thead th {\n",
       "        text-align: right;\n",
       "    }\n",
       "</style>\n",
       "<table border=\"1\" class=\"dataframe\">\n",
       "  <thead>\n",
       "    <tr style=\"text-align: right;\">\n",
       "      <th></th>\n",
       "      <th>Rank</th>\n",
       "      <th>Name</th>\n",
       "      <th>Platform</th>\n",
       "      <th>Year</th>\n",
       "      <th>Genre</th>\n",
       "      <th>Publisher</th>\n",
       "      <th>NA_Sales</th>\n",
       "      <th>EU_Sales</th>\n",
       "      <th>JP_Sales</th>\n",
       "      <th>Other_Sales</th>\n",
       "      <th>Global_Sales</th>\n",
       "    </tr>\n",
       "  </thead>\n",
       "  <tbody>\n",
       "    <tr>\n",
       "      <th>0</th>\n",
       "      <td>1</td>\n",
       "      <td>Wii Sports</td>\n",
       "      <td>Wii</td>\n",
       "      <td>2006.0</td>\n",
       "      <td>Sports</td>\n",
       "      <td>Nintendo</td>\n",
       "      <td>41.49</td>\n",
       "      <td>29.02</td>\n",
       "      <td>3.77</td>\n",
       "      <td>8.46</td>\n",
       "      <td>82.74</td>\n",
       "    </tr>\n",
       "    <tr>\n",
       "      <th>1</th>\n",
       "      <td>2</td>\n",
       "      <td>Super Mario Bros.</td>\n",
       "      <td>NES</td>\n",
       "      <td>1985.0</td>\n",
       "      <td>Platform</td>\n",
       "      <td>Nintendo</td>\n",
       "      <td>29.08</td>\n",
       "      <td>3.58</td>\n",
       "      <td>6.81</td>\n",
       "      <td>0.77</td>\n",
       "      <td>40.24</td>\n",
       "    </tr>\n",
       "    <tr>\n",
       "      <th>2</th>\n",
       "      <td>3</td>\n",
       "      <td>Mario Kart Wii</td>\n",
       "      <td>Wii</td>\n",
       "      <td>2008.0</td>\n",
       "      <td>Racing</td>\n",
       "      <td>Nintendo</td>\n",
       "      <td>15.85</td>\n",
       "      <td>12.88</td>\n",
       "      <td>3.79</td>\n",
       "      <td>3.31</td>\n",
       "      <td>35.82</td>\n",
       "    </tr>\n",
       "    <tr>\n",
       "      <th>3</th>\n",
       "      <td>4</td>\n",
       "      <td>Wii Sports Resort</td>\n",
       "      <td>Wii</td>\n",
       "      <td>2009.0</td>\n",
       "      <td>Sports</td>\n",
       "      <td>Nintendo</td>\n",
       "      <td>15.75</td>\n",
       "      <td>11.01</td>\n",
       "      <td>3.28</td>\n",
       "      <td>2.96</td>\n",
       "      <td>33.00</td>\n",
       "    </tr>\n",
       "    <tr>\n",
       "      <th>5</th>\n",
       "      <td>6</td>\n",
       "      <td>Tetris</td>\n",
       "      <td>GB</td>\n",
       "      <td>1989.0</td>\n",
       "      <td>Puzzle</td>\n",
       "      <td>Nintendo</td>\n",
       "      <td>23.20</td>\n",
       "      <td>2.26</td>\n",
       "      <td>4.22</td>\n",
       "      <td>0.58</td>\n",
       "      <td>30.26</td>\n",
       "    </tr>\n",
       "    <tr>\n",
       "      <th>...</th>\n",
       "      <td>...</td>\n",
       "      <td>...</td>\n",
       "      <td>...</td>\n",
       "      <td>...</td>\n",
       "      <td>...</td>\n",
       "      <td>...</td>\n",
       "      <td>...</td>\n",
       "      <td>...</td>\n",
       "      <td>...</td>\n",
       "      <td>...</td>\n",
       "      <td>...</td>\n",
       "    </tr>\n",
       "    <tr>\n",
       "      <th>16592</th>\n",
       "      <td>16595</td>\n",
       "      <td>Plushees</td>\n",
       "      <td>DS</td>\n",
       "      <td>2008.0</td>\n",
       "      <td>Simulation</td>\n",
       "      <td>Destineer</td>\n",
       "      <td>0.01</td>\n",
       "      <td>0.00</td>\n",
       "      <td>0.00</td>\n",
       "      <td>0.00</td>\n",
       "      <td>0.01</td>\n",
       "    </tr>\n",
       "    <tr>\n",
       "      <th>16593</th>\n",
       "      <td>16596</td>\n",
       "      <td>Woody Woodpecker in Crazy Castle 5</td>\n",
       "      <td>GBA</td>\n",
       "      <td>2002.0</td>\n",
       "      <td>Platform</td>\n",
       "      <td>Kemco</td>\n",
       "      <td>0.01</td>\n",
       "      <td>0.00</td>\n",
       "      <td>0.00</td>\n",
       "      <td>0.00</td>\n",
       "      <td>0.01</td>\n",
       "    </tr>\n",
       "    <tr>\n",
       "      <th>16594</th>\n",
       "      <td>16597</td>\n",
       "      <td>Men in Black II: Alien Escape</td>\n",
       "      <td>GC</td>\n",
       "      <td>2003.0</td>\n",
       "      <td>Shooter</td>\n",
       "      <td>Infogrames</td>\n",
       "      <td>0.01</td>\n",
       "      <td>0.00</td>\n",
       "      <td>0.00</td>\n",
       "      <td>0.00</td>\n",
       "      <td>0.01</td>\n",
       "    </tr>\n",
       "    <tr>\n",
       "      <th>16595</th>\n",
       "      <td>16598</td>\n",
       "      <td>SCORE International Baja 1000: The Official Game</td>\n",
       "      <td>PS2</td>\n",
       "      <td>2008.0</td>\n",
       "      <td>Racing</td>\n",
       "      <td>Activision</td>\n",
       "      <td>0.00</td>\n",
       "      <td>0.00</td>\n",
       "      <td>0.00</td>\n",
       "      <td>0.00</td>\n",
       "      <td>0.01</td>\n",
       "    </tr>\n",
       "    <tr>\n",
       "      <th>16597</th>\n",
       "      <td>16600</td>\n",
       "      <td>Spirits &amp; Spells</td>\n",
       "      <td>GBA</td>\n",
       "      <td>2003.0</td>\n",
       "      <td>Platform</td>\n",
       "      <td>Wanadoo</td>\n",
       "      <td>0.01</td>\n",
       "      <td>0.00</td>\n",
       "      <td>0.00</td>\n",
       "      <td>0.00</td>\n",
       "      <td>0.01</td>\n",
       "    </tr>\n",
       "  </tbody>\n",
       "</table>\n",
       "<p>13592 rows × 11 columns</p>\n",
       "</div>"
      ],
      "text/plain": [
       "        Rank                                              Name Platform  \\\n",
       "0          1                                        Wii Sports      Wii   \n",
       "1          2                                 Super Mario Bros.      NES   \n",
       "2          3                                    Mario Kart Wii      Wii   \n",
       "3          4                                 Wii Sports Resort      Wii   \n",
       "5          6                                            Tetris       GB   \n",
       "...      ...                                               ...      ...   \n",
       "16592  16595                                          Plushees       DS   \n",
       "16593  16596                Woody Woodpecker in Crazy Castle 5      GBA   \n",
       "16594  16597                     Men in Black II: Alien Escape       GC   \n",
       "16595  16598  SCORE International Baja 1000: The Official Game      PS2   \n",
       "16597  16600                                  Spirits & Spells      GBA   \n",
       "\n",
       "         Year       Genre   Publisher  NA_Sales  EU_Sales  JP_Sales  \\\n",
       "0      2006.0      Sports    Nintendo     41.49     29.02      3.77   \n",
       "1      1985.0    Platform    Nintendo     29.08      3.58      6.81   \n",
       "2      2008.0      Racing    Nintendo     15.85     12.88      3.79   \n",
       "3      2009.0      Sports    Nintendo     15.75     11.01      3.28   \n",
       "5      1989.0      Puzzle    Nintendo     23.20      2.26      4.22   \n",
       "...       ...         ...         ...       ...       ...       ...   \n",
       "16592  2008.0  Simulation   Destineer      0.01      0.00      0.00   \n",
       "16593  2002.0    Platform       Kemco      0.01      0.00      0.00   \n",
       "16594  2003.0     Shooter  Infogrames      0.01      0.00      0.00   \n",
       "16595  2008.0      Racing  Activision      0.00      0.00      0.00   \n",
       "16597  2003.0    Platform     Wanadoo      0.01      0.00      0.00   \n",
       "\n",
       "       Other_Sales  Global_Sales  \n",
       "0             8.46         82.74  \n",
       "1             0.77         40.24  \n",
       "2             3.31         35.82  \n",
       "3             2.96         33.00  \n",
       "5             0.58         30.26  \n",
       "...            ...           ...  \n",
       "16592         0.00          0.01  \n",
       "16593         0.00          0.01  \n",
       "16594         0.00          0.01  \n",
       "16595         0.00          0.01  \n",
       "16597         0.00          0.01  \n",
       "\n",
       "[13592 rows x 11 columns]"
      ]
     },
     "execution_count": 47,
     "metadata": {},
     "output_type": "execute_result"
    }
   ],
   "source": [
    "new_df = df.dropna(axis = 0, how ='any')\n",
    "new_df"
   ]
  },
  {
   "cell_type": "markdown",
   "id": "81585c4a",
   "metadata": {},
   "source": [
    "We printen de oude, de nieuwe en verschil datapunten."
   ]
  },
  {
   "cell_type": "code",
   "execution_count": 52,
   "id": "0aaa3255",
   "metadata": {
    "scrolled": true
   },
   "outputs": [
    {
     "name": "stdout",
     "output_type": "stream",
     "text": [
      "Oorspronkelijke aantal datapunten: 16598 \n",
      "Na het verwijderen van rijen: 13592 \n",
      "Verschil datapunten:  3006\n"
     ]
    }
   ],
   "source": [
    "print(\"Oorspronkelijke aantal datapunten:\", len(df), \"\\nNa het verwijderen van rijen:\", \n",
    "       len(new_df), \"\\nVerschil datapunten: \",\n",
    "       (len(df)-len(new_df)))"
   ]
  },
  {
   "cell_type": "markdown",
   "id": "2e37c430",
   "metadata": {},
   "source": [
    "## 02-03 Weg met die kolommen!\n",
    "Hieronder een beschrijving en de uitwerking van de opdracht.\n",
    "\n",
    "### Omschrijving\n",
    "In de vorige exercise heb je het probleem van ontbrekende waardes opgelost door deze rijen te verwijderen. Een andere strategie is om in plaats van rijen, de kolommen met ontbrekende waardes te verwijderen. Kun je bedenken waarom de ene of de andere strategie beter is?\n",
    "\n",
    "- Print het aantal kolommen in je dataframe.\n",
    "- Verwijder kolommen waarin NaN-values voorkomen.\n",
    "- Hoeveel kolommen heb je nu over?\n",
    "\n",
    "### Leerdoelen\n",
    "Oplossing toepassen om met NaN values om te gaan.\n",
    "\n",
    "### Nieuwe technieken\n",
    "dataframe.drop\n",
    "Verwijder gespecificeerde delen van pandas dataframe.\n",
    "\n",
    "### Verwachte uitkomst\n",
    "Oorspronkelijke aantal kolommen: 11\n",
    "\n",
    "Overgebleven kolommen: 8\n",
    "\n",
    "### Nakijkcriteria\n",
    "Als je alle libraries uit \"requirements.txt\" hebt geïnstalleerd, dan kun je de Jupyter Notebook runnen.\n",
    "Het aantal overgebleven kolommen wordt geprint en dit zijn er 8."
   ]
  },
  {
   "cell_type": "markdown",
   "id": "3506308b",
   "metadata": {},
   "source": [
    "### Uitwerking\n",
    "We gebruiken de oorspronkelijke dataframe (df).\n",
    "We printen het aantal kolommen in de oorspronkelijke dataframe."
   ]
  },
  {
   "cell_type": "code",
   "execution_count": 77,
   "id": "79c8d61f",
   "metadata": {},
   "outputs": [
    {
     "name": "stdout",
     "output_type": "stream",
     "text": [
      "Oorspronkelijke aantal kolommen: 11\n"
     ]
    }
   ],
   "source": [
    "print(\"Oorspronkelijke aantal kolommen:\", len(df.columns))"
   ]
  },
  {
   "cell_type": "markdown",
   "id": "8a927bcc",
   "metadata": {},
   "source": [
    "We verwijderen NaN kolommen."
   ]
  },
  {
   "cell_type": "code",
   "execution_count": 61,
   "id": "0d1ed6f2",
   "metadata": {
    "scrolled": true
   },
   "outputs": [],
   "source": [
    "df_col = df.dropna(axis = 1, how ='any')"
   ]
  },
  {
   "cell_type": "markdown",
   "id": "d03dea17",
   "metadata": {},
   "source": [
    "We printen hoeveel kolommen er nog over zijn."
   ]
  },
  {
   "cell_type": "code",
   "execution_count": 102,
   "id": "40bfccda",
   "metadata": {
    "scrolled": true
   },
   "outputs": [
    {
     "name": "stdout",
     "output_type": "stream",
     "text": [
      "Overgebleven kolommen: 8\n"
     ]
    }
   ],
   "source": [
    "print(\"Overgebleven kolommen:\", len(df_col.columns))"
   ]
  },
  {
   "cell_type": "markdown",
   "id": "977e289c",
   "metadata": {},
   "source": [
    "## 02-04 Means of Means\n",
    "Hieronder een beschrijving en de uitwerking van de opdracht.\n",
    "\n",
    "### Omschrijving\n",
    "Een methode om al je datapunten te behouden, is door de ontbrekende waardes in te vullen met een aannemelijke waarde. Je zou ontbrekende waardes kunnen invullen met het gemiddelde van de kolom. Een voordeel hiervan is dat de 'mean' (het gemiddelde) van de kolom hetzelfde blijft. We gaan deze strategie toepassen op de kolom 'EU_Sales'.\n",
    "\n",
    "- Print het gemiddelde van de kolom EU_Sales.\n",
    "- Vul de NaN values in deze kolom met dit gemiddelde.\n",
    "- Print het percentage NaN values. Is het gelukt?\n",
    "- Print het gemiddelde van de kolommen. Is deze onveranderd gebleven?\n",
    "\n",
    "### Leerdoelen\n",
    "Oplossing voor NaN values toepassen.\n",
    "\n",
    "### Nieuwe technieken\n",
    "Met de functie fillna van pandas kun je NaN values opvullen met een gekozen waarde.\n",
    "\n",
    "### Verwachte uitkomst\n",
    "- Gemiddelde EU Sales: 0.14876714306337524\n",
    "- Percentage NaN na opvullen: 0.0 %\n",
    "- Nieuw gemiddelde: 0.14876714306337518\n",
    "\n",
    "### Nakijkcriteria\n",
    "- Als je alle libraries uit \"requirements.txt\" hebt geïnstalleerd, dan kun je de Jupyter Notebook runnen.\n",
    "- Het gemiddelde voor en na het invullen van NaN-values is 0.14876714306337518\n"
   ]
  },
  {
   "cell_type": "markdown",
   "id": "79def088",
   "metadata": {},
   "source": [
    "### Uitwerking\n",
    "We lezen de oorspronkelijke dataframe in (df).<br>\n",
    "We printen het gemiddelde van de kolom EU_Sales."
   ]
  },
  {
   "cell_type": "code",
   "execution_count": 152,
   "id": "81b985ef",
   "metadata": {
    "scrolled": true
   },
   "outputs": [
    {
     "data": {
      "text/html": [
       "<div>\n",
       "<style scoped>\n",
       "    .dataframe tbody tr th:only-of-type {\n",
       "        vertical-align: middle;\n",
       "    }\n",
       "\n",
       "    .dataframe tbody tr th {\n",
       "        vertical-align: top;\n",
       "    }\n",
       "\n",
       "    .dataframe thead th {\n",
       "        text-align: right;\n",
       "    }\n",
       "</style>\n",
       "<table border=\"1\" class=\"dataframe\">\n",
       "  <thead>\n",
       "    <tr style=\"text-align: right;\">\n",
       "      <th></th>\n",
       "      <th>Rank</th>\n",
       "      <th>Name</th>\n",
       "      <th>Platform</th>\n",
       "      <th>Year</th>\n",
       "      <th>Genre</th>\n",
       "      <th>Publisher</th>\n",
       "      <th>NA_Sales</th>\n",
       "      <th>EU_Sales</th>\n",
       "      <th>JP_Sales</th>\n",
       "      <th>Other_Sales</th>\n",
       "      <th>Global_Sales</th>\n",
       "    </tr>\n",
       "  </thead>\n",
       "  <tbody>\n",
       "    <tr>\n",
       "      <th>0</th>\n",
       "      <td>1</td>\n",
       "      <td>Wii Sports</td>\n",
       "      <td>Wii</td>\n",
       "      <td>2006.0</td>\n",
       "      <td>Sports</td>\n",
       "      <td>Nintendo</td>\n",
       "      <td>41.49</td>\n",
       "      <td>29.02</td>\n",
       "      <td>3.77</td>\n",
       "      <td>8.46</td>\n",
       "      <td>82.74</td>\n",
       "    </tr>\n",
       "    <tr>\n",
       "      <th>1</th>\n",
       "      <td>2</td>\n",
       "      <td>Super Mario Bros.</td>\n",
       "      <td>NES</td>\n",
       "      <td>1985.0</td>\n",
       "      <td>Platform</td>\n",
       "      <td>Nintendo</td>\n",
       "      <td>29.08</td>\n",
       "      <td>3.58</td>\n",
       "      <td>6.81</td>\n",
       "      <td>0.77</td>\n",
       "      <td>40.24</td>\n",
       "    </tr>\n",
       "    <tr>\n",
       "      <th>2</th>\n",
       "      <td>3</td>\n",
       "      <td>Mario Kart Wii</td>\n",
       "      <td>Wii</td>\n",
       "      <td>2008.0</td>\n",
       "      <td>Racing</td>\n",
       "      <td>Nintendo</td>\n",
       "      <td>15.85</td>\n",
       "      <td>12.88</td>\n",
       "      <td>3.79</td>\n",
       "      <td>3.31</td>\n",
       "      <td>35.82</td>\n",
       "    </tr>\n",
       "    <tr>\n",
       "      <th>3</th>\n",
       "      <td>4</td>\n",
       "      <td>Wii Sports Resort</td>\n",
       "      <td>Wii</td>\n",
       "      <td>2009.0</td>\n",
       "      <td>Sports</td>\n",
       "      <td>Nintendo</td>\n",
       "      <td>15.75</td>\n",
       "      <td>11.01</td>\n",
       "      <td>3.28</td>\n",
       "      <td>2.96</td>\n",
       "      <td>33.00</td>\n",
       "    </tr>\n",
       "    <tr>\n",
       "      <th>4</th>\n",
       "      <td>5</td>\n",
       "      <td>Pokemon Red/Pokemon Blue</td>\n",
       "      <td>GB</td>\n",
       "      <td>1996.0</td>\n",
       "      <td>Role-Playing</td>\n",
       "      <td>Nintendo</td>\n",
       "      <td>11.27</td>\n",
       "      <td>NaN</td>\n",
       "      <td>10.22</td>\n",
       "      <td>1.00</td>\n",
       "      <td>31.37</td>\n",
       "    </tr>\n",
       "    <tr>\n",
       "      <th>...</th>\n",
       "      <td>...</td>\n",
       "      <td>...</td>\n",
       "      <td>...</td>\n",
       "      <td>...</td>\n",
       "      <td>...</td>\n",
       "      <td>...</td>\n",
       "      <td>...</td>\n",
       "      <td>...</td>\n",
       "      <td>...</td>\n",
       "      <td>...</td>\n",
       "      <td>...</td>\n",
       "    </tr>\n",
       "    <tr>\n",
       "      <th>16593</th>\n",
       "      <td>16596</td>\n",
       "      <td>Woody Woodpecker in Crazy Castle 5</td>\n",
       "      <td>GBA</td>\n",
       "      <td>2002.0</td>\n",
       "      <td>Platform</td>\n",
       "      <td>Kemco</td>\n",
       "      <td>0.01</td>\n",
       "      <td>0.00</td>\n",
       "      <td>0.00</td>\n",
       "      <td>0.00</td>\n",
       "      <td>0.01</td>\n",
       "    </tr>\n",
       "    <tr>\n",
       "      <th>16594</th>\n",
       "      <td>16597</td>\n",
       "      <td>Men in Black II: Alien Escape</td>\n",
       "      <td>GC</td>\n",
       "      <td>2003.0</td>\n",
       "      <td>Shooter</td>\n",
       "      <td>Infogrames</td>\n",
       "      <td>0.01</td>\n",
       "      <td>0.00</td>\n",
       "      <td>0.00</td>\n",
       "      <td>0.00</td>\n",
       "      <td>0.01</td>\n",
       "    </tr>\n",
       "    <tr>\n",
       "      <th>16595</th>\n",
       "      <td>16598</td>\n",
       "      <td>SCORE International Baja 1000: The Official Game</td>\n",
       "      <td>PS2</td>\n",
       "      <td>2008.0</td>\n",
       "      <td>Racing</td>\n",
       "      <td>Activision</td>\n",
       "      <td>0.00</td>\n",
       "      <td>0.00</td>\n",
       "      <td>0.00</td>\n",
       "      <td>0.00</td>\n",
       "      <td>0.01</td>\n",
       "    </tr>\n",
       "    <tr>\n",
       "      <th>16596</th>\n",
       "      <td>16599</td>\n",
       "      <td>Know How 2</td>\n",
       "      <td>DS</td>\n",
       "      <td>2010.0</td>\n",
       "      <td>Puzzle</td>\n",
       "      <td>7G//AMES</td>\n",
       "      <td>0.00</td>\n",
       "      <td>NaN</td>\n",
       "      <td>0.00</td>\n",
       "      <td>0.00</td>\n",
       "      <td>0.01</td>\n",
       "    </tr>\n",
       "    <tr>\n",
       "      <th>16597</th>\n",
       "      <td>16600</td>\n",
       "      <td>Spirits &amp; Spells</td>\n",
       "      <td>GBA</td>\n",
       "      <td>2003.0</td>\n",
       "      <td>Platform</td>\n",
       "      <td>Wanadoo</td>\n",
       "      <td>0.01</td>\n",
       "      <td>0.00</td>\n",
       "      <td>0.00</td>\n",
       "      <td>0.00</td>\n",
       "      <td>0.01</td>\n",
       "    </tr>\n",
       "  </tbody>\n",
       "</table>\n",
       "<p>16598 rows × 11 columns</p>\n",
       "</div>"
      ],
      "text/plain": [
       "        Rank                                              Name Platform  \\\n",
       "0          1                                        Wii Sports      Wii   \n",
       "1          2                                 Super Mario Bros.      NES   \n",
       "2          3                                    Mario Kart Wii      Wii   \n",
       "3          4                                 Wii Sports Resort      Wii   \n",
       "4          5                          Pokemon Red/Pokemon Blue       GB   \n",
       "...      ...                                               ...      ...   \n",
       "16593  16596                Woody Woodpecker in Crazy Castle 5      GBA   \n",
       "16594  16597                     Men in Black II: Alien Escape       GC   \n",
       "16595  16598  SCORE International Baja 1000: The Official Game      PS2   \n",
       "16596  16599                                        Know How 2       DS   \n",
       "16597  16600                                  Spirits & Spells      GBA   \n",
       "\n",
       "         Year         Genre   Publisher  NA_Sales  EU_Sales  JP_Sales  \\\n",
       "0      2006.0        Sports    Nintendo     41.49     29.02      3.77   \n",
       "1      1985.0      Platform    Nintendo     29.08      3.58      6.81   \n",
       "2      2008.0        Racing    Nintendo     15.85     12.88      3.79   \n",
       "3      2009.0        Sports    Nintendo     15.75     11.01      3.28   \n",
       "4      1996.0  Role-Playing    Nintendo     11.27       NaN     10.22   \n",
       "...       ...           ...         ...       ...       ...       ...   \n",
       "16593  2002.0      Platform       Kemco      0.01      0.00      0.00   \n",
       "16594  2003.0       Shooter  Infogrames      0.01      0.00      0.00   \n",
       "16595  2008.0        Racing  Activision      0.00      0.00      0.00   \n",
       "16596  2010.0        Puzzle    7G//AMES      0.00       NaN      0.00   \n",
       "16597  2003.0      Platform     Wanadoo      0.01      0.00      0.00   \n",
       "\n",
       "       Other_Sales  Global_Sales  \n",
       "0             8.46         82.74  \n",
       "1             0.77         40.24  \n",
       "2             3.31         35.82  \n",
       "3             2.96         33.00  \n",
       "4             1.00         31.37  \n",
       "...            ...           ...  \n",
       "16593         0.00          0.01  \n",
       "16594         0.00          0.01  \n",
       "16595         0.00          0.01  \n",
       "16596         0.00          0.01  \n",
       "16597         0.00          0.01  \n",
       "\n",
       "[16598 rows x 11 columns]"
      ]
     },
     "execution_count": 152,
     "metadata": {},
     "output_type": "execute_result"
    }
   ],
   "source": [
    "df2_mean_old = pd.read_csv('video_games_sales.csv')\n",
    "df2_mean_old"
   ]
  },
  {
   "cell_type": "markdown",
   "id": "c4e5ff42",
   "metadata": {},
   "source": [
    "We printen de oude gemiddelde."
   ]
  },
  {
   "cell_type": "code",
   "execution_count": 153,
   "id": "4a5fd5d6",
   "metadata": {
    "scrolled": true
   },
   "outputs": [
    {
     "name": "stdout",
     "output_type": "stream",
     "text": [
      "Gemiddelde EU Sales:  0.14876714306337524\n"
     ]
    }
   ],
   "source": [
    "mean_old = df2_mean_old[\"EU_Sales\"].mean()\n",
    "print(\"Gemiddelde EU Sales: \", mean_old)"
   ]
  },
  {
   "cell_type": "markdown",
   "id": "f754cf0b",
   "metadata": {},
   "source": [
    "We lezen nogmaals de csv bestand in."
   ]
  },
  {
   "cell_type": "code",
   "execution_count": 154,
   "id": "23e175c7",
   "metadata": {},
   "outputs": [],
   "source": [
    "df2_mean_new = pd.read_csv('video_games_sales.csv')"
   ]
  },
  {
   "cell_type": "markdown",
   "id": "e60cc5d0",
   "metadata": {},
   "source": [
    "We vervangen de NaN values met de oude gemiddelde."
   ]
  },
  {
   "cell_type": "code",
   "execution_count": 158,
   "id": "a9b10124",
   "metadata": {
    "scrolled": true
   },
   "outputs": [],
   "source": [
    "df2_mean_new[\"EU_Sales\"].fillna(mean_old, inplace = True)"
   ]
  },
  {
   "cell_type": "markdown",
   "id": "cc78fee9",
   "metadata": {},
   "source": [
    "We printen de percentage NaN na opvulling."
   ]
  },
  {
   "cell_type": "code",
   "execution_count": 159,
   "id": "51490d72",
   "metadata": {
    "scrolled": true
   },
   "outputs": [
    {
     "name": "stdout",
     "output_type": "stream",
     "text": [
      "Percentage NaN na opvullen:  0.0 %\n"
     ]
    }
   ],
   "source": [
    "print(\"Percentage NaN na opvullen: \", df['EU_Sales'].isna().sum() * 100.00, '%')"
   ]
  },
  {
   "cell_type": "markdown",
   "id": "ea98b3b1",
   "metadata": {},
   "source": [
    "We printen de nieuwe gemiddelde na opvulling."
   ]
  },
  {
   "cell_type": "code",
   "execution_count": 160,
   "id": "23d71ff3",
   "metadata": {},
   "outputs": [
    {
     "name": "stdout",
     "output_type": "stream",
     "text": [
      "Gemiddelde EU Sales:  0.14876714306337518\n"
     ]
    }
   ],
   "source": [
    "mean_new = df2_mean_new[\"EU_Sales\"].mean()\n",
    "print(\"Gemiddelde EU Sales: \", mean_new)"
   ]
  },
  {
   "cell_type": "markdown",
   "id": "5300077d",
   "metadata": {},
   "source": [
    "## 02-05 Medianen To the Rescue\n",
    "\n",
    "Hieronder een beschrijving en de uitwerking van de opdracht.\n",
    "\n",
    "### Omschrijving\n",
    "Een andere optie om ontbrekende waarden in te vullen, is door middel van de mediaan. Als je al je waarnemingen in je kolom op volgorde zet van klein naar groot, is de mediaan de middelste waarneming. Als je data niet gelijk verdeeld is, dan kan de mediaan een beter beeld geven rond welk getal de meeste waardes voorkomen.\n",
    "\n",
    "\n",
    "- Print het gemiddelde van de kolom EU_Sales.\n",
    "- Vul de NaN values in deze kolom met de mediaan van deze kolom.\n",
    "- Print het percentage NaN values. Is het gelukt?\n",
    "- Print het nieuwe gemiddelde van de kolommen. Is het gemiddelde sterk veranderd?\n",
    "\n",
    "### Leerdoelen\n",
    "Oplossing voor NaN values toepassen.\n",
    "\n",
    "### Nieuwe technieken\n",
    "Bereken de mediaan van een pandas dataframe.\n",
    "\n",
    "### Herhaalde technieken\n",
    "Met de functie fillna van pandas kun je NaN values opvullen met een gekozen waarde.\n",
    "\n",
    "#### Verwachte uitkomst\n",
    "- Gemiddelde EU Sales: 0.14876714306337524\n",
    "- Percentage NaN na opvullen: 0.0\n",
    "- Nieuw gemiddelde: 0.1274792143631763\n",
    "\n",
    "### Nakijkcriteria\n",
    "- Als je alle libraries uit \"requirements.txt\" hebt geïnstalleerd, dan kun je de Jupyter Notebook runnen.\n",
    "- Het gemiddelde verandert na het invullen invoegen van de mediaan van 0.14876714306337524 naar 0.1274792143631763"
   ]
  },
  {
   "cell_type": "markdown",
   "id": "f368f39c",
   "metadata": {},
   "source": [
    "### Uitwerking\n",
    "We lezen de csv bestand in."
   ]
  },
  {
   "cell_type": "code",
   "execution_count": 205,
   "id": "f579c82e",
   "metadata": {},
   "outputs": [],
   "source": [
    "df3 = pd.read_csv('video_games_sales.csv')"
   ]
  },
  {
   "cell_type": "markdown",
   "id": "e4ece438",
   "metadata": {},
   "source": [
    "We berekenen de oude gemidddelde."
   ]
  },
  {
   "cell_type": "code",
   "execution_count": 206,
   "id": "d58a7ccc",
   "metadata": {
    "scrolled": true
   },
   "outputs": [
    {
     "name": "stdout",
     "output_type": "stream",
     "text": [
      "Gemiddelde EU Sales:  0.14876714306337524\n"
     ]
    }
   ],
   "source": [
    "mean_new = df3[\"EU_Sales\"].mean()\n",
    "print(\"Gemiddelde EU Sales: \", mean_new)"
   ]
  },
  {
   "cell_type": "markdown",
   "id": "33d1fb6a",
   "metadata": {},
   "source": [
    "We berekenen de mediaan"
   ]
  },
  {
   "cell_type": "code",
   "execution_count": 207,
   "id": "2ca2f46b",
   "metadata": {},
   "outputs": [
    {
     "name": "stdout",
     "output_type": "stream",
     "text": [
      "Gemiddelde EU Sales:  0.02\n"
     ]
    }
   ],
   "source": [
    "median_old = df3[\"EU_Sales\"].median()\n",
    "print(\"Gemiddelde EU Sales: \", median_old)"
   ]
  },
  {
   "cell_type": "markdown",
   "id": "ba5884fc",
   "metadata": {},
   "source": [
    "We lezen nogmaals de csv bestand in."
   ]
  },
  {
   "cell_type": "code",
   "execution_count": 208,
   "id": "372bf09a",
   "metadata": {},
   "outputs": [],
   "source": [
    "df4 = pd.read_csv('video_games_sales.csv')"
   ]
  },
  {
   "cell_type": "markdown",
   "id": "71616c5c",
   "metadata": {},
   "source": [
    "We vervangen de NaN door de mediaan."
   ]
  },
  {
   "cell_type": "code",
   "execution_count": 209,
   "id": "f6ee3154",
   "metadata": {},
   "outputs": [],
   "source": [
    "df4[\"EU_Sales\"].fillna(median_old, inplace = True)"
   ]
  },
  {
   "cell_type": "markdown",
   "id": "30936561",
   "metadata": {},
   "source": [
    "We printen de percentage NaN na opvullen."
   ]
  },
  {
   "cell_type": "code",
   "execution_count": 210,
   "id": "69af8ee6",
   "metadata": {},
   "outputs": [
    {
     "name": "stdout",
     "output_type": "stream",
     "text": [
      "Percentage NaN na opvullen:  0.0 %\n"
     ]
    }
   ],
   "source": [
    "print(\"Percentage NaN na opvullen: \", df4['EU_Sales'].isna().sum() * 100.00, '%')"
   ]
  },
  {
   "cell_type": "markdown",
   "id": "a4cc2c2e",
   "metadata": {},
   "source": [
    "We berekenen de nieuwe gemiddelde uit na opvullen."
   ]
  },
  {
   "cell_type": "code",
   "execution_count": 211,
   "id": "99062f9c",
   "metadata": {},
   "outputs": [
    {
     "name": "stdout",
     "output_type": "stream",
     "text": [
      "Nieuw gemiddelde:  0.1274792143631763\n"
     ]
    }
   ],
   "source": [
    "mean_new = df4[\"EU_Sales\"].mean()\n",
    "print(\"Nieuw gemiddelde: \", mean_new)"
   ]
  },
  {
   "cell_type": "markdown",
   "id": "0f9fdf9e",
   "metadata": {},
   "source": [
    "## 02-06 Sales Calculator\n",
    "Hieronder een beschrijving en de uitwerking van de opdracht.\n",
    "\n",
    "### Omschrijving\n",
    "In de vorige exercises heb je het probleem van ontbrekende waardes opgelost door ze te verwijderen of een inschatting te maken van wat de waarde zou kunnen zijn. In sommige gevallen kan je de daadwerkelijke waarde afleiden uit de data zelf.\n",
    "\n",
    "In deze video-game dataset blijken de global sales een optelling te zijn van alle andere sales. Doordat we dit patroon hebben ontdekt, kunnen we de ontbrekende EU_Sales berekenen.\n",
    "\n",
    "Global_Sales = NA_Sales + EU_Sales + JP_Sales + Other_Sales<br>\n",
    "EU_Sales = Global_Sales - NA_Sales - JP_Sales - Other_Sales<br>\n",
    "Bereken de variabele EU_Sales zodat we geen missing values meer hebben!\n",
    "\n",
    "In de vorige exercises heb je gekeken hoe het gemiddelde verandert als je NaN-values met een geschatte waarde opvult. Nu dat je de echte waardes heb berekend, kun je het echte gemiddelde uitrekenen. Doe dit en print deze waarde.\n",
    "\n",
    "### Leerdoelen\n",
    "Oplossing voor missing values toepassen.\n",
    "\n",
    "### Verwachte uitkomst\n",
    "Echte gemiddelde EU_Sales: 0.146......\n",
    "\n",
    "### Nakijkcriteria\n",
    "Als je alle libraries uit \"requirements.txt\" hebt geïnstalleerd, dan kun je de Jupyter Notebook runnen.\n",
    "Het gemiddelde wordt geprint en is 0.146...."
   ]
  },
  {
   "cell_type": "markdown",
   "id": "3868a54e",
   "metadata": {},
   "source": [
    "### Uitwerking\n",
    "We lezen de csv bestand in."
   ]
  },
  {
   "cell_type": "code",
   "execution_count": 337,
   "id": "3545c015",
   "metadata": {},
   "outputs": [],
   "source": [
    "df5 = pd.read_csv('video_games_sales.csv')"
   ]
  },
  {
   "cell_type": "markdown",
   "id": "438157fc",
   "metadata": {},
   "source": [
    "We berekenen de values van \"EU_Sales\"."
   ]
  },
  {
   "cell_type": "code",
   "execution_count": 338,
   "id": "558ada3c",
   "metadata": {
    "scrolled": false
   },
   "outputs": [],
   "source": [
    "cal_eu_sales = df5['Global_Sales'] - df5['NA_Sales'] - df5['JP_Sales'] - df5['Other_Sales']"
   ]
  },
  {
   "cell_type": "markdown",
   "id": "cc4e575a",
   "metadata": {},
   "source": [
    "We vervangen NaN door berekende \"EU_Sales\"."
   ]
  },
  {
   "cell_type": "code",
   "execution_count": 339,
   "id": "c3b8a8f3",
   "metadata": {},
   "outputs": [],
   "source": [
    "df5['EU_Sales'] = df5['EU_Sales'].fillna(value=cal_eu_sales, inplace=False)"
   ]
  },
  {
   "cell_type": "markdown",
   "id": "6a0d1a79",
   "metadata": {},
   "source": [
    "We bereken de echte mean van \"EU_Sales\"."
   ]
  },
  {
   "cell_type": "code",
   "execution_count": 340,
   "id": "065e3d2d",
   "metadata": {
    "scrolled": false
   },
   "outputs": [
    {
     "name": "stdout",
     "output_type": "stream",
     "text": [
      "Echte gemiddelde EU_Sales:  0.1466622484636703\n"
     ]
    }
   ],
   "source": [
    "real_mean = df5[\"EU_Sales\"].mean()\n",
    "print(\"Echte gemiddelde EU_Sales: \", real_mean)"
   ]
  },
  {
   "cell_type": "code",
   "execution_count": null,
   "id": "17ca292f",
   "metadata": {},
   "outputs": [],
   "source": []
  }
 ],
 "metadata": {
  "kernelspec": {
   "display_name": "Python 3",
   "language": "python",
   "name": "python3"
  },
  "language_info": {
   "codemirror_mode": {
    "name": "ipython",
    "version": 3
   },
   "file_extension": ".py",
   "mimetype": "text/x-python",
   "name": "python",
   "nbconvert_exporter": "python",
   "pygments_lexer": "ipython3",
   "version": "3.9.5"
  }
 },
 "nbformat": 4,
 "nbformat_minor": 5
}
