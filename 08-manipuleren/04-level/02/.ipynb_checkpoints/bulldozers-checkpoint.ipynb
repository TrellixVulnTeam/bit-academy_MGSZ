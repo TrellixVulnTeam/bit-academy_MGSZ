{
 "cells": [
  {
   "cell_type": "markdown",
   "id": "d2378b45",
   "metadata": {},
   "source": [
    "# Outliers spotten!\n",
    "\n",
    "In deze excercise gaan we ouliers spotten. Wat zijn ouliers? Outliers zijn in de statistiek en data-analyse een waarneming die niet bij de overige lijkt te passen. In deze oefening gaan we ouliers detecteren in een datadste over bulldozers."
   ]
  },
  {
   "cell_type": "markdown",
   "id": "6cda364f",
   "metadata": {},
   "source": [
    "We importeren de libraries die nodig zijn."
   ]
  },
  {
   "cell_type": "code",
   "execution_count": 15,
   "id": "030ee436",
   "metadata": {},
   "outputs": [],
   "source": [
    "import pandas as pd\n",
    "import seaborn as sns\n",
    "import matplotlib.pyplot as plt"
   ]
  },
  {
   "cell_type": "markdown",
   "id": "304eaa4c",
   "metadata": {},
   "source": [
    "We lezen de csv bestand in"
   ]
  },
  {
   "cell_type": "code",
   "execution_count": 16,
   "id": "e4877ef8",
   "metadata": {},
   "outputs": [],
   "source": [
    "data = pd.read_csv('bulldozers.csv')"
   ]
  },
  {
   "cell_type": "code",
   "execution_count": 17,
   "id": "cc793b5b",
   "metadata": {
    "scrolled": true
   },
   "outputs": [
    {
     "data": {
      "text/html": [
       "<div>\n",
       "<style scoped>\n",
       "    .dataframe tbody tr th:only-of-type {\n",
       "        vertical-align: middle;\n",
       "    }\n",
       "\n",
       "    .dataframe tbody tr th {\n",
       "        vertical-align: top;\n",
       "    }\n",
       "\n",
       "    .dataframe thead th {\n",
       "        text-align: right;\n",
       "    }\n",
       "</style>\n",
       "<table border=\"1\" class=\"dataframe\">\n",
       "  <thead>\n",
       "    <tr style=\"text-align: right;\">\n",
       "      <th></th>\n",
       "      <th>SalesID</th>\n",
       "      <th>SalePrice</th>\n",
       "      <th>MachineID</th>\n",
       "      <th>YearMade</th>\n",
       "      <th>saledate</th>\n",
       "      <th>MachineHoursCurrentMeter</th>\n",
       "      <th>ProductGroup</th>\n",
       "      <th>ProductSize</th>\n",
       "    </tr>\n",
       "  </thead>\n",
       "  <tbody>\n",
       "    <tr>\n",
       "      <th>0</th>\n",
       "      <td>1139246</td>\n",
       "      <td>66000</td>\n",
       "      <td>999089</td>\n",
       "      <td>2004</td>\n",
       "      <td>11/16/2006 0:00</td>\n",
       "      <td>68.0</td>\n",
       "      <td>WL</td>\n",
       "      <td>NaN</td>\n",
       "    </tr>\n",
       "    <tr>\n",
       "      <th>1</th>\n",
       "      <td>1139248</td>\n",
       "      <td>57000</td>\n",
       "      <td>117657</td>\n",
       "      <td>1996</td>\n",
       "      <td>3/26/2004 0:00</td>\n",
       "      <td>4640.0</td>\n",
       "      <td>WL</td>\n",
       "      <td>Medium</td>\n",
       "    </tr>\n",
       "    <tr>\n",
       "      <th>2</th>\n",
       "      <td>1139249</td>\n",
       "      <td>10000</td>\n",
       "      <td>434808</td>\n",
       "      <td>2001</td>\n",
       "      <td>2/26/2004 0:00</td>\n",
       "      <td>2838.0</td>\n",
       "      <td>SSL</td>\n",
       "      <td>NaN</td>\n",
       "    </tr>\n",
       "    <tr>\n",
       "      <th>3</th>\n",
       "      <td>1139251</td>\n",
       "      <td>38500</td>\n",
       "      <td>1026470</td>\n",
       "      <td>2001</td>\n",
       "      <td>5/19/2011 0:00</td>\n",
       "      <td>3486.0</td>\n",
       "      <td>TEX</td>\n",
       "      <td>Small</td>\n",
       "    </tr>\n",
       "    <tr>\n",
       "      <th>4</th>\n",
       "      <td>1139253</td>\n",
       "      <td>11000</td>\n",
       "      <td>1057373</td>\n",
       "      <td>2007</td>\n",
       "      <td>7/23/2009 0:00</td>\n",
       "      <td>722.0</td>\n",
       "      <td>SSL</td>\n",
       "      <td>NaN</td>\n",
       "    </tr>\n",
       "  </tbody>\n",
       "</table>\n",
       "</div>"
      ],
      "text/plain": [
       "   SalesID  SalePrice  MachineID  YearMade         saledate  \\\n",
       "0  1139246      66000     999089      2004  11/16/2006 0:00   \n",
       "1  1139248      57000     117657      1996   3/26/2004 0:00   \n",
       "2  1139249      10000     434808      2001   2/26/2004 0:00   \n",
       "3  1139251      38500    1026470      2001   5/19/2011 0:00   \n",
       "4  1139253      11000    1057373      2007   7/23/2009 0:00   \n",
       "\n",
       "   MachineHoursCurrentMeter ProductGroup ProductSize  \n",
       "0                      68.0           WL         NaN  \n",
       "1                    4640.0           WL      Medium  \n",
       "2                    2838.0          SSL         NaN  \n",
       "3                    3486.0          TEX       Small  \n",
       "4                     722.0          SSL         NaN  "
      ]
     },
     "execution_count": 17,
     "metadata": {},
     "output_type": "execute_result"
    }
   ],
   "source": [
    "data.head()"
   ]
  },
  {
   "cell_type": "code",
   "execution_count": 35,
   "id": "69245fc5",
   "metadata": {},
   "outputs": [
    {
     "data": {
      "image/png": "[encoded data removed]",
      "text/plain": [
       "<Figure size 720x720 with 1 Axes>"
      ]
     },
     "metadata": {
      "needs_background": "light"
     },
     "output_type": "display_data"
    }
   ],
   "source": [
    "plt.figure(figsize=(10, 10))\n",
    "sns.histplot(data.YearMade, bins=50);"
   ]
  },
  {
   "cell_type": "code",
   "execution_count": 41,
   "id": "ef40b0b2",
   "metadata": {},
   "outputs": [],
   "source": [
    "index_years = data[ data['YearMade'] == 1000 ].index\n",
    "data.drop(index_years, inplace = True)"
   ]
  },
  {
   "cell_type": "code",
   "execution_count": 42,
   "id": "9555b6eb",
   "metadata": {},
   "outputs": [
    {
     "data": {
      "image/png": "[encoded data removed]",
      "text/plain": [
       "<Figure size 720x720 with 1 Axes>"
      ]
     },
     "metadata": {
      "needs_background": "light"
     },
     "output_type": "display_data"
    }
   ],
   "source": [
    "plt.figure(figsize=(10, 10))\n",
    "sns.histplot(data.YearMade, bins=50);"
   ]
  }
 ],
 "metadata": {
  "kernelspec": {
   "display_name": "Python 3",
   "language": "python",
   "name": "python3"
  },
  "language_info": {
   "codemirror_mode": {
    "name": "ipython",
    "version": 3
   },
   "file_extension": ".py",
   "mimetype": "text/x-python",
   "name": "python",
   "nbconvert_exporter": "python",
   "pygments_lexer": "ipython3",
   "version": "3.9.5"
  }
 },
 "nbformat": 4,
 "nbformat_minor": 5
}
