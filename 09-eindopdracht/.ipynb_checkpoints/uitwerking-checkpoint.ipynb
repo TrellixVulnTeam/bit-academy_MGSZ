{
 "cells": [
  {
   "cell_type": "markdown",
   "id": "ff6b6931",
   "metadata": {},
   "source": [
    "# Wie zijn de beste sporters?"
   ]
  },
  {
   "cell_type": "markdown",
   "id": "cae9ce3a",
   "metadata": {},
   "source": [
    "We gaan in deze eindopdracht de statistieken van de spelers in het populaire videospel FIFA 21 gebruiken.\n",
    "\n",
    "We gaan data verzamellen, manipuleren en mooie visualisaties maken. We documenteren alle in deze Jupyter Notebook, en we gaan ervoor zorgen dat de lezer begrijpt hoe we de stappen genomen zijn en wat de conclusie is.\n",
    "\n",
    "We de volgende vragen beantwoorden:\n",
    "\n",
    "- Wie is de beste speler? Geef een top 10;\n",
    "- Wie is de beste keeper? Geef een top 10;\n",
    "- Wie is de oudste speler?\n",
    "- Wie is de jongste speler?\n",
    "- Welke jongste speler heeft de meeste potentie?\n",
    "- Wat is de leeftijdsdeling van de best voetballende landen? Geef een top 5.\n",
    "- Wat is de leeftijdsdeling van de best voetballende clubs? Geef een top 5.\n",
    "- Wat is de meeste verdiende speler? Geef een top 5.\n",
    "- Wat is de minst verdiende speler? Geef een top 5.\n",
    "- Wie verdiend het meest en speelt met links?"
   ]
  },
  {
   "cell_type": "markdown",
   "id": "3cdbcd3d",
   "metadata": {},
   "source": [
    "We importeren eerst alle belangrijke python pakketten voor data manipulatie en visualisatie."
   ]
  },
  {
   "cell_type": "code",
   "execution_count": 194,
   "id": "eccd621d",
   "metadata": {},
   "outputs": [],
   "source": [
    "import pandas as pd\n",
    "import matplotlib.pyplot as plt\n",
    "import seaborn as sns"
   ]
  },
  {
   "cell_type": "markdown",
   "id": "1954361f",
   "metadata": {},
   "source": [
    "Importeer data."
   ]
  },
  {
   "cell_type": "code",
   "execution_count": 195,
   "id": "34bd4e24",
   "metadata": {},
   "outputs": [],
   "source": [
    "data = pd.read_csv(\"players_21.csv\")"
   ]
  },
  {
   "cell_type": "markdown",
   "id": "01755d17",
   "metadata": {},
   "source": [
    "Kijk naar data."
   ]
  },
  {
   "cell_type": "code",
   "execution_count": 196,
   "id": "965946e1",
   "metadata": {},
   "outputs": [
    {
     "data": {
      "text/html": [
       "<div>\n",
       "<style scoped>\n",
       "    .dataframe tbody tr th:only-of-type {\n",
       "        vertical-align: middle;\n",
       "    }\n",
       "\n",
       "    .dataframe tbody tr th {\n",
       "        vertical-align: top;\n",
       "    }\n",
       "\n",
       "    .dataframe thead th {\n",
       "        text-align: right;\n",
       "    }\n",
       "</style>\n",
       "<table border=\"1\" class=\"dataframe\">\n",
       "  <thead>\n",
       "    <tr style=\"text-align: right;\">\n",
       "      <th></th>\n",
       "      <th>sofifa_id</th>\n",
       "      <th>player_url</th>\n",
       "      <th>short_name</th>\n",
       "      <th>long_name</th>\n",
       "      <th>age</th>\n",
       "      <th>dob</th>\n",
       "      <th>height_cm</th>\n",
       "      <th>weight_kg</th>\n",
       "      <th>nationality</th>\n",
       "      <th>club_name</th>\n",
       "      <th>...</th>\n",
       "      <th>lwb</th>\n",
       "      <th>ldm</th>\n",
       "      <th>cdm</th>\n",
       "      <th>rdm</th>\n",
       "      <th>rwb</th>\n",
       "      <th>lb</th>\n",
       "      <th>lcb</th>\n",
       "      <th>cb</th>\n",
       "      <th>rcb</th>\n",
       "      <th>rb</th>\n",
       "    </tr>\n",
       "  </thead>\n",
       "  <tbody>\n",
       "    <tr>\n",
       "      <th>0</th>\n",
       "      <td>158023</td>\n",
       "      <td>https://sofifa.com/player/158023/lionel-messi/...</td>\n",
       "      <td>L. Messi</td>\n",
       "      <td>Lionel Andrés Messi Cuccittini</td>\n",
       "      <td>33</td>\n",
       "      <td>1987-06-24</td>\n",
       "      <td>170</td>\n",
       "      <td>72</td>\n",
       "      <td>Argentina</td>\n",
       "      <td>FC Barcelona</td>\n",
       "      <td>...</td>\n",
       "      <td>66+3</td>\n",
       "      <td>65+3</td>\n",
       "      <td>65+3</td>\n",
       "      <td>65+3</td>\n",
       "      <td>66+3</td>\n",
       "      <td>62+3</td>\n",
       "      <td>52+3</td>\n",
       "      <td>52+3</td>\n",
       "      <td>52+3</td>\n",
       "      <td>62+3</td>\n",
       "    </tr>\n",
       "    <tr>\n",
       "      <th>1</th>\n",
       "      <td>20801</td>\n",
       "      <td>https://sofifa.com/player/20801/c-ronaldo-dos-...</td>\n",
       "      <td>Cristiano Ronaldo</td>\n",
       "      <td>Cristiano Ronaldo dos Santos Aveiro</td>\n",
       "      <td>35</td>\n",
       "      <td>1985-02-05</td>\n",
       "      <td>187</td>\n",
       "      <td>83</td>\n",
       "      <td>Portugal</td>\n",
       "      <td>Juventus</td>\n",
       "      <td>...</td>\n",
       "      <td>65+3</td>\n",
       "      <td>61+3</td>\n",
       "      <td>61+3</td>\n",
       "      <td>61+3</td>\n",
       "      <td>65+3</td>\n",
       "      <td>61+3</td>\n",
       "      <td>54+3</td>\n",
       "      <td>54+3</td>\n",
       "      <td>54+3</td>\n",
       "      <td>61+3</td>\n",
       "    </tr>\n",
       "    <tr>\n",
       "      <th>2</th>\n",
       "      <td>200389</td>\n",
       "      <td>https://sofifa.com/player/200389/jan-oblak/210002</td>\n",
       "      <td>J. Oblak</td>\n",
       "      <td>Jan Oblak</td>\n",
       "      <td>27</td>\n",
       "      <td>1993-01-07</td>\n",
       "      <td>188</td>\n",
       "      <td>87</td>\n",
       "      <td>Slovenia</td>\n",
       "      <td>Atlético Madrid</td>\n",
       "      <td>...</td>\n",
       "      <td>32+3</td>\n",
       "      <td>36+3</td>\n",
       "      <td>36+3</td>\n",
       "      <td>36+3</td>\n",
       "      <td>32+3</td>\n",
       "      <td>32+3</td>\n",
       "      <td>33+3</td>\n",
       "      <td>33+3</td>\n",
       "      <td>33+3</td>\n",
       "      <td>32+3</td>\n",
       "    </tr>\n",
       "    <tr>\n",
       "      <th>3</th>\n",
       "      <td>188545</td>\n",
       "      <td>https://sofifa.com/player/188545/robert-lewand...</td>\n",
       "      <td>R. Lewandowski</td>\n",
       "      <td>Robert Lewandowski</td>\n",
       "      <td>31</td>\n",
       "      <td>1988-08-21</td>\n",
       "      <td>184</td>\n",
       "      <td>80</td>\n",
       "      <td>Poland</td>\n",
       "      <td>FC Bayern München</td>\n",
       "      <td>...</td>\n",
       "      <td>64+3</td>\n",
       "      <td>65+3</td>\n",
       "      <td>65+3</td>\n",
       "      <td>65+3</td>\n",
       "      <td>64+3</td>\n",
       "      <td>61+3</td>\n",
       "      <td>60+3</td>\n",
       "      <td>60+3</td>\n",
       "      <td>60+3</td>\n",
       "      <td>61+3</td>\n",
       "    </tr>\n",
       "    <tr>\n",
       "      <th>4</th>\n",
       "      <td>190871</td>\n",
       "      <td>https://sofifa.com/player/190871/neymar-da-sil...</td>\n",
       "      <td>Neymar Jr</td>\n",
       "      <td>Neymar da Silva Santos Júnior</td>\n",
       "      <td>28</td>\n",
       "      <td>1992-02-05</td>\n",
       "      <td>175</td>\n",
       "      <td>68</td>\n",
       "      <td>Brazil</td>\n",
       "      <td>Paris Saint-Germain</td>\n",
       "      <td>...</td>\n",
       "      <td>67+3</td>\n",
       "      <td>62+3</td>\n",
       "      <td>62+3</td>\n",
       "      <td>62+3</td>\n",
       "      <td>67+3</td>\n",
       "      <td>62+3</td>\n",
       "      <td>49+3</td>\n",
       "      <td>49+3</td>\n",
       "      <td>49+3</td>\n",
       "      <td>62+3</td>\n",
       "    </tr>\n",
       "  </tbody>\n",
       "</table>\n",
       "<p>5 rows × 106 columns</p>\n",
       "</div>"
      ],
      "text/plain": [
       "   sofifa_id                                         player_url  \\\n",
       "0     158023  https://sofifa.com/player/158023/lionel-messi/...   \n",
       "1      20801  https://sofifa.com/player/20801/c-ronaldo-dos-...   \n",
       "2     200389  https://sofifa.com/player/200389/jan-oblak/210002   \n",
       "3     188545  https://sofifa.com/player/188545/robert-lewand...   \n",
       "4     190871  https://sofifa.com/player/190871/neymar-da-sil...   \n",
       "\n",
       "          short_name                            long_name  age         dob  \\\n",
       "0           L. Messi       Lionel Andrés Messi Cuccittini   33  1987-06-24   \n",
       "1  Cristiano Ronaldo  Cristiano Ronaldo dos Santos Aveiro   35  1985-02-05   \n",
       "2           J. Oblak                            Jan Oblak   27  1993-01-07   \n",
       "3     R. Lewandowski                   Robert Lewandowski   31  1988-08-21   \n",
       "4          Neymar Jr        Neymar da Silva Santos Júnior   28  1992-02-05   \n",
       "\n",
       "   height_cm  weight_kg nationality            club_name  ...   lwb   ldm  \\\n",
       "0        170         72   Argentina         FC Barcelona  ...  66+3  65+3   \n",
       "1        187         83    Portugal             Juventus  ...  65+3  61+3   \n",
       "2        188         87    Slovenia      Atlético Madrid  ...  32+3  36+3   \n",
       "3        184         80      Poland    FC Bayern München  ...  64+3  65+3   \n",
       "4        175         68      Brazil  Paris Saint-Germain  ...  67+3  62+3   \n",
       "\n",
       "    cdm   rdm   rwb    lb   lcb    cb   rcb    rb  \n",
       "0  65+3  65+3  66+3  62+3  52+3  52+3  52+3  62+3  \n",
       "1  61+3  61+3  65+3  61+3  54+3  54+3  54+3  61+3  \n",
       "2  36+3  36+3  32+3  32+3  33+3  33+3  33+3  32+3  \n",
       "3  65+3  65+3  64+3  61+3  60+3  60+3  60+3  61+3  \n",
       "4  62+3  62+3  67+3  62+3  49+3  49+3  49+3  62+3  \n",
       "\n",
       "[5 rows x 106 columns]"
      ]
     },
     "execution_count": 196,
     "metadata": {},
     "output_type": "execute_result"
    }
   ],
   "source": [
    "data.head()"
   ]
  },
  {
   "cell_type": "markdown",
   "id": "0337bfe1",
   "metadata": {},
   "source": [
    "Controleer de kolommen in onze dataset."
   ]
  },
  {
   "cell_type": "code",
   "execution_count": 197,
   "id": "0ce860f2",
   "metadata": {},
   "outputs": [
    {
     "name": "stdout",
     "output_type": "stream",
     "text": [
      "sofifa_id\n",
      "player_url\n",
      "short_name\n",
      "long_name\n",
      "age\n",
      "dob\n",
      "height_cm\n",
      "weight_kg\n",
      "nationality\n",
      "club_name\n",
      "league_name\n",
      "league_rank\n",
      "overall\n",
      "potential\n",
      "value_eur\n",
      "wage_eur\n",
      "player_positions\n",
      "preferred_foot\n",
      "international_reputation\n",
      "weak_foot\n",
      "skill_moves\n",
      "work_rate\n",
      "body_type\n",
      "real_face\n",
      "release_clause_eur\n",
      "player_tags\n",
      "team_position\n",
      "team_jersey_number\n",
      "loaned_from\n",
      "joined\n",
      "contract_valid_until\n",
      "nation_position\n",
      "nation_jersey_number\n",
      "pace\n",
      "shooting\n",
      "passing\n",
      "dribbling\n",
      "defending\n",
      "physic\n",
      "gk_diving\n",
      "gk_handling\n",
      "gk_kicking\n",
      "gk_reflexes\n",
      "gk_speed\n",
      "gk_positioning\n",
      "player_traits\n",
      "attacking_crossing\n",
      "attacking_finishing\n",
      "attacking_heading_accuracy\n",
      "attacking_short_passing\n",
      "attacking_volleys\n",
      "skill_dribbling\n",
      "skill_curve\n",
      "skill_fk_accuracy\n",
      "skill_long_passing\n",
      "skill_ball_control\n",
      "movement_acceleration\n",
      "movement_sprint_speed\n",
      "movement_agility\n",
      "movement_reactions\n",
      "movement_balance\n",
      "power_shot_power\n",
      "power_jumping\n",
      "power_stamina\n",
      "power_strength\n",
      "power_long_shots\n",
      "mentality_aggression\n",
      "mentality_interceptions\n",
      "mentality_positioning\n",
      "mentality_vision\n",
      "mentality_penalties\n",
      "mentality_composure\n",
      "defending_marking\n",
      "defending_standing_tackle\n",
      "defending_sliding_tackle\n",
      "goalkeeping_diving\n",
      "goalkeeping_handling\n",
      "goalkeeping_kicking\n",
      "goalkeeping_positioning\n",
      "goalkeeping_reflexes\n",
      "ls\n",
      "st\n",
      "rs\n",
      "lw\n",
      "lf\n",
      "cf\n",
      "rf\n",
      "rw\n",
      "lam\n",
      "cam\n",
      "ram\n",
      "lm\n",
      "lcm\n",
      "cm\n",
      "rcm\n",
      "rm\n",
      "lwb\n",
      "ldm\n",
      "cdm\n",
      "rdm\n",
      "rwb\n",
      "lb\n",
      "lcb\n",
      "cb\n",
      "rcb\n",
      "rb\n"
     ]
    }
   ],
   "source": [
    "for col in data.columns:\n",
    "    print(col)"
   ]
  },
  {
   "cell_type": "markdown",
   "id": "38f36ca7",
   "metadata": {},
   "source": [
    "Meer informatie over de dataset."
   ]
  },
  {
   "cell_type": "code",
   "execution_count": 198,
   "id": "dfb2ba72",
   "metadata": {
    "scrolled": false
   },
   "outputs": [
    {
     "name": "stdout",
     "output_type": "stream",
     "text": [
      "<class 'pandas.core.frame.DataFrame'>\n",
      "RangeIndex: 18944 entries, 0 to 18943\n",
      "Columns: 106 entries, sofifa_id to rb\n",
      "dtypes: float64(18), int64(44), object(44)\n",
      "memory usage: 15.3+ MB\n"
     ]
    }
   ],
   "source": [
    "data.info()"
   ]
  },
  {
   "cell_type": "markdown",
   "id": "64bfb779",
   "metadata": {},
   "source": [
    "## Data aanpassen"
   ]
  },
  {
   "cell_type": "markdown",
   "id": "ecc4165d",
   "metadata": {},
   "source": [
    "Bij het binnenhalen van de data hebben we gezien dat we een aantal kolommen niet nodig hebben. Deze gaan we dan ook verwijderen."
   ]
  },
  {
   "cell_type": "markdown",
   "id": "01c723f0",
   "metadata": {},
   "source": [
    "Verwijder de kolommen die niet nodig zijn."
   ]
  },
  {
   "cell_type": "code",
   "execution_count": 199,
   "id": "27513f10",
   "metadata": {},
   "outputs": [],
   "source": [
    "new_data = data.drop(columns =['body_type', 'short_name', 'player_url', 'ls', 'st', 'rs', 'lw', 'lf', 'cf', 'rf', 'rw', 'lam', 'cam', 'ram', 'lm', 'lcm', 'cm', 'rcm', 'rm', 'lwb', 'ldm', 'cdm', 'rdm', 'rwb', 'lb', 'lcb', 'cb', 'rcb', 'rb'])"
   ]
  },
  {
   "cell_type": "markdown",
   "id": "703681c3",
   "metadata": {},
   "source": [
    "Controleer nieuwe dataset of de kolommen zijn verwijderd."
   ]
  },
  {
   "cell_type": "code",
   "execution_count": 200,
   "id": "62495880",
   "metadata": {},
   "outputs": [
    {
     "name": "stdout",
     "output_type": "stream",
     "text": [
      "sofifa_id\n",
      "long_name\n",
      "age\n",
      "dob\n",
      "height_cm\n",
      "weight_kg\n",
      "nationality\n",
      "club_name\n",
      "league_name\n",
      "league_rank\n",
      "overall\n",
      "potential\n",
      "value_eur\n",
      "wage_eur\n",
      "player_positions\n",
      "preferred_foot\n",
      "international_reputation\n",
      "weak_foot\n",
      "skill_moves\n",
      "work_rate\n",
      "real_face\n",
      "release_clause_eur\n",
      "player_tags\n",
      "team_position\n",
      "team_jersey_number\n",
      "loaned_from\n",
      "joined\n",
      "contract_valid_until\n",
      "nation_position\n",
      "nation_jersey_number\n",
      "pace\n",
      "shooting\n",
      "passing\n",
      "dribbling\n",
      "defending\n",
      "physic\n",
      "gk_diving\n",
      "gk_handling\n",
      "gk_kicking\n",
      "gk_reflexes\n",
      "gk_speed\n",
      "gk_positioning\n",
      "player_traits\n",
      "attacking_crossing\n",
      "attacking_finishing\n",
      "attacking_heading_accuracy\n",
      "attacking_short_passing\n",
      "attacking_volleys\n",
      "skill_dribbling\n",
      "skill_curve\n",
      "skill_fk_accuracy\n",
      "skill_long_passing\n",
      "skill_ball_control\n",
      "movement_acceleration\n",
      "movement_sprint_speed\n",
      "movement_agility\n",
      "movement_reactions\n",
      "movement_balance\n",
      "power_shot_power\n",
      "power_jumping\n",
      "power_stamina\n",
      "power_strength\n",
      "power_long_shots\n",
      "mentality_aggression\n",
      "mentality_interceptions\n",
      "mentality_positioning\n",
      "mentality_vision\n",
      "mentality_penalties\n",
      "mentality_composure\n",
      "defending_marking\n",
      "defending_standing_tackle\n",
      "defending_sliding_tackle\n",
      "goalkeeping_diving\n",
      "goalkeeping_handling\n",
      "goalkeeping_kicking\n",
      "goalkeeping_positioning\n",
      "goalkeeping_reflexes\n"
     ]
    }
   ],
   "source": [
    "for col in new_data.columns:\n",
    "    print(col)"
   ]
  },
  {
   "cell_type": "markdown",
   "id": "d1e3adbc",
   "metadata": {},
   "source": [
    "Controleer lege regels in de kolommen."
   ]
  },
  {
   "cell_type": "code",
   "execution_count": 201,
   "id": "97ef407e",
   "metadata": {
    "scrolled": true
   },
   "outputs": [
    {
     "data": {
      "text/plain": [
       "sofifa_id                  0\n",
       "long_name                  0\n",
       "age                        0\n",
       "dob                        0\n",
       "height_cm                  0\n",
       "                          ..\n",
       "goalkeeping_diving         0\n",
       "goalkeeping_handling       0\n",
       "goalkeeping_kicking        0\n",
       "goalkeeping_positioning    0\n",
       "goalkeeping_reflexes       0\n",
       "Length: 77, dtype: int64"
      ]
     },
     "execution_count": 201,
     "metadata": {},
     "output_type": "execute_result"
    }
   ],
   "source": [
    "new_data.isnull().sum()"
   ]
  },
  {
   "cell_type": "markdown",
   "id": "6166ccef",
   "metadata": {},
   "source": [
    "We zien geen lege velden in onze dataset."
   ]
  },
  {
   "cell_type": "markdown",
   "id": "72874dea",
   "metadata": {},
   "source": [
    "We gaan de naam van kolom 'long_name' veranderen naar 'name'."
   ]
  },
  {
   "cell_type": "markdown",
   "id": "993bf5c7",
   "metadata": {},
   "source": [
    "Verander de kolomnaam en controleer kolomnaam wijziging."
   ]
  },
  {
   "cell_type": "code",
   "execution_count": 202,
   "id": "e5727a63",
   "metadata": {
    "scrolled": true
   },
   "outputs": [
    {
     "data": {
      "text/html": [
       "<div>\n",
       "<style scoped>\n",
       "    .dataframe tbody tr th:only-of-type {\n",
       "        vertical-align: middle;\n",
       "    }\n",
       "\n",
       "    .dataframe tbody tr th {\n",
       "        vertical-align: top;\n",
       "    }\n",
       "\n",
       "    .dataframe thead th {\n",
       "        text-align: right;\n",
       "    }\n",
       "</style>\n",
       "<table border=\"1\" class=\"dataframe\">\n",
       "  <thead>\n",
       "    <tr style=\"text-align: right;\">\n",
       "      <th></th>\n",
       "      <th>sofifa_id</th>\n",
       "      <th>name</th>\n",
       "      <th>age</th>\n",
       "      <th>dob</th>\n",
       "      <th>height_cm</th>\n",
       "      <th>weight_kg</th>\n",
       "      <th>nationality</th>\n",
       "      <th>club_name</th>\n",
       "      <th>league_name</th>\n",
       "      <th>league_rank</th>\n",
       "      <th>...</th>\n",
       "      <th>mentality_penalties</th>\n",
       "      <th>mentality_composure</th>\n",
       "      <th>defending_marking</th>\n",
       "      <th>defending_standing_tackle</th>\n",
       "      <th>defending_sliding_tackle</th>\n",
       "      <th>goalkeeping_diving</th>\n",
       "      <th>goalkeeping_handling</th>\n",
       "      <th>goalkeeping_kicking</th>\n",
       "      <th>goalkeeping_positioning</th>\n",
       "      <th>goalkeeping_reflexes</th>\n",
       "    </tr>\n",
       "  </thead>\n",
       "  <tbody>\n",
       "    <tr>\n",
       "      <th>0</th>\n",
       "      <td>158023</td>\n",
       "      <td>Lionel Andrés Messi Cuccittini</td>\n",
       "      <td>33</td>\n",
       "      <td>1987-06-24</td>\n",
       "      <td>170</td>\n",
       "      <td>72</td>\n",
       "      <td>Argentina</td>\n",
       "      <td>FC Barcelona</td>\n",
       "      <td>Spain Primera Division</td>\n",
       "      <td>1.0</td>\n",
       "      <td>...</td>\n",
       "      <td>75</td>\n",
       "      <td>96</td>\n",
       "      <td>NaN</td>\n",
       "      <td>35</td>\n",
       "      <td>24</td>\n",
       "      <td>6</td>\n",
       "      <td>11</td>\n",
       "      <td>15</td>\n",
       "      <td>14</td>\n",
       "      <td>8</td>\n",
       "    </tr>\n",
       "    <tr>\n",
       "      <th>1</th>\n",
       "      <td>20801</td>\n",
       "      <td>Cristiano Ronaldo dos Santos Aveiro</td>\n",
       "      <td>35</td>\n",
       "      <td>1985-02-05</td>\n",
       "      <td>187</td>\n",
       "      <td>83</td>\n",
       "      <td>Portugal</td>\n",
       "      <td>Juventus</td>\n",
       "      <td>Italian Serie A</td>\n",
       "      <td>1.0</td>\n",
       "      <td>...</td>\n",
       "      <td>84</td>\n",
       "      <td>95</td>\n",
       "      <td>NaN</td>\n",
       "      <td>32</td>\n",
       "      <td>24</td>\n",
       "      <td>7</td>\n",
       "      <td>11</td>\n",
       "      <td>15</td>\n",
       "      <td>14</td>\n",
       "      <td>11</td>\n",
       "    </tr>\n",
       "    <tr>\n",
       "      <th>2</th>\n",
       "      <td>200389</td>\n",
       "      <td>Jan Oblak</td>\n",
       "      <td>27</td>\n",
       "      <td>1993-01-07</td>\n",
       "      <td>188</td>\n",
       "      <td>87</td>\n",
       "      <td>Slovenia</td>\n",
       "      <td>Atlético Madrid</td>\n",
       "      <td>Spain Primera Division</td>\n",
       "      <td>1.0</td>\n",
       "      <td>...</td>\n",
       "      <td>11</td>\n",
       "      <td>68</td>\n",
       "      <td>NaN</td>\n",
       "      <td>12</td>\n",
       "      <td>18</td>\n",
       "      <td>87</td>\n",
       "      <td>92</td>\n",
       "      <td>78</td>\n",
       "      <td>90</td>\n",
       "      <td>90</td>\n",
       "    </tr>\n",
       "    <tr>\n",
       "      <th>3</th>\n",
       "      <td>188545</td>\n",
       "      <td>Robert Lewandowski</td>\n",
       "      <td>31</td>\n",
       "      <td>1988-08-21</td>\n",
       "      <td>184</td>\n",
       "      <td>80</td>\n",
       "      <td>Poland</td>\n",
       "      <td>FC Bayern München</td>\n",
       "      <td>German 1. Bundesliga</td>\n",
       "      <td>1.0</td>\n",
       "      <td>...</td>\n",
       "      <td>88</td>\n",
       "      <td>88</td>\n",
       "      <td>NaN</td>\n",
       "      <td>42</td>\n",
       "      <td>19</td>\n",
       "      <td>15</td>\n",
       "      <td>6</td>\n",
       "      <td>12</td>\n",
       "      <td>8</td>\n",
       "      <td>10</td>\n",
       "    </tr>\n",
       "    <tr>\n",
       "      <th>4</th>\n",
       "      <td>190871</td>\n",
       "      <td>Neymar da Silva Santos Júnior</td>\n",
       "      <td>28</td>\n",
       "      <td>1992-02-05</td>\n",
       "      <td>175</td>\n",
       "      <td>68</td>\n",
       "      <td>Brazil</td>\n",
       "      <td>Paris Saint-Germain</td>\n",
       "      <td>French Ligue 1</td>\n",
       "      <td>1.0</td>\n",
       "      <td>...</td>\n",
       "      <td>92</td>\n",
       "      <td>93</td>\n",
       "      <td>NaN</td>\n",
       "      <td>30</td>\n",
       "      <td>29</td>\n",
       "      <td>9</td>\n",
       "      <td>9</td>\n",
       "      <td>15</td>\n",
       "      <td>15</td>\n",
       "      <td>11</td>\n",
       "    </tr>\n",
       "  </tbody>\n",
       "</table>\n",
       "<p>5 rows × 77 columns</p>\n",
       "</div>"
      ],
      "text/plain": [
       "   sofifa_id                                 name  age         dob  height_cm  \\\n",
       "0     158023       Lionel Andrés Messi Cuccittini   33  1987-06-24        170   \n",
       "1      20801  Cristiano Ronaldo dos Santos Aveiro   35  1985-02-05        187   \n",
       "2     200389                            Jan Oblak   27  1993-01-07        188   \n",
       "3     188545                   Robert Lewandowski   31  1988-08-21        184   \n",
       "4     190871        Neymar da Silva Santos Júnior   28  1992-02-05        175   \n",
       "\n",
       "   weight_kg nationality            club_name             league_name  \\\n",
       "0         72   Argentina         FC Barcelona  Spain Primera Division   \n",
       "1         83    Portugal             Juventus         Italian Serie A   \n",
       "2         87    Slovenia      Atlético Madrid  Spain Primera Division   \n",
       "3         80      Poland    FC Bayern München    German 1. Bundesliga   \n",
       "4         68      Brazil  Paris Saint-Germain          French Ligue 1   \n",
       "\n",
       "   league_rank  ...  mentality_penalties  mentality_composure  \\\n",
       "0          1.0  ...                   75                   96   \n",
       "1          1.0  ...                   84                   95   \n",
       "2          1.0  ...                   11                   68   \n",
       "3          1.0  ...                   88                   88   \n",
       "4          1.0  ...                   92                   93   \n",
       "\n",
       "   defending_marking  defending_standing_tackle defending_sliding_tackle  \\\n",
       "0                NaN                         35                       24   \n",
       "1                NaN                         32                       24   \n",
       "2                NaN                         12                       18   \n",
       "3                NaN                         42                       19   \n",
       "4                NaN                         30                       29   \n",
       "\n",
       "  goalkeeping_diving  goalkeeping_handling  goalkeeping_kicking  \\\n",
       "0                  6                    11                   15   \n",
       "1                  7                    11                   15   \n",
       "2                 87                    92                   78   \n",
       "3                 15                     6                   12   \n",
       "4                  9                     9                   15   \n",
       "\n",
       "   goalkeeping_positioning goalkeeping_reflexes  \n",
       "0                       14                    8  \n",
       "1                       14                   11  \n",
       "2                       90                   90  \n",
       "3                        8                   10  \n",
       "4                       15                   11  \n",
       "\n",
       "[5 rows x 77 columns]"
      ]
     },
     "execution_count": 202,
     "metadata": {},
     "output_type": "execute_result"
    }
   ],
   "source": [
    "new_data.rename(columns = {'long_name':'name'}, inplace = True)\n",
    "new_data.head()"
   ]
  },
  {
   "cell_type": "markdown",
   "id": "f7ba8df5",
   "metadata": {},
   "source": [
    "## Toppers"
   ]
  },
  {
   "cell_type": "markdown",
   "id": "f8a6cd91",
   "metadata": {},
   "source": [
    "We gaan eerste een plot maken van de overall ranking en de aantal spelers."
   ]
  },
  {
   "cell_type": "markdown",
   "id": "12cfb167",
   "metadata": {},
   "source": [
    "Toon de grafiek van (aantal spelers) met een overall ranking."
   ]
  },
  {
   "cell_type": "code",
   "execution_count": 203,
   "id": "cc53d4f1",
   "metadata": {
    "scrolled": false
   },
   "outputs": [
    {
     "data": {
      "text/plain": [
       "<AxesSubplot:xlabel='overall', ylabel='count'>"
      ]
     },
     "execution_count": 203,
     "metadata": {},
     "output_type": "execute_result"
    },
    {
     "data": {
      "image/png": "[encoded data removed]",
      "text/plain": [
       "<Figure size 1080x2160 with 1 Axes>"
      ]
     },
     "metadata": {
      "needs_background": "light"
     },
     "output_type": "display_data"
    }
   ],
   "source": [
    "plt.figure(figsize=(15,30))\n",
    "sns.countplot( x = new_data.overall)"
   ]
  },
  {
   "cell_type": "markdown",
   "id": "9ab8ae3b",
   "metadata": {},
   "source": [
    "We zien dat meeste spelers een overall ranking hebben van 65. Wie is de speler met de hoogste ranking? Dit en nog meer gaan we verder onderzoeken. We gaan kijken naar:\n",
    "- Top 10 spelers (zonder keepers)\n",
    "- Top 10 keepers"
   ]
  },
  {
   "cell_type": "markdown",
   "id": "c5963ebd",
   "metadata": {},
   "source": [
    "### Top 10 spelers"
   ]
  },
  {
   "cell_type": "markdown",
   "id": "579d2af9",
   "metadata": {},
   "source": [
    "Maak dataset zonder keepers."
   ]
  },
  {
   "cell_type": "code",
   "execution_count": 204,
   "id": "c98175e6",
   "metadata": {},
   "outputs": [],
   "source": [
    "data_spelers = new_data.loc[new_data['player_positions'] != 'GK']"
   ]
  },
  {
   "cell_type": "markdown",
   "id": "48edb04f",
   "metadata": {},
   "source": [
    "Laat top 10 spelers overall zien."
   ]
  },
  {
   "cell_type": "code",
   "execution_count": 205,
   "id": "5700cd39",
   "metadata": {},
   "outputs": [
    {
     "data": {
      "text/html": [
       "<style  type=\"text/css\" >\n",
       "</style><table id=\"T_e01ad_\" ><thead>    <tr>        <th class=\"blank level0\" ></th>        <th class=\"col_heading level0 col0\" >overall</th>        <th class=\"col_heading level0 col1\" >age</th>        <th class=\"col_heading level0 col2\" >club_name</th>        <th class=\"col_heading level0 col3\" >player_positions</th>    </tr>    <tr>        <th class=\"index_name level0\" >name</th>        <th class=\"blank\" ></th>        <th class=\"blank\" ></th>        <th class=\"blank\" ></th>        <th class=\"blank\" ></th>    </tr></thead><tbody>\n",
       "                <tr>\n",
       "                        <th id=\"T_e01ad_level0_row0\" class=\"row_heading level0 row0\" >Lionel Andrés Messi Cuccittini</th>\n",
       "                        <td id=\"T_e01ad_row0_col0\" class=\"data row0 col0\" >93</td>\n",
       "                        <td id=\"T_e01ad_row0_col1\" class=\"data row0 col1\" >33</td>\n",
       "                        <td id=\"T_e01ad_row0_col2\" class=\"data row0 col2\" >FC Barcelona</td>\n",
       "                        <td id=\"T_e01ad_row0_col3\" class=\"data row0 col3\" >RW, ST, CF</td>\n",
       "            </tr>\n",
       "            <tr>\n",
       "                        <th id=\"T_e01ad_level0_row1\" class=\"row_heading level0 row1\" >Cristiano Ronaldo dos Santos Aveiro</th>\n",
       "                        <td id=\"T_e01ad_row1_col0\" class=\"data row1 col0\" >92</td>\n",
       "                        <td id=\"T_e01ad_row1_col1\" class=\"data row1 col1\" >35</td>\n",
       "                        <td id=\"T_e01ad_row1_col2\" class=\"data row1 col2\" >Juventus</td>\n",
       "                        <td id=\"T_e01ad_row1_col3\" class=\"data row1 col3\" >ST, LW</td>\n",
       "            </tr>\n",
       "            <tr>\n",
       "                        <th id=\"T_e01ad_level0_row2\" class=\"row_heading level0 row2\" >Robert Lewandowski</th>\n",
       "                        <td id=\"T_e01ad_row2_col0\" class=\"data row2 col0\" >91</td>\n",
       "                        <td id=\"T_e01ad_row2_col1\" class=\"data row2 col1\" >31</td>\n",
       "                        <td id=\"T_e01ad_row2_col2\" class=\"data row2 col2\" >FC Bayern München</td>\n",
       "                        <td id=\"T_e01ad_row2_col3\" class=\"data row2 col3\" >ST</td>\n",
       "            </tr>\n",
       "            <tr>\n",
       "                        <th id=\"T_e01ad_level0_row3\" class=\"row_heading level0 row3\" >Neymar da Silva Santos Júnior</th>\n",
       "                        <td id=\"T_e01ad_row3_col0\" class=\"data row3 col0\" >91</td>\n",
       "                        <td id=\"T_e01ad_row3_col1\" class=\"data row3 col1\" >28</td>\n",
       "                        <td id=\"T_e01ad_row3_col2\" class=\"data row3 col2\" >Paris Saint-Germain</td>\n",
       "                        <td id=\"T_e01ad_row3_col3\" class=\"data row3 col3\" >LW, CAM</td>\n",
       "            </tr>\n",
       "            <tr>\n",
       "                        <th id=\"T_e01ad_level0_row4\" class=\"row_heading level0 row4\" >Kevin De Bruyne</th>\n",
       "                        <td id=\"T_e01ad_row4_col0\" class=\"data row4 col0\" >91</td>\n",
       "                        <td id=\"T_e01ad_row4_col1\" class=\"data row4 col1\" >29</td>\n",
       "                        <td id=\"T_e01ad_row4_col2\" class=\"data row4 col2\" >Manchester City</td>\n",
       "                        <td id=\"T_e01ad_row4_col3\" class=\"data row4 col3\" >CAM, CM</td>\n",
       "            </tr>\n",
       "            <tr>\n",
       "                        <th id=\"T_e01ad_level0_row5\" class=\"row_heading level0 row5\" >Sadio Mané</th>\n",
       "                        <td id=\"T_e01ad_row5_col0\" class=\"data row5 col0\" >90</td>\n",
       "                        <td id=\"T_e01ad_row5_col1\" class=\"data row5 col1\" >28</td>\n",
       "                        <td id=\"T_e01ad_row5_col2\" class=\"data row5 col2\" >Liverpool</td>\n",
       "                        <td id=\"T_e01ad_row5_col3\" class=\"data row5 col3\" >LW</td>\n",
       "            </tr>\n",
       "            <tr>\n",
       "                        <th id=\"T_e01ad_level0_row6\" class=\"row_heading level0 row6\" >Mohamed Salah Ghaly</th>\n",
       "                        <td id=\"T_e01ad_row6_col0\" class=\"data row6 col0\" >90</td>\n",
       "                        <td id=\"T_e01ad_row6_col1\" class=\"data row6 col1\" >28</td>\n",
       "                        <td id=\"T_e01ad_row6_col2\" class=\"data row6 col2\" >Liverpool</td>\n",
       "                        <td id=\"T_e01ad_row6_col3\" class=\"data row6 col3\" >RW</td>\n",
       "            </tr>\n",
       "            <tr>\n",
       "                        <th id=\"T_e01ad_level0_row7\" class=\"row_heading level0 row7\" >Virgil van Dijk</th>\n",
       "                        <td id=\"T_e01ad_row7_col0\" class=\"data row7 col0\" >90</td>\n",
       "                        <td id=\"T_e01ad_row7_col1\" class=\"data row7 col1\" >28</td>\n",
       "                        <td id=\"T_e01ad_row7_col2\" class=\"data row7 col2\" >Liverpool</td>\n",
       "                        <td id=\"T_e01ad_row7_col3\" class=\"data row7 col3\" >CB</td>\n",
       "            </tr>\n",
       "            <tr>\n",
       "                        <th id=\"T_e01ad_level0_row8\" class=\"row_heading level0 row8\" >Kylian Mbappé Lottin</th>\n",
       "                        <td id=\"T_e01ad_row8_col0\" class=\"data row8 col0\" >90</td>\n",
       "                        <td id=\"T_e01ad_row8_col1\" class=\"data row8 col1\" >21</td>\n",
       "                        <td id=\"T_e01ad_row8_col2\" class=\"data row8 col2\" >Paris Saint-Germain</td>\n",
       "                        <td id=\"T_e01ad_row8_col3\" class=\"data row8 col3\" >ST, LW, RW</td>\n",
       "            </tr>\n",
       "            <tr>\n",
       "                        <th id=\"T_e01ad_level0_row9\" class=\"row_heading level0 row9\" >Sergio Leonel Agüero del Castillo</th>\n",
       "                        <td id=\"T_e01ad_row9_col0\" class=\"data row9 col0\" >89</td>\n",
       "                        <td id=\"T_e01ad_row9_col1\" class=\"data row9 col1\" >32</td>\n",
       "                        <td id=\"T_e01ad_row9_col2\" class=\"data row9 col2\" >Manchester City</td>\n",
       "                        <td id=\"T_e01ad_row9_col3\" class=\"data row9 col3\" >ST</td>\n",
       "            </tr>\n",
       "    </tbody></table>"
      ],
      "text/plain": [
       "<pandas.io.formats.style.Styler at 0x286affe9f40>"
      ]
     },
     "execution_count": 205,
     "metadata": {},
     "output_type": "execute_result"
    }
   ],
   "source": [
    "spelers = data_spelers.sort_values('overall', ascending=False)[['name', 'overall', 'age', 'club_name', 'player_positions']].head(10)\n",
    "spelers.set_index(\"name\", inplace=True)\n",
    "spelers.style"
   ]
  },
  {
   "cell_type": "markdown",
   "id": "cf025360",
   "metadata": {},
   "source": [
    "### Top 10 keepers"
   ]
  },
  {
   "cell_type": "markdown",
   "id": "9b282b50",
   "metadata": {},
   "source": [
    "Maak dataset met alleen keepers."
   ]
  },
  {
   "cell_type": "code",
   "execution_count": 206,
   "id": "d25770db",
   "metadata": {
    "scrolled": true
   },
   "outputs": [],
   "source": [
    "data_keepers = new_data.loc[new_data['player_positions'] == 'GK']"
   ]
  },
  {
   "cell_type": "markdown",
   "id": "b1814011",
   "metadata": {},
   "source": [
    "Maak overzicht met top 10 keepers."
   ]
  },
  {
   "cell_type": "code",
   "execution_count": 207,
   "id": "ef6fa0d2",
   "metadata": {},
   "outputs": [
    {
     "data": {
      "text/html": [
       "<style  type=\"text/css\" >\n",
       "</style><table id=\"T_b44d0_\" ><thead>    <tr>        <th class=\"blank level0\" ></th>        <th class=\"col_heading level0 col0\" >overall</th>        <th class=\"col_heading level0 col1\" >age</th>        <th class=\"col_heading level0 col2\" >club_name</th>    </tr>    <tr>        <th class=\"index_name level0\" >name</th>        <th class=\"blank\" ></th>        <th class=\"blank\" ></th>        <th class=\"blank\" ></th>    </tr></thead><tbody>\n",
       "                <tr>\n",
       "                        <th id=\"T_b44d0_level0_row0\" class=\"row_heading level0 row0\" >Jan Oblak</th>\n",
       "                        <td id=\"T_b44d0_row0_col0\" class=\"data row0 col0\" >91</td>\n",
       "                        <td id=\"T_b44d0_row0_col1\" class=\"data row0 col1\" >27</td>\n",
       "                        <td id=\"T_b44d0_row0_col2\" class=\"data row0 col2\" >Atlético Madrid</td>\n",
       "            </tr>\n",
       "            <tr>\n",
       "                        <th id=\"T_b44d0_level0_row1\" class=\"row_heading level0 row1\" >Alisson Ramsés Becker</th>\n",
       "                        <td id=\"T_b44d0_row1_col0\" class=\"data row1 col0\" >90</td>\n",
       "                        <td id=\"T_b44d0_row1_col1\" class=\"data row1 col1\" >27</td>\n",
       "                        <td id=\"T_b44d0_row1_col2\" class=\"data row1 col2\" >Liverpool</td>\n",
       "            </tr>\n",
       "            <tr>\n",
       "                        <th id=\"T_b44d0_level0_row2\" class=\"row_heading level0 row2\" >Marc-André ter Stegen</th>\n",
       "                        <td id=\"T_b44d0_row2_col0\" class=\"data row2 col0\" >90</td>\n",
       "                        <td id=\"T_b44d0_row2_col1\" class=\"data row2 col1\" >28</td>\n",
       "                        <td id=\"T_b44d0_row2_col2\" class=\"data row2 col2\" >FC Barcelona</td>\n",
       "            </tr>\n",
       "            <tr>\n",
       "                        <th id=\"T_b44d0_level0_row3\" class=\"row_heading level0 row3\" >Thibaut Courtois</th>\n",
       "                        <td id=\"T_b44d0_row3_col0\" class=\"data row3 col0\" >89</td>\n",
       "                        <td id=\"T_b44d0_row3_col1\" class=\"data row3 col1\" >28</td>\n",
       "                        <td id=\"T_b44d0_row3_col2\" class=\"data row3 col2\" >Real Madrid</td>\n",
       "            </tr>\n",
       "            <tr>\n",
       "                        <th id=\"T_b44d0_level0_row4\" class=\"row_heading level0 row4\" >Manuel Neuer</th>\n",
       "                        <td id=\"T_b44d0_row4_col0\" class=\"data row4 col0\" >89</td>\n",
       "                        <td id=\"T_b44d0_row4_col1\" class=\"data row4 col1\" >34</td>\n",
       "                        <td id=\"T_b44d0_row4_col2\" class=\"data row4 col2\" >FC Bayern München</td>\n",
       "            </tr>\n",
       "            <tr>\n",
       "                        <th id=\"T_b44d0_level0_row5\" class=\"row_heading level0 row5\" >Ederson Santana de Moraes</th>\n",
       "                        <td id=\"T_b44d0_row5_col0\" class=\"data row5 col0\" >88</td>\n",
       "                        <td id=\"T_b44d0_row5_col1\" class=\"data row5 col1\" >26</td>\n",
       "                        <td id=\"T_b44d0_row5_col2\" class=\"data row5 col2\" >Manchester City</td>\n",
       "            </tr>\n",
       "            <tr>\n",
       "                        <th id=\"T_b44d0_level0_row6\" class=\"row_heading level0 row6\" >Samir Handanovič</th>\n",
       "                        <td id=\"T_b44d0_row6_col0\" class=\"data row6 col0\" >88</td>\n",
       "                        <td id=\"T_b44d0_row6_col1\" class=\"data row6 col1\" >35</td>\n",
       "                        <td id=\"T_b44d0_row6_col2\" class=\"data row6 col2\" >Inter</td>\n",
       "            </tr>\n",
       "            <tr>\n",
       "                        <th id=\"T_b44d0_level0_row7\" class=\"row_heading level0 row7\" >Keylor Navas Gamboa</th>\n",
       "                        <td id=\"T_b44d0_row7_col0\" class=\"data row7 col0\" >87</td>\n",
       "                        <td id=\"T_b44d0_row7_col1\" class=\"data row7 col1\" >33</td>\n",
       "                        <td id=\"T_b44d0_row7_col2\" class=\"data row7 col2\" >Paris Saint-Germain</td>\n",
       "            </tr>\n",
       "            <tr>\n",
       "                        <th id=\"T_b44d0_level0_row8\" class=\"row_heading level0 row8\" >Wojciech Szczęsny</th>\n",
       "                        <td id=\"T_b44d0_row8_col0\" class=\"data row8 col0\" >87</td>\n",
       "                        <td id=\"T_b44d0_row8_col1\" class=\"data row8 col1\" >30</td>\n",
       "                        <td id=\"T_b44d0_row8_col2\" class=\"data row8 col2\" >Juventus</td>\n",
       "            </tr>\n",
       "            <tr>\n",
       "                        <th id=\"T_b44d0_level0_row9\" class=\"row_heading level0 row9\" >Hugo Lloris</th>\n",
       "                        <td id=\"T_b44d0_row9_col0\" class=\"data row9 col0\" >87</td>\n",
       "                        <td id=\"T_b44d0_row9_col1\" class=\"data row9 col1\" >33</td>\n",
       "                        <td id=\"T_b44d0_row9_col2\" class=\"data row9 col2\" >Tottenham Hotspur</td>\n",
       "            </tr>\n",
       "    </tbody></table>"
      ],
      "text/plain": [
       "<pandas.io.formats.style.Styler at 0x286adab6370>"
      ]
     },
     "execution_count": 207,
     "metadata": {},
     "output_type": "execute_result"
    }
   ],
   "source": [
    "keepers = data_keepers.sort_values('overall', ascending=False)[['name', 'overall', 'age', 'club_name']].head(10)\n",
    "keepers.set_index('name', inplace=True)\n",
    "keepers.style"
   ]
  },
  {
   "cell_type": "markdown",
   "id": "8cb82570",
   "metadata": {},
   "source": [
    "## Leeftijd analyse"
   ]
  },
  {
   "cell_type": "markdown",
   "id": "dea55d58",
   "metadata": {},
   "source": [
    "We gaan hier kijken naar de leeftijd van de spelers. We gaan kijken wie de jongste en oudste speler is. En we gaan in kijken welke jongste speler de meeste potentie heeft."
   ]
  },
  {
   "cell_type": "markdown",
   "id": "eed7f483",
   "metadata": {},
   "source": [
    "Toon de plot van spelersleeftijd."
   ]
  },
  {
   "cell_type": "code",
   "execution_count": 208,
   "id": "7d13f0a1",
   "metadata": {
    "scrolled": false
   },
   "outputs": [
    {
     "data": {
      "text/plain": [
       "<AxesSubplot:xlabel='age', ylabel='count'>"
      ]
     },
     "execution_count": 208,
     "metadata": {},
     "output_type": "execute_result"
    },
    {
     "data": {
      "image/png": "[encoded data removed]",
      "text/plain": [
       "<Figure size 1080x432 with 1 Axes>"
      ]
     },
     "metadata": {
      "needs_background": "light"
     },
     "output_type": "display_data"
    }
   ],
   "source": [
    "plt.figure(figsize=(15,6))\n",
    "sns.countplot(x='age',data=new_data)"
   ]
  },
  {
   "cell_type": "markdown",
   "id": "657fff92",
   "metadata": {},
   "source": [
    "Print mediaan en gemiddelde leeftijd."
   ]
  },
  {
   "cell_type": "code",
   "execution_count": 209,
   "id": "a1df98a5",
   "metadata": {
    "scrolled": true
   },
   "outputs": [
    {
     "name": "stdout",
     "output_type": "stream",
     "text": [
      "Mediaan leeftijd =  25.0\n",
      "Gemiddelde leeftijd =  25.22582347972973\n"
     ]
    }
   ],
   "source": [
    "print('Mediaan leeftijd = ', new_data.age.median())\n",
    "print('Gemiddelde leeftijd = ', new_data.age.mean())"
   ]
  },
  {
   "cell_type": "markdown",
   "id": "89976af5",
   "metadata": {},
   "source": [
    "Als we naar deze visualisatie kijken, kunnen we zien dat de gemiddelde en mediane leeftijd van de spelers tussen de 20 en 25 jaar ligt."
   ]
  },
  {
   "cell_type": "markdown",
   "id": "fc3b81a6",
   "metadata": {},
   "source": [
    "Oudste speler"
   ]
  },
  {
   "cell_type": "code",
   "execution_count": 210,
   "id": "e42f5259",
   "metadata": {
    "scrolled": true
   },
   "outputs": [
    {
     "data": {
      "text/html": [
       "<style  type=\"text/css\" >\n",
       "</style><table id=\"T_b26a6_\" ><thead>    <tr>        <th class=\"blank level0\" ></th>        <th class=\"col_heading level0 col0\" >nationality</th>        <th class=\"col_heading level0 col1\" >age</th>        <th class=\"col_heading level0 col2\" >dob</th>        <th class=\"col_heading level0 col3\" >club_name</th>    </tr>    <tr>        <th class=\"index_name level0\" >name</th>        <th class=\"blank\" ></th>        <th class=\"blank\" ></th>        <th class=\"blank\" ></th>        <th class=\"blank\" ></th>    </tr></thead><tbody>\n",
       "                <tr>\n",
       "                        <th id=\"T_b26a6_level0_row0\" class=\"row_heading level0 row0\" >Kazuyoshi Miura</th>\n",
       "                        <td id=\"T_b26a6_row0_col0\" class=\"data row0 col0\" >Japan</td>\n",
       "                        <td id=\"T_b26a6_row0_col1\" class=\"data row0 col1\" >53</td>\n",
       "                        <td id=\"T_b26a6_row0_col2\" class=\"data row0 col2\" >1967-02-26</td>\n",
       "                        <td id=\"T_b26a6_row0_col3\" class=\"data row0 col3\" >Yokohama FC</td>\n",
       "            </tr>\n",
       "    </tbody></table>"
      ],
      "text/plain": [
       "<pandas.io.formats.style.Styler at 0x286af2d9160>"
      ]
     },
     "execution_count": 210,
     "metadata": {},
     "output_type": "execute_result"
    }
   ],
   "source": [
    "oudste_speler = new_data.sort_values('age', ascending=False)[['name', 'nationality', 'age', 'dob','club_name']].head(1)\n",
    "oudste_speler.set_index('name', inplace=True)\n",
    "oudste_speler.style"
   ]
  },
  {
   "cell_type": "markdown",
   "id": "81ed955f",
   "metadata": {},
   "source": [
    "Jongste speler"
   ]
  },
  {
   "cell_type": "code",
   "execution_count": 211,
   "id": "3635e565",
   "metadata": {
    "scrolled": true
   },
   "outputs": [
    {
     "data": {
      "text/html": [
       "<div>\n",
       "<style scoped>\n",
       "    .dataframe tbody tr th:only-of-type {\n",
       "        vertical-align: middle;\n",
       "    }\n",
       "\n",
       "    .dataframe tbody tr th {\n",
       "        vertical-align: top;\n",
       "    }\n",
       "\n",
       "    .dataframe thead th {\n",
       "        text-align: right;\n",
       "    }\n",
       "</style>\n",
       "<table border=\"1\" class=\"dataframe\">\n",
       "  <thead>\n",
       "    <tr style=\"text-align: right;\">\n",
       "      <th></th>\n",
       "      <th>nationality</th>\n",
       "      <th>age</th>\n",
       "      <th>dob</th>\n",
       "      <th>club_name</th>\n",
       "    </tr>\n",
       "    <tr>\n",
       "      <th>name</th>\n",
       "      <th></th>\n",
       "      <th></th>\n",
       "      <th></th>\n",
       "      <th></th>\n",
       "    </tr>\n",
       "  </thead>\n",
       "  <tbody>\n",
       "    <tr>\n",
       "      <th>Rico Richards</th>\n",
       "      <td>England</td>\n",
       "      <td>16</td>\n",
       "      <td>2003-09-27</td>\n",
       "      <td>West Bromwich Albion</td>\n",
       "    </tr>\n",
       "  </tbody>\n",
       "</table>\n",
       "</div>"
      ],
      "text/plain": [
       "              nationality  age         dob             club_name\n",
       "name                                                            \n",
       "Rico Richards     England   16  2003-09-27  West Bromwich Albion"
      ]
     },
     "execution_count": 211,
     "metadata": {},
     "output_type": "execute_result"
    }
   ],
   "source": [
    "jongste_speler = new_data[new_data['age'] < 20].sort_values(by='dob', ascending=False)[['name', 'nationality', 'age', 'dob','club_name']].head(1)\n",
    "jongste_speler.set_index('name', inplace=True)\n",
    "jongste_speler"
   ]
  },
  {
   "cell_type": "markdown",
   "id": "15ea1c3f",
   "metadata": {},
   "source": [
    "Kijk naar de meest veelbelovende jongste speler onder 18 jaar"
   ]
  },
  {
   "cell_type": "code",
   "execution_count": 212,
   "id": "2a2ecaeb",
   "metadata": {
    "scrolled": true
   },
   "outputs": [
    {
     "data": {
      "text/html": [
       "<div>\n",
       "<style scoped>\n",
       "    .dataframe tbody tr th:only-of-type {\n",
       "        vertical-align: middle;\n",
       "    }\n",
       "\n",
       "    .dataframe tbody tr th {\n",
       "        vertical-align: top;\n",
       "    }\n",
       "\n",
       "    .dataframe thead th {\n",
       "        text-align: right;\n",
       "    }\n",
       "</style>\n",
       "<table border=\"1\" class=\"dataframe\">\n",
       "  <thead>\n",
       "    <tr style=\"text-align: right;\">\n",
       "      <th></th>\n",
       "      <th>nationality</th>\n",
       "      <th>age</th>\n",
       "      <th>potential</th>\n",
       "      <th>club_name</th>\n",
       "    </tr>\n",
       "    <tr>\n",
       "      <th>name</th>\n",
       "      <th></th>\n",
       "      <th></th>\n",
       "      <th></th>\n",
       "      <th></th>\n",
       "    </tr>\n",
       "  </thead>\n",
       "  <tbody>\n",
       "    <tr>\n",
       "      <th>Anssumane Fati</th>\n",
       "      <td>Spain</td>\n",
       "      <td>17</td>\n",
       "      <td>90</td>\n",
       "      <td>FC Barcelona</td>\n",
       "    </tr>\n",
       "    <tr>\n",
       "      <th>Eduardo Camavinga</th>\n",
       "      <td>France</td>\n",
       "      <td>17</td>\n",
       "      <td>88</td>\n",
       "      <td>Stade Rennais FC</td>\n",
       "    </tr>\n",
       "    <tr>\n",
       "      <th>Pedro González López</th>\n",
       "      <td>Spain</td>\n",
       "      <td>17</td>\n",
       "      <td>88</td>\n",
       "      <td>FC Barcelona</td>\n",
       "    </tr>\n",
       "    <tr>\n",
       "      <th>Jude Bellingham</th>\n",
       "      <td>England</td>\n",
       "      <td>17</td>\n",
       "      <td>88</td>\n",
       "      <td>Borussia Dortmund</td>\n",
       "    </tr>\n",
       "    <tr>\n",
       "      <th>Florian Wirtz</th>\n",
       "      <td>Germany</td>\n",
       "      <td>17</td>\n",
       "      <td>88</td>\n",
       "      <td>Bayer 04 Leverkusen</td>\n",
       "    </tr>\n",
       "  </tbody>\n",
       "</table>\n",
       "</div>"
      ],
      "text/plain": [
       "                     nationality  age  potential            club_name\n",
       "name                                                                 \n",
       "Anssumane Fati             Spain   17         90         FC Barcelona\n",
       "Eduardo Camavinga         France   17         88     Stade Rennais FC\n",
       "Pedro González López       Spain   17         88         FC Barcelona\n",
       "Jude Bellingham          England   17         88    Borussia Dortmund\n",
       "Florian Wirtz            Germany   17         88  Bayer 04 Leverkusen"
      ]
     },
     "execution_count": 212,
     "metadata": {},
     "output_type": "execute_result"
    }
   ],
   "source": [
    "jongste_speler = new_data[(new_data['potential'] > 85) & (new_data['age'] < 18)].sort_values(by='potential', ascending=False)[['name', 'nationality', 'age', 'potential','club_name']].head(5)\n",
    "jongste_speler.set_index('name', inplace=True)\n",
    "jongste_speler"
   ]
  },
  {
   "cell_type": "markdown",
   "id": "78d8647b",
   "metadata": {},
   "source": [
    "Kijk naar de leeftijdsverdeling in de 5 best voetballende landen"
   ]
  },
  {
   "cell_type": "code",
   "execution_count": 213,
   "id": "d7255cca",
   "metadata": {
    "scrolled": false
   },
   "outputs": [
    {
     "data": {
      "text/plain": [
       "<AxesSubplot:xlabel='nationality', ylabel='age'>"
      ]
     },
     "execution_count": 213,
     "metadata": {},
     "output_type": "execute_result"
    },
    {
     "data": {
      "image/png": "[encoded data removed]",
      "text/plain": [
       "<Figure size 576x576 with 1 Axes>"
      ]
     },
     "metadata": {
      "needs_background": "light"
     },
     "output_type": "display_data"
    }
   ],
   "source": [
    "nationaliteit = (\"Spain\", \"England\", \"France\", \"Italy\", \"Germany\")\n",
    "\n",
    "# ken de waarde toe uit de gegevensverzameling\n",
    "nationaliteit_leeftijd = new_data[new_data[\"nationality\"].isin(nationaliteit) & new_data[\"age\"] ]\n",
    "\n",
    "# maak een viool plot\n",
    "plt.figure(figsize=(8, 8))\n",
    "sns.violinplot(x=\"nationality\", y=\"age\", data=nationaliteit_leeftijd)"
   ]
  },
  {
   "cell_type": "markdown",
   "id": "92436f01",
   "metadata": {},
   "source": [
    "We zien dat Frankrijk en England de jongste spelers heeft. In Duitsland, Italie en Spanje zijn de spelers wat ouder. In Italie valt ook op dat de leeftijdsverdeling wat gelijkmatiger verloopt. Blijkbaar gaan de spelers daar wat langer door met voetballen. Spanje heeft gemiddeld gezien de oudste spelers."
   ]
  },
  {
   "cell_type": "markdown",
   "id": "b45526fa",
   "metadata": {},
   "source": [
    "Kijk naar de leeftijdsverdeling in de 5 best voetballende clubs"
   ]
  },
  {
   "cell_type": "code",
   "execution_count": 214,
   "id": "1ce8bc70",
   "metadata": {
    "scrolled": false
   },
   "outputs": [
    {
     "data": {
      "text/plain": [
       "<AxesSubplot:xlabel='club_name', ylabel='age'>"
      ]
     },
     "execution_count": 214,
     "metadata": {},
     "output_type": "execute_result"
    },
    {
     "data": {
      "image/png": "[encoded data removed]",
      "text/plain": [
       "<Figure size 576x576 with 1 Axes>"
      ]
     },
     "metadata": {
      "needs_background": "light"
     },
     "output_type": "display_data"
    }
   ],
   "source": [
    "clubs = (\"FC Barcelona\", \"Juventus\", \"Paris Saint-Germain\", \"Manchester City\", \"FC Bayern München\")\n",
    "\n",
    "# ken de waarde toe uit de gegevensverzameling\n",
    "club_leeftijd = new_data[new_data[\"club_name\"].isin(clubs) & new_data[\"age\"]]\n",
    "\n",
    "# maak een viool plot\n",
    "plt.figure(figsize=(8, 8))\n",
    "sns.violinplot(x=\"club_name\", y=\"age\", data=club_leeftijd)"
   ]
  },
  {
   "cell_type": "markdown",
   "id": "8a1d28e5",
   "metadata": {},
   "source": [
    "We zien dat FC Barcelona gemiddeld gezien de jongste spelers heeft. De overige clubs zijn gemiddeld gezien gelijk rond de 25 jaar."
   ]
  },
  {
   "cell_type": "markdown",
   "id": "55aa264d",
   "metadata": {},
   "source": [
    "## Loonanalyse"
   ]
  },
  {
   "cell_type": "markdown",
   "id": "bb4ac640",
   "metadata": {},
   "source": [
    "We gaan hier een kijken naar wat de loon is van de spelers en hoeveel ze waard zijn. We beginnen eerst met het verwijderen van de spelers die niets verdienen. Verder gaan we ook kijken naar de club met de duurste spelers."
   ]
  },
  {
   "cell_type": "markdown",
   "id": "b64f1f12",
   "metadata": {},
   "source": [
    "Verzamel lijst van alle spelers met loon behalve die met \"0\" loon"
   ]
  },
  {
   "cell_type": "code",
   "execution_count": 215,
   "id": "4f85f9be",
   "metadata": {},
   "outputs": [],
   "source": [
    "loon = new_data.dropna(subset = ['club_name'])"
   ]
  },
  {
   "cell_type": "markdown",
   "id": "e79cb2ec",
   "metadata": {},
   "source": [
    "Top 5 meest betaalde spelers"
   ]
  },
  {
   "cell_type": "code",
   "execution_count": 216,
   "id": "34eb4e3a",
   "metadata": {
    "scrolled": true
   },
   "outputs": [
    {
     "data": {
      "text/html": [
       "<style  type=\"text/css\" >\n",
       "</style><table id=\"T_05af2_\" ><thead>    <tr>        <th class=\"blank level0\" ></th>        <th class=\"col_heading level0 col0\" >wage_eur</th>        <th class=\"col_heading level0 col1\" >age</th>        <th class=\"col_heading level0 col2\" >overall</th>        <th class=\"col_heading level0 col3\" >club_name</th>    </tr>    <tr>        <th class=\"index_name level0\" >name</th>        <th class=\"blank\" ></th>        <th class=\"blank\" ></th>        <th class=\"blank\" ></th>        <th class=\"blank\" ></th>    </tr></thead><tbody>\n",
       "                <tr>\n",
       "                        <th id=\"T_05af2_level0_row0\" class=\"row_heading level0 row0\" >Lionel Andrés Messi Cuccittini</th>\n",
       "                        <td id=\"T_05af2_row0_col0\" class=\"data row0 col0\" >560000</td>\n",
       "                        <td id=\"T_05af2_row0_col1\" class=\"data row0 col1\" >33</td>\n",
       "                        <td id=\"T_05af2_row0_col2\" class=\"data row0 col2\" >93</td>\n",
       "                        <td id=\"T_05af2_row0_col3\" class=\"data row0 col3\" >FC Barcelona</td>\n",
       "            </tr>\n",
       "            <tr>\n",
       "                        <th id=\"T_05af2_level0_row1\" class=\"row_heading level0 row1\" >Kevin De Bruyne</th>\n",
       "                        <td id=\"T_05af2_row1_col0\" class=\"data row1 col0\" >370000</td>\n",
       "                        <td id=\"T_05af2_row1_col1\" class=\"data row1 col1\" >29</td>\n",
       "                        <td id=\"T_05af2_row1_col2\" class=\"data row1 col2\" >91</td>\n",
       "                        <td id=\"T_05af2_row1_col3\" class=\"data row1 col3\" >Manchester City</td>\n",
       "            </tr>\n",
       "            <tr>\n",
       "                        <th id=\"T_05af2_level0_row2\" class=\"row_heading level0 row2\" >Karim Benzema</th>\n",
       "                        <td id=\"T_05af2_row2_col0\" class=\"data row2 col0\" >350000</td>\n",
       "                        <td id=\"T_05af2_row2_col1\" class=\"data row2 col1\" >32</td>\n",
       "                        <td id=\"T_05af2_row2_col2\" class=\"data row2 col2\" >89</td>\n",
       "                        <td id=\"T_05af2_row2_col3\" class=\"data row2 col3\" >Real Madrid</td>\n",
       "            </tr>\n",
       "            <tr>\n",
       "                        <th id=\"T_05af2_level0_row3\" class=\"row_heading level0 row3\" >Eden Hazard</th>\n",
       "                        <td id=\"T_05af2_row3_col0\" class=\"data row3 col0\" >350000</td>\n",
       "                        <td id=\"T_05af2_row3_col1\" class=\"data row3 col1\" >29</td>\n",
       "                        <td id=\"T_05af2_row3_col2\" class=\"data row3 col2\" >88</td>\n",
       "                        <td id=\"T_05af2_row3_col3\" class=\"data row3 col3\" >Real Madrid</td>\n",
       "            </tr>\n",
       "            <tr>\n",
       "                        <th id=\"T_05af2_level0_row4\" class=\"row_heading level0 row4\" >Carlos Henrique Venancio Casimiro</th>\n",
       "                        <td id=\"T_05af2_row4_col0\" class=\"data row4 col0\" >310000</td>\n",
       "                        <td id=\"T_05af2_row4_col1\" class=\"data row4 col1\" >28</td>\n",
       "                        <td id=\"T_05af2_row4_col2\" class=\"data row4 col2\" >89</td>\n",
       "                        <td id=\"T_05af2_row4_col3\" class=\"data row4 col3\" >Real Madrid</td>\n",
       "            </tr>\n",
       "    </tbody></table>"
      ],
      "text/plain": [
       "<pandas.io.formats.style.Styler at 0x286b1208430>"
      ]
     },
     "execution_count": 216,
     "metadata": {},
     "output_type": "execute_result"
    }
   ],
   "source": [
    "meest_betaald = loon.sort_values('wage_eur',ascending=False)[['name','wage_eur','age','overall','club_name']].set_index('name').head(5)\n",
    "meest_betaald.style"
   ]
  },
  {
   "cell_type": "markdown",
   "id": "6a85f2ef",
   "metadata": {},
   "source": [
    "Top 5 minst betaalde spelers"
   ]
  },
  {
   "cell_type": "code",
   "execution_count": 217,
   "id": "df2a0a23",
   "metadata": {},
   "outputs": [
    {
     "data": {
      "text/html": [
       "<style  type=\"text/css\" >\n",
       "</style><table id=\"T_6b226_\" ><thead>    <tr>        <th class=\"blank level0\" ></th>        <th class=\"col_heading level0 col0\" >wage_eur</th>        <th class=\"col_heading level0 col1\" >age</th>        <th class=\"col_heading level0 col2\" >overall</th>        <th class=\"col_heading level0 col3\" >club_name</th>    </tr>    <tr>        <th class=\"index_name level0\" >name</th>        <th class=\"blank\" ></th>        <th class=\"blank\" ></th>        <th class=\"blank\" ></th>        <th class=\"blank\" ></th>    </tr></thead><tbody>\n",
       "                <tr>\n",
       "                        <th id=\"T_6b226_level0_row0\" class=\"row_heading level0 row0\" >Matěj Pulkrab</th>\n",
       "                        <td id=\"T_6b226_row0_col0\" class=\"data row0 col0\" >500</td>\n",
       "                        <td id=\"T_6b226_row0_col1\" class=\"data row0 col1\" >23</td>\n",
       "                        <td id=\"T_6b226_row0_col2\" class=\"data row0 col2\" >65</td>\n",
       "                        <td id=\"T_6b226_row0_col3\" class=\"data row0 col3\" >Sparta Praha</td>\n",
       "            </tr>\n",
       "            <tr>\n",
       "                        <th id=\"T_6b226_level0_row1\" class=\"row_heading level0 row1\" >Lucas Maximiliano Lemos Mayuncaldi</th>\n",
       "                        <td id=\"T_6b226_row1_col0\" class=\"data row1 col0\" >500</td>\n",
       "                        <td id=\"T_6b226_row1_col1\" class=\"data row1 col1\" >20</td>\n",
       "                        <td id=\"T_6b226_row1_col2\" class=\"data row1 col2\" >58</td>\n",
       "                        <td id=\"T_6b226_row1_col3\" class=\"data row1 col3\" >Liverpool Fútbol Club</td>\n",
       "            </tr>\n",
       "            <tr>\n",
       "                        <th id=\"T_6b226_level0_row2\" class=\"row_heading level0 row2\" >Arkadiusz Pyrka</th>\n",
       "                        <td id=\"T_6b226_row2_col0\" class=\"data row2 col0\" >500</td>\n",
       "                        <td id=\"T_6b226_row2_col1\" class=\"data row2 col1\" >17</td>\n",
       "                        <td id=\"T_6b226_row2_col2\" class=\"data row2 col2\" >58</td>\n",
       "                        <td id=\"T_6b226_row2_col3\" class=\"data row2 col3\" >Piast Gliwice</td>\n",
       "            </tr>\n",
       "            <tr>\n",
       "                        <th id=\"T_6b226_level0_row3\" class=\"row_heading level0 row3\" >Anderson Rafael Contreras Pérez</th>\n",
       "                        <td id=\"T_6b226_row3_col0\" class=\"data row3 col0\" >500</td>\n",
       "                        <td id=\"T_6b226_row3_col1\" class=\"data row3 col1\" >19</td>\n",
       "                        <td id=\"T_6b226_row3_col2\" class=\"data row3 col2\" >64</td>\n",
       "                        <td id=\"T_6b226_row3_col3\" class=\"data row3 col3\" >Caracas FC</td>\n",
       "            </tr>\n",
       "            <tr>\n",
       "                        <th id=\"T_6b226_level0_row4\" class=\"row_heading level0 row4\" >Diego Agustín Fernández Servín</th>\n",
       "                        <td id=\"T_6b226_row4_col0\" class=\"data row4 col0\" >500</td>\n",
       "                        <td id=\"T_6b226_row4_col1\" class=\"data row4 col1\" >17</td>\n",
       "                        <td id=\"T_6b226_row4_col2\" class=\"data row4 col2\" >58</td>\n",
       "                        <td id=\"T_6b226_row4_col3\" class=\"data row4 col3\" >Sportivo Luqueño</td>\n",
       "            </tr>\n",
       "    </tbody></table>"
      ],
      "text/plain": [
       "<pandas.io.formats.style.Styler at 0x286b1104fa0>"
      ]
     },
     "execution_count": 217,
     "metadata": {},
     "output_type": "execute_result"
    }
   ],
   "source": [
    "minst_betaald = loon.sort_values('wage_eur',ascending=True)[['name','wage_eur','age','overall','club_name']].set_index('name').head(5)\n",
    "minst_betaald.style"
   ]
  },
  {
   "cell_type": "markdown",
   "id": "82c6551b",
   "metadata": {},
   "source": [
    "5 duurste ploegen (maak een groep per club en voeg de spelerssalarissen van elke club toe)"
   ]
  },
  {
   "cell_type": "code",
   "execution_count": 218,
   "id": "c5f8ad0b",
   "metadata": {
    "scrolled": true
   },
   "outputs": [
    {
     "name": "stdout",
     "output_type": "stream",
     "text": [
      "club_name\n",
      "Real Madrid          4848000\n",
      "FC Barcelona         4738000\n",
      "Manchester City      3765000\n",
      "Liverpool            3154000\n",
      "Manchester United    2950000\n",
      "Name: wage_eur, dtype: int64\n"
     ]
    }
   ],
   "source": [
    "duurste_ploeg = loon.groupby('club_name')['wage_eur'].sum().nlargest()\n",
    "print(duurste_ploeg)"
   ]
  },
  {
   "cell_type": "markdown",
   "id": "333eddf4",
   "metadata": {},
   "source": [
    "Kijk naar loon, overall ranking en voorkeursvoet van de spelers"
   ]
  },
  {
   "cell_type": "code",
   "execution_count": 219,
   "id": "2d3dddd7",
   "metadata": {
    "scrolled": false
   },
   "outputs": [
    {
     "data": {
      "text/plain": [
       "<AxesSubplot:xlabel='wage_eur', ylabel='overall'>"
      ]
     },
     "execution_count": 219,
     "metadata": {},
     "output_type": "execute_result"
    },
    {
     "data": {
      "image/png": "[encoded data removed]",
      "text/plain": [
       "<Figure size 720x720 with 1 Axes>"
      ]
     },
     "metadata": {
      "needs_background": "light"
     },
     "output_type": "display_data"
    }
   ],
   "source": [
    "plt.figure(figsize=(10, 10))\n",
    "sns.scatterplot(x='wage_eur',y='overall',data=new_data, hue='preferred_foot', style='preferred_foot')"
   ]
  },
  {
   "cell_type": "markdown",
   "id": "3d9d3e87",
   "metadata": {},
   "source": [
    "Wat opvalt is dat 1 speler de hoogste loon heeft en met links speelt. Wie is deze speler?"
   ]
  },
  {
   "cell_type": "markdown",
   "id": "aca23a2b",
   "metadata": {},
   "source": [
    "Meest betaalde speler die links speelt"
   ]
  },
  {
   "cell_type": "code",
   "execution_count": 220,
   "id": "507b9d66",
   "metadata": {},
   "outputs": [
    {
     "data": {
      "text/html": [
       "<style  type=\"text/css\" >\n",
       "</style><table id=\"T_ef443_\" ><thead>    <tr>        <th class=\"blank level0\" ></th>        <th class=\"col_heading level0 col0\" >wage_eur</th>        <th class=\"col_heading level0 col1\" >age</th>        <th class=\"col_heading level0 col2\" >overall</th>        <th class=\"col_heading level0 col3\" >club_name</th>        <th class=\"col_heading level0 col4\" >preferred_foot</th>    </tr>    <tr>        <th class=\"index_name level0\" >name</th>        <th class=\"blank\" ></th>        <th class=\"blank\" ></th>        <th class=\"blank\" ></th>        <th class=\"blank\" ></th>        <th class=\"blank\" ></th>    </tr></thead><tbody>\n",
       "                <tr>\n",
       "                        <th id=\"T_ef443_level0_row0\" class=\"row_heading level0 row0\" >Lionel Andrés Messi Cuccittini</th>\n",
       "                        <td id=\"T_ef443_row0_col0\" class=\"data row0 col0\" >560000</td>\n",
       "                        <td id=\"T_ef443_row0_col1\" class=\"data row0 col1\" >33</td>\n",
       "                        <td id=\"T_ef443_row0_col2\" class=\"data row0 col2\" >93</td>\n",
       "                        <td id=\"T_ef443_row0_col3\" class=\"data row0 col3\" >FC Barcelona</td>\n",
       "                        <td id=\"T_ef443_row0_col4\" class=\"data row0 col4\" >Left</td>\n",
       "            </tr>\n",
       "    </tbody></table>"
      ],
      "text/plain": [
       "<pandas.io.formats.style.Styler at 0x2869db2d040>"
      ]
     },
     "execution_count": 220,
     "metadata": {},
     "output_type": "execute_result"
    }
   ],
   "source": [
    "meest_betaald = loon.sort_values('wage_eur',ascending=False)[['name','wage_eur','age','overall','club_name', 'preferred_foot']].set_index('name').head(1)\n",
    "meest_betaald.style"
   ]
  },
  {
   "cell_type": "markdown",
   "id": "df4613f5",
   "metadata": {},
   "source": [
    "## Conclusie"
   ]
  },
  {
   "cell_type": "markdown",
   "id": "e5fcc195",
   "metadata": {},
   "source": [
    "We zien dat Frankrijk gemiddeld de jongste spelers heeft. Paris Saint-Germain is niet de club met gemiddeld de jongste spelers. Spanje is de land met gemiddeld de oudste spelers. Maar Barcelona heeft gemiddeld de jongste spelers. We zien dat Messi de meest verdiende speler is. Ook speelt hij met links. Wat Messi dus best unique maakt."
   ]
  },
  {
   "cell_type": "code",
   "execution_count": null,
   "id": "1255375f",
   "metadata": {},
   "outputs": [],
   "source": []
  }
 ],
 "metadata": {
  "kernelspec": {
   "display_name": "Python 3 (ipykernel)",
   "language": "python",
   "name": "python3"
  },
  "language_info": {
   "codemirror_mode": {
    "name": "ipython",
    "version": 3
   },
   "file_extension": ".py",
   "mimetype": "text/x-python",
   "name": "python",
   "nbconvert_exporter": "python",
   "pygments_lexer": "ipython3",
   "version": "3.9.5"
  }
 },
 "nbformat": 4,
 "nbformat_minor": 5
}
